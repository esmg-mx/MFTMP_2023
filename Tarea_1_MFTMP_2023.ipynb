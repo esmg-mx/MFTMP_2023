{
  "nbformat": 4,
  "nbformat_minor": 0,
  "metadata": {
    "colab": {
      "provenance": [],
      "authorship_tag": "ABX9TyNFDSVNvm9Zu1veUK+z7aDB",
      "include_colab_link": true
    },
    "kernelspec": {
      "name": "python3",
      "display_name": "Python 3"
    },
    "language_info": {
      "name": "python"
    }
  },
  "cells": [
    {
      "cell_type": "markdown",
      "metadata": {
        "id": "view-in-github",
        "colab_type": "text"
      },
      "source": [
        "<a href=\"https://colab.research.google.com/github/smoralesc91/MFTMP_2023/blob/main/Tarea_1_MFTMP_2023.ipynb\" target=\"_parent\"><img src=\"https://colab.research.google.com/assets/colab-badge.svg\" alt=\"Open In Colab\"/></a>"
      ]
    },
    {
      "cell_type": "markdown",
      "source": [
        "# Tarea 1\n",
        "\n",
        "**Curso de Modelación Matemática, Numérica y Computacional de Flujo y Transporte en Medios Porosos**\n",
        "\n",
        "Profesores: Dr. Martín A. Díaz Viera, M. en C. Sinai Morales Chávez y M. en C. Jesús Carmona Pérez\n"
      ],
      "metadata": {
        "id": "Y3tpQW0lSHqD"
      }
    },
    {
      "cell_type": "markdown",
      "source": [
        "Dado el siguiente problema con condiciones de frontera:\n",
        "\n",
        "$$ - \\Delta u(\\underline{x}) = f(\\underline{x}), \\, \\forall \\underline{x} \\in \\Omega  $$\n",
        "\n",
        "$$ u(\\underline{x}) = u_\\partial (\\underline{x}), \\, \\forall \\underline{x} \\in \\partial \\Omega $$\n",
        "\n",
        "donde\n",
        "\n",
        "- $\\Omega=[0,a]\\times[0,b]$ es el dominio, \n",
        "- $u_\\partial(\\underline{x})=u_e(\\underline{x})$  es la condición de frontera en $\\partial\\Omega$,\n",
        "- $u_e (x)$ es la solución exacta.\n",
        "\n",
        "\n"
      ],
      "metadata": {
        "id": "dcjBLdDJS8e2"
      }
    },
    {
      "cell_type": "markdown",
      "source": [
        "1. A partir de la solución exacta $u_e$ obtener el término derecho $f$ y la condición de frontera $u_\\partial$. \n",
        "2. Implementar la solución numérica del problema usando FEniCS con Python en un cuaderno (notebook) en Jupyter donde se describan cada uno de los pasos de la implementación. \n",
        "3. Graficar las solución numérica y la exacta a lo largo perfiles en la dirección $x$ en $y=b/2$ y en la dirección $y$ en $x=a/2$.\n",
        "4. Obtener el error de la  solución numérica con respecto a la exacta en la norma infinito.\n",
        "5. Graficar la solución numérica en 2D. Se sugiere usar Paraview.\n"
      ],
      "metadata": {
        "id": "KfwMyIsdVsu6"
      }
    },
    {
      "cell_type": "markdown",
      "source": [
        "Nota: Los datos del problema se seleccionan de la siguiente tabla con el número de lista del estudiante.  \n",
        "\n",
        "| No. lista | a | b |           $u_e$          |\n",
        "|:---------:|:-:|:-:|:------------------------:|\n",
        "|     1     | 1 | 1 | $\\sin(\\pi x)\\sin(\\pi y)$ |\n",
        "|     2     | 1 | 2 | $\\cos(\\pi x)\\sin(\\pi y)$ |\n",
        "|     3     | 2 | 1 | $\\sin(\\pi x)\\cos(\\pi y)$ |\n",
        "|     4     | 2 | 2 | $\\cos(\\pi x)\\cos(\\pi y)$ |"
      ],
      "metadata": {
        "id": "GkBnSpaeWh53"
      }
    },
    {
      "cell_type": "markdown",
      "source": [
        "## Solución"
      ],
      "metadata": {
        "id": "-yYnYXnQZGXf"
      }
    },
    {
      "cell_type": "markdown",
      "source": [
        "El problema también se puede reescibir como:\n",
        "\n",
        "$$ - \\nabla^2 u(\\underline{x}) = f(\\underline{x}), \\, \\forall \\underline{x} \\in \\Omega  $$\n",
        "\n",
        "$$ u(\\underline{x}) = u_\\partial (\\underline{x}), \\, \\forall \\underline{x} \\in \\partial \\Omega $$\n",
        "\n",
        "donde\n",
        "\n",
        "- $\\Omega=[0,a]\\times[0,b]$ es el dominio, \n",
        "- $u_\\partial(\\underline{x})=u_e(\\underline{x})$  es la condición de frontera en $\\partial\\Omega$,\n",
        "- $u_e (x)$ es la solución exacta.\n",
        "\n",
        "Para convertir la ecuación en un problema variacional multiplicamos a la ecuación por una función $v$, integramos la ecuación sobre el dominio $\\Omega$ y realizamos una integración por partes de los términos con las derivadas de segundo orden. De tal manera que:\n",
        "\n",
        "$$ - \\int_\\Omega (\\nabla^2 u) v \\, dx = \\int_\\Omega f v \\, dx$$\n",
        "\n",
        "Para mantener el orden de las derivadas de $u$ y $v$ ñp más pequeño posible, transformamos la derivada espacial de segundo orden de $u$ y $v$ en una derivada de primer orden aplicando la técnica de intgración por partes. La fórmula es:\n",
        "\n",
        "$$ -\\int_\\Omega (\\nabla^2 u)v \\, dx = \\int_\\Omega \\nabla u \\cdot \\nabla v \\, dx - \\int_{\\partial \\Omega} $$\n",
        "\n",
        "\n",
        "\n",
        "\n"
      ],
      "metadata": {
        "id": "LVxL4ts3ZYBg"
      }
    },
    {
      "cell_type": "code",
      "execution_count": null,
      "metadata": {
        "id": "rC15Yu7VRehe"
      },
      "outputs": [],
      "source": []
    }
  ]
}