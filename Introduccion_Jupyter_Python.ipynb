{
 "cells": [
  {
   "cell_type": "markdown",
   "id": "5754eb1a",
   "metadata": {},
   "source": [
    "# Introducción a Jupyter y Python\n",
    "\n",
    "**Curso de Modelación Matemática, Numérica y Computacional de Flujo y Transporte en Medios Porosos**\n",
    "\n",
    "Profesores: Dr. Martín A. Díaz Viera, M. en C. Sinai Morales Chávez y M. en C. Jesús Carmona Pérez"
   ]
  },
  {
   "cell_type": "markdown",
   "id": "8e911849",
   "metadata": {},
   "source": [
    "Diferentes opciones para instalar Jupyter y Python se pueden consultar en [Instrucciones FEniCS.pdf]()."
   ]
  },
  {
   "cell_type": "markdown",
   "id": "8e549eb4",
   "metadata": {},
   "source": [
    "## Jupyter\n",
    "\n",
    "Jupyter es un Entorno de Desarrollo Integrado (EDI) o Integrated Development Enviroment (IDE) que contiene herramientas para facilitar la edición de código fuente, construcciones automáticas y depurado. A diferencia de otros IDE, los cuadernos de trabajo de Jupyter (Jupyter notebook) permite combinar texto, código y visualizar los resultados de una manera interactiva mediante celdas, lo cual resulta mucho más fácil de analizar resultados y compartirlos facilmente. Para más información acerca de Jupyter se recomienda visitar la [documentación de Jupyter](https://jupyter.readthedocs.io/en/latest/index.html)."
   ]
  },
  {
   "cell_type": "markdown",
   "id": "e1b0b6e7",
   "metadata": {},
   "source": [
    "### Iniciando Jupyter\n",
    "\n",
    "Utilizando Google Colab:\n",
    "- Abrir el navegador de internet\n",
    "- Abrir el enlace https://colab.research.google.com/\n",
    "- Seleccionar la opción `New notebook`\n",
    "\n",
    "Utilizando Linux (gestor de paquetes Conda):\n",
    "- Abrir una terminal con `Ctrl + Alt + T`\n",
    "- Activar el ambiente de trabajo: `conda activate _nombre_`\n",
    "- Ingresar: `jupyter notebook`\n",
    "- Se abrirá el navegador predeterminado y se mostrará la página principal también llamda **pizarrón** o **dashboard**. Para comenzar a trabajar con orden se recomienda crear una nueva carpeta de trabajo seleccionando `New`->`Folder`\n",
    "- Ahora, para crear un cuaderno de trabajo ingresamos a la carpeta creada y seleccionamos `New`->`Python 3 (ipykernel)` o el lenguaje con el que se vaya a trabajar (puede ser Pyhton, R, ect.)\n",
    "\n",
    "Los cuadernos creados en Jupyter tendran una extensión `.ipynb`. Para cambiar el nombre del cuaderno hay dos opciones:\n",
    "- `File` -> `Save as...` o `File` -> `Rename`\n",
    "- Colocar el puntero en la parte superior izquiera, a un lado del símbolo de Jupyter, en el título `Untilted`, por último pulsar click izquierdo para cambiar el nombre\n"
   ]
  },
  {
   "cell_type": "markdown",
   "id": "d1074df6",
   "metadata": {},
   "source": [
    "### Celdas en Jupyter\n",
    "\n",
    "Los cuadernos de trabajo de Jupyter se dividen en **celdas**, las cuales son de dos tipos:\n",
    "\n",
    "- **Celdas de código**: son celdas que permiten escribir y editar código en el lenguaje con el que se va a trabajar durante el proyecto.\n",
    "- **Celdas de texto**: son celdas que no se ejecutan pero que permiten escribir texto para comentar o describir tú trabajo. Además, resulta de mucha utilidad porque permite escribir ecuaciones en el lenjuage de $\\LaTeX$.\n",
    "\n",
    "Para conocer más utilidades con las celdas de texto, se recomienda visitar este [enlace](https://jupyter-notebook.readthedocs.io/en/stable/examples/Notebook/Working%20With%20Markdown%20Cells.html).\n",
    "\n",
    "#### Comandos de utilidad:\n",
    "- Ejecutar una celda: `Ctrl + Intro`\n",
    "- Ejecutar una celda y seleccionar la de abajo: `Shift + Intro`\n",
    "- Ejecutar una celda y crear una nueva celda abajo: `Alt + Intro`\n",
    "- Crear una nueva celda: `Esc + B`\n",
    "- Convertir una celda a celda de código: `Esc + Y`\n",
    "- Convertir una celda a celda de texto: `Esc + M`\n",
    "- Eliminar una celda: `Esc + X`\n",
    "- Información acerca de una función: `Shift + Tab`\n",
    "- Completar variables: `Tab`\n",
    "\n",
    "#### Ecuaciones en celdas de texto:\n",
    "- Escribir ecuación entre los símbolos `$ ecuacion $`: $f(x) = x^2 + 3$ \n",
    "\n",
    "Para más información acerca del lenguaje matemático de $\\LaTeX$, se recomienda visitar el siguiente [enlace](https://www.overleaf.com/learn/latex/Mathematical_expressions)."
   ]
  },
  {
   "cell_type": "markdown",
   "id": "9bae0b12",
   "metadata": {},
   "source": [
    "## Python\n",
    "\n",
    "Es un lenguaje de programación interpretado, interactivo y orientado a objetos. Cuenta con numerosas bibliotecas fáciles de implementar que hacen de Python robusto y poderoso."
   ]
  },
  {
   "cell_type": "markdown",
   "id": "659f81e8",
   "metadata": {},
   "source": [
    "### Variables\n",
    "\n",
    "Una variable es una forma de identificar, un dato que se encuentra almacenado en la memoria del ordenador. Nos permite acceder fácilmente a dicho dato para ser manipulado y transformado. \n",
    "\n",
    "Una variable en Python puede escribirse casi con cualquier letra o palabra. Sin embargo, existen ciertas restricciones al momento de definirlar, como carácteres especiales que no se pueden emplear y '*palabras reservadas*' .\n",
    "\n",
    "Como regla general, una variable no debe de iniciar con un número. Tampoco debe de contener alguno de los siguientes caractéres, por ejemplo: `# $ ! % & / ( ) [ ] { } ' \" - + * ? :  ; , . `\n",
    "\n",
    "Además, existen '*palabras reservadas*' que tampoco se pueden utilizar como nombres de variables. Algunas son:\n",
    "\n",
    "\\begin{array}{|c|c|c|c|} \n",
    "False & True   & and      & or    \\\\ \n",
    "not   & break  & continue & class \\\\\n",
    "def   & if     & elif     & else  \\\\ \n",
    "for   & while  & in       & is    \\\\ \n",
    "None  & lambda & return   &      \n",
    "\\end{array}\n",
    "\n",
    "Una variable puede ser de tres tipos:\n",
    "\n",
    "- entero o integer: 'int' \n",
    "- decimal o 'float'\n",
    "- caracter o string: 'str'; es inmutable pero si iterable\n",
    "\n",
    "Ejemplo:"
   ]
  },
  {
   "cell_type": "code",
   "execution_count": 1,
   "id": "00cf6afc",
   "metadata": {
    "ExecuteTime": {
     "end_time": "2023-03-31T18:36:05.910671Z",
     "start_time": "2023-03-31T18:36:05.904244Z"
    }
   },
   "outputs": [
    {
     "name": "stdout",
     "output_type": "stream",
     "text": [
      "5 <class 'int'>\n",
      "2.0 <class 'float'>\n",
      "10 <class 'str'>\n"
     ]
    }
   ],
   "source": [
    "a = 5\n",
    "b = 2.0\n",
    "c = '10'\n",
    "\n",
    "print(a, type(a))\n",
    "print(b, type(b))\n",
    "print(c, type(c))"
   ]
  },
  {
   "cell_type": "markdown",
   "id": "831513f9",
   "metadata": {},
   "source": [
    "Es posible convertir el tipo de variable entre ellas con las funciones: `int()`, `float()`, `str()`.\n",
    "\n",
    "Ejemplo:"
   ]
  },
  {
   "cell_type": "code",
   "execution_count": 67,
   "id": "8aafccfd",
   "metadata": {
    "ExecuteTime": {
     "end_time": "2023-03-27T18:58:54.921414Z",
     "start_time": "2023-03-27T18:58:54.914459Z"
    }
   },
   "outputs": [
    {
     "name": "stdout",
     "output_type": "stream",
     "text": [
      "5.0 <class 'float'>\n",
      "2 <class 'int'>\n",
      "5 <class 'str'>\n"
     ]
    }
   ],
   "source": [
    "# entero a decimal\n",
    "\n",
    "entero_decimal = float(a)\n",
    "\n",
    "print(entero_decimal, type(entero_decimal))\n",
    "\n",
    "# decimal a entero\n",
    "\n",
    "decimal_entero = int(b)\n",
    "print(decimal_entero, type(decimal_entero))\n",
    "\n",
    "# entero a caracter\n",
    "\n",
    "entero_caracter = str(a)\n",
    "print(entero_caracter, type(entero_caracter))"
   ]
  },
  {
   "cell_type": "markdown",
   "id": "0f3b14e6",
   "metadata": {},
   "source": [
    "Cabe mencionar que no es posible realizar operaciones entre 'caracter' y 'enteros' o 'decimales'. Pero si entre 'enteros' y 'decimales'."
   ]
  },
  {
   "cell_type": "markdown",
   "id": "db7bf924",
   "metadata": {},
   "source": [
    "### Formatos de salida"
   ]
  },
  {
   "cell_type": "code",
   "execution_count": 81,
   "id": "1c8ec4a9",
   "metadata": {
    "ExecuteTime": {
     "end_time": "2023-03-31T20:12:30.095563Z",
     "start_time": "2023-03-31T20:12:30.090485Z"
    }
   },
   "outputs": [
    {
     "name": "stdout",
     "output_type": "stream",
     "text": [
      "Flotante con 2 decimales: 321.24\n",
      "Flotante con 3 decimales: 321.236 \n",
      "Flotante en notación exponencial con un decimal: 3.2124e+02\n"
     ]
    }
   ],
   "source": [
    "print('Flotante con 2 decimales: %.2f'%321.23576589)\n",
    "\n",
    "print('Flotante con 3 decimales: {0:.3f} '.format(321.23576589))\n",
    "\n",
    "print('Flotante en notación exponencial con un decimal: {0:.4e}'.format(321.23576589))"
   ]
  },
  {
   "cell_type": "markdown",
   "id": "ebb2ce05",
   "metadata": {},
   "source": [
    "### Operaciones básicas\n",
    "\n",
    "Las operaciones básicas como adición, substracción, multiplicación o división se realizan de la siguiente manera:"
   ]
  },
  {
   "cell_type": "code",
   "execution_count": 92,
   "id": "e6886a1b",
   "metadata": {
    "ExecuteTime": {
     "end_time": "2023-03-31T20:53:57.121568Z",
     "start_time": "2023-03-31T20:53:57.112793Z"
    }
   },
   "outputs": [
    {
     "name": "stdout",
     "output_type": "stream",
     "text": [
      "suma: -3.0\n",
      "resta: -7.0\n",
      "division: -2.5000\n",
      "multiplicacion: -10.0 \n",
      "potencia: 25.0\n",
      "residuo: 1.0\n",
      "absoluto: 5\n"
     ]
    }
   ],
   "source": [
    "a = -5\n",
    "b = 2.0\n",
    "\n",
    "suma = a + b\n",
    "\n",
    "resta = a - b\n",
    "\n",
    "division = a / b\n",
    "\n",
    "multiplicacion = a * b\n",
    "\n",
    "potencia = a ** b\n",
    "\n",
    "residuo = a % b\n",
    "\n",
    "absoluto = abs(a)\n",
    "\n",
    "print('suma:', suma)\n",
    "print('resta:', resta)\n",
    "print('division: {:.4f}'.format(division))\n",
    "print('multiplicacion:', multiplicacion, '\\n' 'potencia:', potencia)\n",
    "print(f'residuo: {residuo}')\n",
    "print('absoluto:', absoluto)"
   ]
  },
  {
   "cell_type": "markdown",
   "id": "9a208527",
   "metadata": {},
   "source": [
    "### Operadores de comparación y lógicos\n",
    "\n",
    "Los operadores de comparación son operadores que regresan valores booleanos. Son importantes para flujo de control en ciclos `if`. \n",
    "\n",
    "\\begin{array}{|c|l|} \\hline\n",
    "Símbolo  & Operación      \\\\ \\hline\n",
    "<        & \\text{Menor que} \\\\ \\hline\n",
    ">        & \\text{Mayor que} \\\\ \\hline\n",
    "<=       & \\text{Menor o igual que}\\\\ \\hline\n",
    ">=       & \\text{Mayor o igual que} \\\\ \\hline\n",
    "==       & \\text{Igual a}\\\\ \\hline\n",
    "=!       & \\text{Diferente de}\\\\ \\hline\n",
    "\\end{array}"
   ]
  },
  {
   "cell_type": "code",
   "execution_count": 98,
   "id": "c0784a92",
   "metadata": {
    "ExecuteTime": {
     "end_time": "2023-03-31T20:56:21.736405Z",
     "start_time": "2023-03-31T20:56:21.729500Z"
    }
   },
   "outputs": [
    {
     "name": "stdout",
     "output_type": "stream",
     "text": [
      "a = 1, b = 2.0, c  = '1' \n",
      "a > b,  False\n",
      "a < b,  True\n",
      "a == c, False\n",
      "a != c, True\n"
     ]
    }
   ],
   "source": [
    "a = 1 \n",
    "b = 2.0\n",
    "c = '1'\n",
    "\n",
    "print('a = {}, b = {}, c  = \\'{}\\' '.format(a,b,c))\n",
    "\n",
    "print('a > b,  {}'.format(a > b))\n",
    "\n",
    "print('a < b,  {}'.format(a < b))\n",
    "\n",
    "print('a == c, {}'.format(a == c))\n",
    "\n",
    "print('a != c, {}'.format(a != c))"
   ]
  },
  {
   "cell_type": "markdown",
   "id": "039dfdec",
   "metadata": {},
   "source": [
    "Los operadores lógicos se pueden usar en conjunto con las expresiones booleanas para crear condiciones mas complejas.\n",
    "\n",
    "\\begin{array}{|c|l|} \\hline\n",
    "Operador  & Descripción     \\\\ \\hline\n",
    "and       & \\text{Es verdadero si ambas condiciones son ciertas. Es falso si alguna de las 2 conciciones son falsas} \\\\ \\hline\n",
    "or        & \\text{Es verdadero si una de las 2 condiciones son ciertas. Es falso si las 2 condiciones son falsas } \\\\ \\hline\n",
    "not        & \\text{Es verdadero si el valor a prueba es falso. Es falso su el valor a evaluar es verdadero} \\\\ \\hline\n",
    "\\end{array}"
   ]
  },
  {
   "cell_type": "code",
   "execution_count": 95,
   "id": "9b6d2f91",
   "metadata": {
    "ExecuteTime": {
     "end_time": "2023-03-31T20:55:32.703182Z",
     "start_time": "2023-03-31T20:55:32.694919Z"
    }
   },
   "outputs": [
    {
     "name": "stdout",
     "output_type": "stream",
     "text": [
      "False\n",
      "True\n",
      "True\n",
      "True\n"
     ]
    }
   ],
   "source": [
    "a = 5\n",
    "b = 3\n",
    "c = 1\n",
    "d = 1.001\n",
    "\n",
    "print(a>b and b>a)\n",
    "\n",
    "print(a>b and c<d)\n",
    "\n",
    "print(a>b or b>a)\n",
    "\n",
    "print(not(a>b and b>a))"
   ]
  },
  {
   "cell_type": "markdown",
   "id": "b8adbbb4",
   "metadata": {},
   "source": [
    "Los resultados `True` y `False` se conocen como booleanos o tipos de dato booleano. Una expresión booleana o expresión lógica es evaluada como verdadera (`True`) o falsa (`False`)."
   ]
  },
  {
   "cell_type": "code",
   "execution_count": 47,
   "id": "b9fbe350",
   "metadata": {
    "ExecuteTime": {
     "end_time": "2023-04-07T03:00:14.980374Z",
     "start_time": "2023-04-07T03:00:14.951145Z"
    }
   },
   "outputs": [
    {
     "data": {
      "text/plain": [
       "False"
      ]
     },
     "execution_count": 47,
     "metadata": {},
     "output_type": "execute_result"
    }
   ],
   "source": [
    "not True"
   ]
  },
  {
   "cell_type": "markdown",
   "id": "706421df",
   "metadata": {},
   "source": [
    "### Condicionales\n",
    "\n",
    "Un condicional permite modificar el flujo de un programa cuando determinadas operaciones si cumplen ciertas condiciones, o en caso contrario que se cumplan otras condiciones.\n",
    "\n",
    "El principar condicional empleado en Python es `if`.  `if ` nos ayuda a establecer cuando la condición sea verdadera, en caso contrario podemos utilizar un `else` para indicar que hacer. La condición es una expresión booleana que se evalúa como verdadera (`True`) o falsa (`False`).\n",
    "\n",
    "Su sintaxis es la siguiente:"
   ]
  },
  {
   "cell_type": "raw",
   "id": "146aaf52",
   "metadata": {},
   "source": [
    "if <condición>:\n",
    "    <Tú codigo>\n",
    "else:\n",
    "    <Tú código>"
   ]
  },
  {
   "cell_type": "markdown",
   "id": "62dc7166",
   "metadata": {},
   "source": [
    "Es importante no perder de vista la **identación** o sangría en el código, es decir, los espacios necesarios para que la estructura del código sea la correcta. La identación puede hacerse con el tabulador, o con la barra espaciadora. En caso de utilizar la barra espaciadora, se recomiendan 4 espacios para identificar la identación, aunque no es obligatorio ya que se puede utilizar cualquier cantidad de espacios, sin embargo es neceario siempre usar el mismo número de espacios en todo el código. Se recomienda siempre utilizar el tabulador."
   ]
  },
  {
   "cell_type": "code",
   "execution_count": 50,
   "id": "087de71c",
   "metadata": {
    "ExecuteTime": {
     "end_time": "2023-04-07T03:05:33.907723Z",
     "start_time": "2023-04-07T03:05:33.902854Z"
    }
   },
   "outputs": [
    {
     "name": "stdout",
     "output_type": "stream",
     "text": [
      "y es mayor que x\n"
     ]
    }
   ],
   "source": [
    "x = 1\n",
    "y = 2\n",
    "\n",
    "if x > y:\n",
    "    print('x es mayor que y')\n",
    "else:\n",
    "    print('y es mayor que x')"
   ]
  },
  {
   "cell_type": "markdown",
   "id": "57375ba2",
   "metadata": {},
   "source": [
    "Para añadir una condición adicional se utiliza `elif`. Su sintaxis es la siguiente:"
   ]
  },
  {
   "cell_type": "raw",
   "id": "87059d1b",
   "metadata": {},
   "source": [
    "if <condición>:\n",
    "    <Tú código>\n",
    "elif <otra condición>:\n",
    "    <Tú código>\n",
    "else:\n",
    "    <Tú código>"
   ]
  },
  {
   "cell_type": "code",
   "execution_count": 55,
   "id": "3c9f15c6",
   "metadata": {
    "ExecuteTime": {
     "end_time": "2023-04-07T03:11:25.643921Z",
     "start_time": "2023-04-07T03:11:25.639597Z"
    }
   },
   "outputs": [
    {
     "name": "stdout",
     "output_type": "stream",
     "text": [
      "x es igual a y\n"
     ]
    }
   ],
   "source": [
    "x = 1\n",
    "y = 1\n",
    "\n",
    "if x > y:\n",
    "    print(\"x es mayor que y\")\n",
    "elif x == y:\n",
    "    print(\"x es igual a y\")\n",
    "else:\n",
    "    print(\"y es mayor que x\")"
   ]
  },
  {
   "cell_type": "code",
   "execution_count": 71,
   "id": "7d931c66",
   "metadata": {
    "ExecuteTime": {
     "end_time": "2023-04-07T03:33:37.467086Z",
     "start_time": "2023-04-07T03:33:37.463206Z"
    }
   },
   "outputs": [
    {
     "name": "stdout",
     "output_type": "stream",
     "text": [
      "Seguir...\n"
     ]
    }
   ],
   "source": [
    "if x:\n",
    "    pass\n",
    "print('Seguir...')"
   ]
  },
  {
   "cell_type": "markdown",
   "id": "072a79a7",
   "metadata": {},
   "source": [
    "La sentencia `pass` actúa como un marcador que hace que el interprete no lance un error y siga su secuencia el código, esto se verá nuevamente más adelante."
   ]
  },
  {
   "cell_type": "markdown",
   "id": "ebf8fe09",
   "metadata": {},
   "source": [
    "#### Condicionales anidados\n",
    "\n",
    "Es posible definir condicionales dentro de condicionales."
   ]
  },
  {
   "cell_type": "code",
   "execution_count": 67,
   "id": "244f4c56",
   "metadata": {
    "ExecuteTime": {
     "end_time": "2023-04-07T03:19:24.229340Z",
     "start_time": "2023-04-07T03:19:24.223130Z"
    }
   },
   "outputs": [
    {
     "name": "stdout",
     "output_type": "stream",
     "text": [
      "x es mayor que 20\n"
     ]
    }
   ],
   "source": [
    "x = 30\n",
    "\n",
    "if x > 5:\n",
    "    if x > 10:\n",
    "        if x > 20:\n",
    "            print(\"x es mayor que 20\")\n",
    "        else:\n",
    "            print(\"x es mayor que 10 pero menor de 20\")"
   ]
  },
  {
   "cell_type": "markdown",
   "id": "69d64226",
   "metadata": {},
   "source": [
    "### Bucles\n",
    "\n",
    "Son una de las principales estructuras de control. Nos permiten repetir una sentencia tantas veces como sea necesario. Los dos principales son: `while` y `for`."
   ]
  },
  {
   "cell_type": "markdown",
   "id": "270e5280",
   "metadata": {},
   "source": [
    "#### while\n",
    "\n",
    "Ejecuta una porción de código una y otra vez hasta que la condición especificada sea falsa.\n",
    "\n",
    "Su sintaxis es la siguiente:"
   ]
  },
  {
   "cell_type": "raw",
   "id": "e42380a7",
   "metadata": {},
   "source": [
    "while <condición>:\n",
    "    <Tú código>\n",
    "    <condición en caso de ser verdadero>"
   ]
  },
  {
   "cell_type": "code",
   "execution_count": 12,
   "id": "25e3b2db",
   "metadata": {
    "ExecuteTime": {
     "end_time": "2023-04-05T18:44:46.305752Z",
     "start_time": "2023-04-05T18:44:46.298912Z"
    }
   },
   "outputs": [
    {
     "name": "stdout",
     "output_type": "stream",
     "text": [
      "1 Prueba while\n",
      "2 Prueba while\n",
      "3 Prueba while\n",
      "4 Prueba while\n",
      "5 Prueba while\n",
      "6 Prueba while\n",
      "7 Prueba while\n",
      "8 Prueba while\n",
      "9 Prueba while\n"
     ]
    }
   ],
   "source": [
    "a = 1\n",
    "while a < 10:\n",
    "    print(a, 'Prueba while')\n",
    "    a = a + 1"
   ]
  },
  {
   "cell_type": "code",
   "execution_count": 15,
   "id": "5df13217",
   "metadata": {
    "ExecuteTime": {
     "end_time": "2023-04-05T18:45:35.074242Z",
     "start_time": "2023-04-05T18:45:35.066322Z"
    }
   },
   "outputs": [
    {
     "name": "stdout",
     "output_type": "stream",
     "text": [
      "1 Prueba while\n",
      "2 Prueba while\n",
      "3 Prueba while\n",
      "4 Prueba while\n",
      "5 Prueba while\n",
      "6 Prueba while\n",
      "7 Prueba while\n",
      "8 Prueba while\n",
      "9 Prueba while\n",
      "10 Prueba while\n"
     ]
    }
   ],
   "source": [
    "a = 1\n",
    "while a <= 10:\n",
    "    print(a, 'Prueba while')\n",
    "    a += 1"
   ]
  },
  {
   "cell_type": "code",
   "execution_count": 26,
   "id": "caecf6e2",
   "metadata": {
    "ExecuteTime": {
     "end_time": "2023-04-05T18:57:55.178024Z",
     "start_time": "2023-04-05T18:57:55.172074Z"
    }
   },
   "outputs": [
    {
     "name": "stdout",
     "output_type": "stream",
     "text": [
      "1 <class 'int'>\n",
      "2 <class 'str'>\n",
      "3.0 <class 'float'>\n",
      "4 <class 'int'>\n"
     ]
    }
   ],
   "source": [
    "lista = [1, '2', 3.0, 4]\n",
    "i = 0\n",
    "\n",
    "while i < len(lista):\n",
    "    print(lista[i], type(lista[i]))\n",
    "    i += 1"
   ]
  },
  {
   "cell_type": "markdown",
   "id": "584ea473",
   "metadata": {},
   "source": [
    "Cuando escribimos un bucle `while` es necesario siempre especificar la ecuación o condición nueva para la que se cumpla el bucle, en caso de no hacerlo se creará un bucle infinito, por ejemplo:"
   ]
  },
  {
   "cell_type": "raw",
   "id": "3a0d8ab8",
   "metadata": {},
   "source": [
    "while i < 10:\n",
    "    print('inifinito')"
   ]
  },
  {
   "cell_type": "markdown",
   "id": "3d2e968c",
   "metadata": {},
   "source": [
    "#### for\n",
    "\n",
    "Repiten una porción de código para un conjunto de valores. Establece la variable iteradora en cada valor de una lista, arreglo o cadena proporcionada y repite el código en el cuerpo del bucle para cada valor de la variable iteradora. \n",
    "\n",
    "Su sintaxis es la siguiente:"
   ]
  },
  {
   "cell_type": "raw",
   "id": "aac5d034",
   "metadata": {},
   "source": [
    "for <elemento> in <iterable>:\n",
    "    <Tu código>"
   ]
  },
  {
   "cell_type": "markdown",
   "id": "c160fd98",
   "metadata": {},
   "source": [
    "`elemento` es la variable que toma el valor del elemento dentro del iterador en cada paso del bucle. Este finaliza su ejecución cuando se recorren todos los elementos. Un `iterable` es un objeto que se permite recorrer sus elementos uno a uno. En Python, los contenedores y los caracteres son iterables, por lo que pueden ser usados en el bucle `for`."
   ]
  },
  {
   "cell_type": "code",
   "execution_count": 3,
   "id": "babcfec3",
   "metadata": {
    "ExecuteTime": {
     "end_time": "2023-04-05T23:32:37.688248Z",
     "start_time": "2023-04-05T23:32:37.679310Z"
    }
   },
   "outputs": [
    {
     "name": "stdout",
     "output_type": "stream",
     "text": [
      "1 <class 'int'>\n",
      "2 <class 'str'>\n",
      "3.0 <class 'float'>\n",
      "4 <class 'int'>\n"
     ]
    }
   ],
   "source": [
    "lista = [1, '2', 3.0, 4]\n",
    "\n",
    "for lista in lista:\n",
    "    print(lista, type(lista))"
   ]
  },
  {
   "cell_type": "code",
   "execution_count": 10,
   "id": "a92c1b16",
   "metadata": {
    "ExecuteTime": {
     "end_time": "2023-04-05T23:33:50.733567Z",
     "start_time": "2023-04-05T23:33:50.721904Z"
    }
   },
   "outputs": [
    {
     "name": "stdout",
     "output_type": "stream",
     "text": [
      "e,s,t,e, ,e,s, ,u,n, ,s,t,r,i,n,g, ,o, ,c,a,r,a,c,t,e,r,"
     ]
    }
   ],
   "source": [
    "caracter = 'este es un string o caracter'\n",
    "for i in caracter:\n",
    "    print(i, end=',')\n"
   ]
  },
  {
   "cell_type": "code",
   "execution_count": 107,
   "id": "381c4403",
   "metadata": {
    "ExecuteTime": {
     "end_time": "2023-04-05T20:05:48.168742Z",
     "start_time": "2023-04-05T20:05:48.159665Z"
    }
   },
   "outputs": [
    {
     "name": "stdout",
     "output_type": "stream",
     "text": [
      "2 <class 'int'>\n",
      "4 <class 'int'>\n",
      "6 <class 'int'>\n",
      "8 <class 'int'>\n"
     ]
    }
   ],
   "source": [
    "numeros = [1, 2, 3, 4]\n",
    "\n",
    "for n in numeros:\n",
    "    x = n*2\n",
    "    print(x, type(x))"
   ]
  },
  {
   "cell_type": "code",
   "execution_count": 108,
   "id": "22546c4e",
   "metadata": {
    "ExecuteTime": {
     "end_time": "2023-04-05T20:05:48.731047Z",
     "start_time": "2023-04-05T20:05:48.725843Z"
    }
   },
   "outputs": [
    {
     "name": "stdout",
     "output_type": "stream",
     "text": [
      "4,7,10,13,"
     ]
    }
   ],
   "source": [
    "for i in numeros:\n",
    "    x = i*2 + (i+1)\n",
    "    print(x, end=',')"
   ]
  },
  {
   "cell_type": "markdown",
   "id": "11c4f822",
   "metadata": {},
   "source": [
    "Cuando los valores de un arreglo para nuestro bucle son secuenciales, podemos utilizar la función `range()`. `range()` proporciona una secuencia de enteros basada en los argumentos de la función."
   ]
  },
  {
   "cell_type": "code",
   "execution_count": 68,
   "id": "87ca8563",
   "metadata": {
    "ExecuteTime": {
     "end_time": "2023-04-05T19:30:57.453144Z",
     "start_time": "2023-04-05T19:30:57.406826Z"
    }
   },
   "outputs": [
    {
     "data": {
      "text/plain": [
       "[0, 1, 2, 3, 4]"
      ]
     },
     "execution_count": 68,
     "metadata": {},
     "output_type": "execute_result"
    }
   ],
   "source": [
    "list(range(5))"
   ]
  },
  {
   "cell_type": "code",
   "execution_count": 72,
   "id": "5c42f4d3",
   "metadata": {
    "ExecuteTime": {
     "end_time": "2023-04-05T19:31:50.639003Z",
     "start_time": "2023-04-05T19:31:50.633329Z"
    }
   },
   "outputs": [
    {
     "data": {
      "text/plain": [
       "[0, 1, 2, 3, 4]"
      ]
     },
     "execution_count": 72,
     "metadata": {},
     "output_type": "execute_result"
    }
   ],
   "source": [
    "list(range(0, 5))"
   ]
  },
  {
   "cell_type": "code",
   "execution_count": 73,
   "id": "2a7bac2e",
   "metadata": {
    "ExecuteTime": {
     "end_time": "2023-04-05T19:32:35.504425Z",
     "start_time": "2023-04-05T19:32:35.499613Z"
    }
   },
   "outputs": [
    {
     "name": "stdout",
     "output_type": "stream",
     "text": [
      "0,1,2,3,4,"
     ]
    }
   ],
   "source": [
    "for i in range(5):\n",
    "    print(i, end = ',')"
   ]
  },
  {
   "cell_type": "code",
   "execution_count": 77,
   "id": "f0ec11e6",
   "metadata": {
    "ExecuteTime": {
     "end_time": "2023-04-05T19:33:44.610741Z",
     "start_time": "2023-04-05T19:33:44.604610Z"
    }
   },
   "outputs": [
    {
     "name": "stdout",
     "output_type": "stream",
     "text": [
      "0,1,2,3,4,"
     ]
    }
   ],
   "source": [
    "for i in range(0, 5):\n",
    "    print(i, end = ',')"
   ]
  },
  {
   "cell_type": "code",
   "execution_count": 78,
   "id": "c7315d1f",
   "metadata": {
    "ExecuteTime": {
     "end_time": "2023-04-05T19:33:49.682961Z",
     "start_time": "2023-04-05T19:33:49.675644Z"
    }
   },
   "outputs": [
    {
     "name": "stdout",
     "output_type": "stream",
     "text": [
      "-1,0,1,2,3,4,"
     ]
    }
   ],
   "source": [
    "for i in range(-1, 5):\n",
    "    print(i, end = ',')"
   ]
  },
  {
   "cell_type": "code",
   "execution_count": 83,
   "id": "ca34268a",
   "metadata": {
    "ExecuteTime": {
     "end_time": "2023-04-05T19:36:44.461753Z",
     "start_time": "2023-04-05T19:36:44.457055Z"
    }
   },
   "outputs": [
    {
     "name": "stdout",
     "output_type": "stream",
     "text": [
      "-1,1,3,"
     ]
    }
   ],
   "source": [
    "for i in range(-1, 5, 2):\n",
    "    print(i, end = ',')"
   ]
  },
  {
   "cell_type": "markdown",
   "id": "54f5796d",
   "metadata": {},
   "source": [
    "#### Bucles anidados\n",
    "\n",
    "Esto se refiere a bucles dentro de los bucles. Por ejemplo, utilizando el bucle `for`:"
   ]
  },
  {
   "cell_type": "code",
   "execution_count": 20,
   "id": "f4129c81",
   "metadata": {
    "ExecuteTime": {
     "end_time": "2023-04-05T23:40:35.815676Z",
     "start_time": "2023-04-05T23:40:35.808057Z"
    }
   },
   "outputs": [
    {
     "name": "stdout",
     "output_type": "stream",
     "text": [
      "Tabla de multilpicar del 1\n",
      "1 x 1 = 1\n",
      "1 x 2 = 2\n",
      "Tabla de multilpicar del 2\n",
      "2 x 1 = 2\n",
      "2 x 2 = 4\n",
      "Tabla de multilpicar del 3\n",
      "3 x 1 = 3\n",
      "3 x 2 = 6\n"
     ]
    }
   ],
   "source": [
    "for i in range(1, 4):\n",
    "    print(f'Tabla de multilpicar del {i}')\n",
    "    for j in range(1, 3):\n",
    "        print(f'{i} x {j} = {i * j}')"
   ]
  },
  {
   "cell_type": "code",
   "execution_count": 23,
   "id": "a3bdc362",
   "metadata": {
    "ExecuteTime": {
     "end_time": "2023-04-05T23:41:38.732156Z",
     "start_time": "2023-04-05T23:41:38.721570Z"
    }
   },
   "outputs": [
    {
     "name": "stdout",
     "output_type": "stream",
     "text": [
      "Tabla de multiplicar del 1\n",
      "1 x 1 = 1\n",
      "1 x 2 = 2\n",
      "Tabla de multiplicar del 2\n",
      "2 x 1 = 2\n",
      "2 x 2 = 4\n",
      "Tabla de multiplicar del 3\n",
      "3 x 1 = 3\n",
      "3 x 2 = 6\n"
     ]
    }
   ],
   "source": [
    "i = 1\n",
    "while i < 4:\n",
    "    print(f\"Tabla de multiplicar del {i}\")\n",
    "    j = 1\n",
    "    while j < 3:\n",
    "        print(f\"{i} x {j} = {i*j}\")\n",
    "        j += 1\n",
    "    i += 1"
   ]
  },
  {
   "cell_type": "markdown",
   "id": "706f7a2a",
   "metadata": {},
   "source": [
    "### Otras sentencias\n",
    "También hay tres sentencias que se pueden emplear cuando se trabaja con bucles: `break`, `continue`, `pass`, los cuales sirven para modificar el comportamiento de cualquier bucle.\n",
    "\n",
    "`break` permite interrumpir la ejecución del bucle, por lo que cuando se alcanza la instrucción `break` se termina el bucle."
   ]
  },
  {
   "cell_type": "code",
   "execution_count": 5,
   "id": "79bb1882",
   "metadata": {
    "ExecuteTime": {
     "end_time": "2023-04-07T02:30:19.318196Z",
     "start_time": "2023-04-07T02:30:19.312449Z"
    }
   },
   "outputs": [
    {
     "name": "stdout",
     "output_type": "stream",
     "text": [
      "1\n"
     ]
    }
   ],
   "source": [
    "for x in range(1, 5):\n",
    "    if x == 2:\n",
    "        break\n",
    "    print(x)"
   ]
  },
  {
   "cell_type": "code",
   "execution_count": 23,
   "id": "6ad18c9a",
   "metadata": {
    "ExecuteTime": {
     "end_time": "2023-04-07T02:42:40.482172Z",
     "start_time": "2023-04-07T02:42:40.477720Z"
    }
   },
   "outputs": [
    {
     "name": "stdout",
     "output_type": "stream",
     "text": [
      "1 Prueba while\n"
     ]
    }
   ],
   "source": [
    "a = 1\n",
    "while a <= 10:\n",
    "    print(a, 'Prueba while')\n",
    "    a += 1\n",
    "    break"
   ]
  },
  {
   "cell_type": "markdown",
   "id": "3446887b",
   "metadata": {},
   "source": [
    "`continue` no interrumpe la ejecución del bucle. Sólo omite los elementos indicados."
   ]
  },
  {
   "cell_type": "code",
   "execution_count": 13,
   "id": "cf0709c4",
   "metadata": {
    "ExecuteTime": {
     "end_time": "2023-04-07T02:35:13.751310Z",
     "start_time": "2023-04-07T02:35:13.746362Z"
    }
   },
   "outputs": [
    {
     "name": "stdout",
     "output_type": "stream",
     "text": [
      "1\n",
      "3\n",
      "4\n",
      "5\n"
     ]
    }
   ],
   "source": [
    "for x in range(1, 10):\n",
    "    if x == 2 or x > 5:\n",
    "        continue\n",
    "    print(x)"
   ]
  },
  {
   "cell_type": "markdown",
   "id": "fe56d8c3",
   "metadata": {},
   "source": [
    "`pass` pasa a la siguiente instrucción en un bucle que haya a continuación, pero sin modificar el flujo. Se recomienda su uso cuando no se ha completado alguna parte del código por lo que al no tener alguna línea no se ejecutará."
   ]
  },
  {
   "cell_type": "code",
   "execution_count": 17,
   "id": "fdce8f94",
   "metadata": {
    "ExecuteTime": {
     "end_time": "2023-04-07T02:40:05.176073Z",
     "start_time": "2023-04-07T02:40:05.172054Z"
    }
   },
   "outputs": [],
   "source": [
    "if x == 2:\n",
    "    pass"
   ]
  },
  {
   "cell_type": "code",
   "execution_count": 28,
   "id": "e162215e",
   "metadata": {
    "ExecuteTime": {
     "end_time": "2023-04-07T02:46:54.826186Z",
     "start_time": "2023-04-07T02:46:54.819529Z"
    }
   },
   "outputs": [
    {
     "name": "stdout",
     "output_type": "stream",
     "text": [
      "1\n",
      "2\n",
      "3\n",
      "4\n",
      "5\n",
      "6\n",
      "7\n",
      "8\n",
      "9\n"
     ]
    }
   ],
   "source": [
    "for x in range(1, 10):\n",
    "    if x == 2 or x > 5:\n",
    "        if x == 2:\n",
    "            pass\n",
    "    print(x)"
   ]
  },
  {
   "cell_type": "markdown",
   "id": "4543ed72",
   "metadata": {},
   "source": [
    "Cabe mencionar que también es posible utilizar `else` en los bucles `for` y `while`."
   ]
  },
  {
   "cell_type": "code",
   "execution_count": 46,
   "id": "fc6058c7",
   "metadata": {
    "ExecuteTime": {
     "end_time": "2023-04-07T02:53:24.182359Z",
     "start_time": "2023-04-07T02:53:24.175962Z"
    }
   },
   "outputs": [
    {
     "name": "stdout",
     "output_type": "stream",
     "text": [
      "0\n",
      "1\n",
      "El último es x = 1\n"
     ]
    }
   ],
   "source": [
    "for x in range(2):\n",
    "    print(x)\n",
    "else:\n",
    "    print('El último es x = %d' % x)"
   ]
  },
  {
   "cell_type": "code",
   "execution_count": 42,
   "id": "1fd2c504",
   "metadata": {
    "ExecuteTime": {
     "end_time": "2023-04-07T02:51:57.465347Z",
     "start_time": "2023-04-07T02:51:57.460853Z"
    }
   },
   "outputs": [
    {
     "name": "stdout",
     "output_type": "stream",
     "text": [
      "0\n"
     ]
    }
   ],
   "source": [
    "for x in range(2):\n",
    "    if x == 1:\n",
    "        break\n",
    "    print(x)\n",
    "else:\n",
    "    print('El último es x = %d' % x)"
   ]
  },
  {
   "cell_type": "code",
   "execution_count": 41,
   "id": "9ca9b84e",
   "metadata": {
    "ExecuteTime": {
     "end_time": "2023-04-07T02:51:53.532577Z",
     "start_time": "2023-04-07T02:51:53.524956Z"
    }
   },
   "outputs": [
    {
     "name": "stdout",
     "output_type": "stream",
     "text": [
      "0\n",
      "El último es x = 1\n"
     ]
    }
   ],
   "source": [
    "for x in range(2):\n",
    "    if x == 1:\n",
    "        continue\n",
    "    print(x)\n",
    "else:\n",
    "    print('El último es x = %d' % x)"
   ]
  },
  {
   "cell_type": "code",
   "execution_count": 81,
   "id": "5f1d1cd1",
   "metadata": {
    "ExecuteTime": {
     "end_time": "2023-04-07T04:00:47.208650Z",
     "start_time": "2023-04-07T04:00:47.202414Z"
    }
   },
   "outputs": [
    {
     "name": "stdout",
     "output_type": "stream",
     "text": [
      "4\n",
      "3\n",
      "2\n",
      "1\n",
      "0\n",
      "El bucle ha finalizado\n"
     ]
    }
   ],
   "source": [
    "x = 5\n",
    "while x > 0:\n",
    "    x -=1\n",
    "    print(x)\n",
    "else:\n",
    "    print(\"El bucle ha finalizado\")"
   ]
  },
  {
   "cell_type": "code",
   "execution_count": 84,
   "id": "0716c8a5",
   "metadata": {
    "ExecuteTime": {
     "end_time": "2023-04-07T04:01:57.619054Z",
     "start_time": "2023-04-07T04:01:57.611835Z"
    }
   },
   "outputs": [
    {
     "name": "stdout",
     "output_type": "stream",
     "text": [
      "4\n",
      "3\n",
      "2\n",
      "1\n",
      "0\n"
     ]
    }
   ],
   "source": [
    "x = 5\n",
    "while True:\n",
    "    x -= 1\n",
    "    print(x)\n",
    "    if x == 0:\n",
    "        break\n",
    "else:\n",
    "    print(\"Fin del bucle\")"
   ]
  },
  {
   "cell_type": "markdown",
   "id": "8c3de0d4",
   "metadata": {
    "ExecuteTime": {
     "end_time": "2023-03-27T18:49:19.476585Z",
     "start_time": "2023-03-27T18:49:19.469336Z"
    }
   },
   "source": [
    "### Contenedores\n",
    "\n",
    "En Python los contenedores se emplean para alojar multiples variables de varios tipos. Los básicos son:\n",
    "\n",
    "- Listas\n",
    "- Tuplas\n",
    "- Conjuntos\n",
    "- Diccionarios"
   ]
  },
  {
   "cell_type": "markdown",
   "id": "a7d64c31",
   "metadata": {
    "ExecuteTime": {
     "end_time": "2023-03-27T19:15:16.488269Z",
     "start_time": "2023-03-27T19:15:16.424604Z"
    }
   },
   "source": [
    "#### Lista\n",
    "Una lista  es una colección de variables ordenadas."
   ]
  },
  {
   "cell_type": "code",
   "execution_count": 23,
   "id": "e0776a9f",
   "metadata": {
    "ExecuteTime": {
     "end_time": "2023-03-31T19:07:59.600308Z",
     "start_time": "2023-03-31T19:07:59.595180Z"
    }
   },
   "outputs": [
    {
     "name": "stdout",
     "output_type": "stream",
     "text": [
      "[1, '2', 3.0, 4]\n"
     ]
    }
   ],
   "source": [
    "lista = [1, '2', 3.0, 4]\n",
    "print(lista)"
   ]
  },
  {
   "cell_type": "markdown",
   "id": "33072e7c",
   "metadata": {},
   "source": [
    "Para accesar a alguno de los elementos de la lista se escribe en corchetes su posición. Cabe recordar que en Python, la posición o índice de los elementos de las listas inician en 0, por ejemplo:\n",
    "\n",
    "lista = [1, '2', 3.0, 4] \\\n",
    "indice [0] [1] [2] [3]\n",
    "\n",
    "Para acceder al primer elemento de la lista podemos escribir:"
   ]
  },
  {
   "cell_type": "code",
   "execution_count": 21,
   "id": "40c6186a",
   "metadata": {
    "ExecuteTime": {
     "end_time": "2023-03-31T19:03:59.598476Z",
     "start_time": "2023-03-31T19:03:59.590140Z"
    }
   },
   "outputs": [
    {
     "name": "stdout",
     "output_type": "stream",
     "text": [
      "1 <class 'int'>\n",
      "2 <class 'str'>\n",
      "3.0 <class 'float'>\n",
      "4 <class 'int'>\n",
      "--------------------------\n",
      "1 <class 'int'>\n",
      "2 <class 'str'>\n",
      "3.0 <class 'float'>\n",
      "4 <class 'int'>\n"
     ]
    }
   ],
   "source": [
    "print(lista[0], type(lista[0]))\n",
    "print(lista[0+1], type(lista[0+1]))\n",
    "print(lista[0+2], type(lista[0+2]))\n",
    "print(lista[3], type(lista[3]))\n",
    "\n",
    "print('--------------------------')\n",
    "for i in lista:\n",
    "    print(i, type(i))"
   ]
  },
  {
   "cell_type": "markdown",
   "id": "6afb6a57",
   "metadata": {},
   "source": [
    "Las listas son modificables, por ejemplo:"
   ]
  },
  {
   "cell_type": "code",
   "execution_count": 44,
   "id": "44564083",
   "metadata": {
    "ExecuteTime": {
     "end_time": "2023-03-31T19:20:47.785088Z",
     "start_time": "2023-03-31T19:20:47.778080Z"
    }
   },
   "outputs": [
    {
     "name": "stdout",
     "output_type": "stream",
     "text": [
      "[1, 0, 3.0, 4]\n",
      "0 <class 'int'>\n"
     ]
    }
   ],
   "source": [
    "lista = [1, '2', 3.0, 4]\n",
    "\n",
    "lista[1] = 0\n",
    "\n",
    "print(lista)\n",
    "print(lista[1], type(lista[1]))"
   ]
  },
  {
   "cell_type": "markdown",
   "id": "3d30d18a",
   "metadata": {},
   "source": [
    "Para extender una lista podemos utilizar la función *append* :"
   ]
  },
  {
   "cell_type": "code",
   "execution_count": 45,
   "id": "99ddf930",
   "metadata": {
    "ExecuteTime": {
     "end_time": "2023-03-31T19:20:48.871592Z",
     "start_time": "2023-03-31T19:20:48.864396Z"
    }
   },
   "outputs": [
    {
     "data": {
      "text/plain": [
       "[1, 0, 3.0, 4, 7]"
      ]
     },
     "execution_count": 45,
     "metadata": {},
     "output_type": "execute_result"
    }
   ],
   "source": [
    "lista.append(7)\n",
    "lista"
   ]
  },
  {
   "cell_type": "markdown",
   "id": "a67e7dac",
   "metadata": {},
   "source": [
    "o simplemente concatenar los listas:"
   ]
  },
  {
   "cell_type": "code",
   "execution_count": 46,
   "id": "a2e9f0d4",
   "metadata": {
    "ExecuteTime": {
     "end_time": "2023-03-31T19:20:50.506409Z",
     "start_time": "2023-03-31T19:20:50.500418Z"
    }
   },
   "outputs": [
    {
     "data": {
      "text/plain": [
       "[1, 0, 3.0, 4, 7, 1, 'a']"
      ]
     },
     "execution_count": 46,
     "metadata": {},
     "output_type": "execute_result"
    }
   ],
   "source": [
    "lista + [1, 'a']"
   ]
  },
  {
   "cell_type": "markdown",
   "id": "02146e4f",
   "metadata": {},
   "source": [
    "Las listas son iterables, por lo que podemos utilizar bucles para iterar con sus elementos:"
   ]
  },
  {
   "cell_type": "code",
   "execution_count": 63,
   "id": "e726b5bc",
   "metadata": {
    "ExecuteTime": {
     "end_time": "2023-03-31T19:55:33.469515Z",
     "start_time": "2023-03-31T19:55:33.459153Z"
    }
   },
   "outputs": [
    {
     "name": "stdout",
     "output_type": "stream",
     "text": [
      "0 , -3\n",
      "1 , -2\n",
      "2 , -1\n",
      "3 , 0\n",
      "4 , 1\n",
      "5 , 2\n",
      "6 , 3\n"
     ]
    }
   ],
   "source": [
    "i = 0\n",
    "for elemento in [-3, -2, -1, 0, 1, 2, 3]:\n",
    "    print(i, ',', elemento)\n",
    "    i += 1\n",
    "    #i = i + 1"
   ]
  },
  {
   "cell_type": "code",
   "execution_count": 61,
   "id": "df354ea1",
   "metadata": {
    "ExecuteTime": {
     "end_time": "2023-03-31T19:53:51.242043Z",
     "start_time": "2023-03-31T19:53:51.232255Z"
    }
   },
   "outputs": [
    {
     "name": "stdout",
     "output_type": "stream",
     "text": [
      "indice: 0 , elemento: -3\n",
      "indice: 1 , elemento: -2\n",
      "indice: 2 , elemento: -1\n",
      "indice: 3 , elemento: 0\n",
      "indice: 4 , elemento: 1\n",
      "indice: 5 , elemento: 2\n",
      "indice: 6 , elemento: 3\n"
     ]
    }
   ],
   "source": [
    "for indice, elemento in enumerate([-3, -2, -1, 0, 1, 2, 3]):\n",
    "    print('indice:', indice, ', elemento:',  elemento)"
   ]
  },
  {
   "cell_type": "markdown",
   "id": "343787a1",
   "metadata": {},
   "source": [
    "Para iterar con dos o más listas podemos utilizar la clase *zip*:"
   ]
  },
  {
   "cell_type": "code",
   "execution_count": 69,
   "id": "c589e9a0",
   "metadata": {
    "ExecuteTime": {
     "end_time": "2023-03-31T20:01:17.696405Z",
     "start_time": "2023-03-31T20:01:17.685243Z"
    }
   },
   "outputs": [
    {
     "name": "stdout",
     "output_type": "stream",
     "text": [
      "a , 1 , 6.0\n",
      "b , 2 , 7.0\n",
      "c , 3 , 8.0\n",
      "d , 4 , 9.0\n"
     ]
    }
   ],
   "source": [
    "lista1 = ['a', 'b', 'c', 'd']\n",
    "lista2 = [1, 2, 3, 4, 5]\n",
    "lista3 = [6.0, 7.0, 8.0, 9.0, 10.0]\n",
    "\n",
    "for l1, l2, l3 in zip(lista1, lista2, lista3):\n",
    "    print(l1, ',', l2, ',', l3)"
   ]
  },
  {
   "cell_type": "code",
   "execution_count": 73,
   "id": "5f4eebc8",
   "metadata": {
    "ExecuteTime": {
     "end_time": "2023-03-31T20:03:27.648518Z",
     "start_time": "2023-03-31T20:03:27.641207Z"
    }
   },
   "outputs": [
    {
     "name": "stdout",
     "output_type": "stream",
     "text": [
      "[('a', 1, 6.0), ('b', 2, 7.0), ('c', 3, 8.0), ('d', 4, 9.0)]\n",
      "-----------------\n",
      "elemento 0: ('a', 1, 6.0)\n"
     ]
    }
   ],
   "source": [
    "lista_zip= list(zip(lista1, lista2, lista3))\n",
    "\n",
    "print(lista_zip)\n",
    "print('-----------------')\n",
    "\n",
    "print('elemento 0:', lista_zip[0])"
   ]
  },
  {
   "cell_type": "markdown",
   "id": "c5414c2b",
   "metadata": {},
   "source": [
    "#### Tupla\n",
    "\n",
    "Una tipla es  una colección ordenada de variables. Son similares a las listas, pueden alojar elementos de diferentes tipos:"
   ]
  },
  {
   "cell_type": "code",
   "execution_count": 162,
   "id": "819d8d8c",
   "metadata": {
    "ExecuteTime": {
     "end_time": "2023-03-27T20:58:38.026699Z",
     "start_time": "2023-03-27T20:58:38.020644Z"
    }
   },
   "outputs": [
    {
     "name": "stdout",
     "output_type": "stream",
     "text": [
      "(1, '2', 3.0, 4) <class 'tuple'>\n",
      "1 <class 'int'>\n",
      "2 <class 'str'>\n",
      "3.0 <class 'float'>\n"
     ]
    }
   ],
   "source": [
    "tupla = (1, '2', 3.0, 4)\n",
    "\n",
    "print(tupla, type(tupla))\n",
    "print(tupla[0], type(tupla[0]))\n",
    "print(tupla[1], type(tupla[1]))\n",
    "print(tupla[2], type(tupla[2]))"
   ]
  },
  {
   "cell_type": "markdown",
   "id": "b228e1c1",
   "metadata": {},
   "source": [
    "Sin embargo, son inmultables."
   ]
  },
  {
   "cell_type": "code",
   "execution_count": 93,
   "id": "ef5753c1",
   "metadata": {
    "ExecuteTime": {
     "end_time": "2023-03-27T19:35:56.115340Z",
     "start_time": "2023-03-27T19:35:56.088247Z"
    }
   },
   "outputs": [
    {
     "ename": "TypeError",
     "evalue": "'tuple' object does not support item assignment",
     "output_type": "error",
     "traceback": [
      "\u001b[0;31m---------------------------------------------------------------------------\u001b[0m",
      "\u001b[0;31mTypeError\u001b[0m                                 Traceback (most recent call last)",
      "Input \u001b[0;32mIn [93]\u001b[0m, in \u001b[0;36m<cell line: 1>\u001b[0;34m()\u001b[0m\n\u001b[0;32m----> 1\u001b[0m tupla[\u001b[38;5;241m1\u001b[39m] \u001b[38;5;241m=\u001b[39m \u001b[38;5;241m2\u001b[39m\n",
      "\u001b[0;31mTypeError\u001b[0m: 'tuple' object does not support item assignment"
     ]
    }
   ],
   "source": [
    "tupla[1] = 2 "
   ]
  },
  {
   "cell_type": "markdown",
   "id": "7c55202f",
   "metadata": {},
   "source": [
    "#### Conjunto\n",
    "\n",
    "Un conjunto esuna colección de variables inmutables y contienen solo elementos únicos:"
   ]
  },
  {
   "cell_type": "code",
   "execution_count": 97,
   "id": "dac4f47f",
   "metadata": {
    "ExecuteTime": {
     "end_time": "2023-03-27T19:36:36.547476Z",
     "start_time": "2023-03-27T19:36:36.541472Z"
    }
   },
   "outputs": [
    {
     "name": "stdout",
     "output_type": "stream",
     "text": [
      "{1, 3.0, 4, '2'} <class 'set'>\n",
      "{1, 3.0, 4, 5, '5', '2'} <class 'set'>\n"
     ]
    }
   ],
   "source": [
    "set_test = {1, '2', 3.0, 4}\n",
    "set_test1= {1, '2', 3.0, 4, 4, 3, '5', 5, '5', 5}\n",
    "\n",
    "print(set_test, type(set_test))\n",
    "print(set_test1, type(set_test1))"
   ]
  },
  {
   "cell_type": "markdown",
   "id": "7a79e774",
   "metadata": {},
   "source": [
    "Una lista o tupla puede convertirse en un conjunto con la función set():"
   ]
  },
  {
   "cell_type": "code",
   "execution_count": 122,
   "id": "ecfe4a1b",
   "metadata": {
    "ExecuteTime": {
     "end_time": "2023-03-27T19:58:58.388602Z",
     "start_time": "2023-03-27T19:58:58.383088Z"
    }
   },
   "outputs": [
    {
     "name": "stdout",
     "output_type": "stream",
     "text": [
      "{1, 3.0, 4, '2'} <class 'set'>\n",
      "{1, 3.0, 4, '2'} <class 'set'>\n"
     ]
    }
   ],
   "source": [
    "set_lista = set(lista)\n",
    "set_tupla = set(tupla)\n",
    "\n",
    "print(set_lista, type(set_lista))\n",
    "print(set_tupla, type(set_tupla))"
   ]
  },
  {
   "cell_type": "markdown",
   "id": "509b7a06",
   "metadata": {},
   "source": [
    "También se pueden realizar operaciones  y bucles con los conjuntos:"
   ]
  },
  {
   "cell_type": "code",
   "execution_count": 139,
   "id": "a40cc527",
   "metadata": {
    "ExecuteTime": {
     "end_time": "2023-03-27T20:38:45.566284Z",
     "start_time": "2023-03-27T20:38:45.553433Z"
    }
   },
   "outputs": [
    {
     "name": "stdout",
     "output_type": "stream",
     "text": [
      "{1, 3.0, 4, '2'} <class 'set'>\n",
      "set() <class 'set'>\n",
      "{1, 3.0, 4, '2'} <class 'set'>\n",
      "----------------------------------\n",
      "{'frio', 'calor'} <class 'set'>\n",
      "----------------------------------\n",
      "frio <class 'str'>\n",
      "calor <class 'str'>\n"
     ]
    }
   ],
   "source": [
    "union = set_lista.union(set_tupla)\n",
    "eliminar = set_lista - set_tupla\n",
    "interseccion = set_lista.intersection(set_tupla)\n",
    "\n",
    "print(union, type(union))\n",
    "print(eliminar, type(eliminar))\n",
    "print(interseccion, type(interseccion))\n",
    "\n",
    "print('----------------------------------')\n",
    "\n",
    "palabras = {'sistema', 'fuente', 'calor', 'frio'}\n",
    "conjunto = palabras - {'sistema', 'fuente'}\n",
    "print(conjunto, type(conjunto))\n",
    "\n",
    "print('----------------------------------')\n",
    "for i in conjunto:\n",
    "    print(i, type(i))"
   ]
  },
  {
   "cell_type": "markdown",
   "id": "d6f3e30f",
   "metadata": {},
   "source": [
    "#### Diccionario\n",
    "\n",
    "Es una colección de variables que se conectan con '*claves*'. "
   ]
  },
  {
   "cell_type": "code",
   "execution_count": 156,
   "id": "1a4f554a",
   "metadata": {
    "ExecuteTime": {
     "end_time": "2023-03-27T20:57:19.305524Z",
     "start_time": "2023-03-27T20:57:19.295819Z"
    }
   },
   "outputs": [
    {
     "name": "stdout",
     "output_type": "stream",
     "text": [
      "{'a': 1, 'b': 2, 'c': 3, 'd': 4} <class 'dict'>\n",
      "1 <class 'int'>\n",
      "----------------------------------\n",
      "dict_items([('a', 1), ('b', 2), ('c', 3), ('d', 4)])\n",
      "----------------------------------\n",
      "a\n",
      "b\n",
      "c\n",
      "d\n",
      "----------------------------------\n",
      "clave: a, valor: 1\n",
      "clave: b, valor: 2\n",
      "clave: c, valor: 3\n",
      "clave: d, valor: 4\n"
     ]
    }
   ],
   "source": [
    "diccionario = {'a': 1, 'b': 2, 'c': 3, 'd': 4}\n",
    "\n",
    "print(diccionario, type(diccionario))\n",
    "print(diccionario['a'], type(diccionario['a']))\n",
    "print('----------------------------------')\n",
    "print(diccionario.items())\n",
    "print('----------------------------------')\n",
    "\n",
    "for i in diccionario:\n",
    "    print(i)\n",
    "\n",
    "print('----------------------------------')\n",
    "\n",
    "for i, j in diccionario.items():\n",
    "    print(f'clave: {i}, valor: {j}')"
   ]
  },
  {
   "cell_type": "markdown",
   "id": "ada96f74",
   "metadata": {},
   "source": [
    "### Funciones"
   ]
  },
  {
   "cell_type": "code",
   "execution_count": null,
   "id": "b11c8631",
   "metadata": {},
   "outputs": [],
   "source": []
  }
 ],
 "metadata": {
  "kernelspec": {
   "display_name": "Python 3 (ipykernel)",
   "language": "python",
   "name": "python3"
  },
  "language_info": {
   "codemirror_mode": {
    "name": "ipython",
    "version": 3
   },
   "file_extension": ".py",
   "mimetype": "text/x-python",
   "name": "python",
   "nbconvert_exporter": "python",
   "pygments_lexer": "ipython3",
   "version": "3.8.12"
  },
  "latex_envs": {
   "LaTeX_envs_menu_present": true,
   "autoclose": false,
   "autocomplete": true,
   "bibliofile": "biblio.bib",
   "cite_by": "apalike",
   "current_citInitial": 1,
   "eqLabelWithNumbers": true,
   "eqNumInitial": 1,
   "hotkeys": {
    "equation": "Ctrl-E",
    "itemize": "Ctrl-I"
   },
   "labels_anchors": false,
   "latex_user_defs": false,
   "report_style_numbering": false,
   "user_envs_cfg": false
  },
  "toc": {
   "base_numbering": 1,
   "nav_menu": {},
   "number_sections": true,
   "sideBar": true,
   "skip_h1_title": false,
   "title_cell": "Table of Contents",
   "title_sidebar": "Contents",
   "toc_cell": false,
   "toc_position": {
    "height": "calc(100% - 180px)",
    "left": "10px",
    "top": "150px",
    "width": "287.25px"
   },
   "toc_section_display": true,
   "toc_window_display": false
  },
  "varInspector": {
   "cols": {
    "lenName": 16,
    "lenType": 16,
    "lenVar": 40
   },
   "kernels_config": {
    "python": {
     "delete_cmd_postfix": "",
     "delete_cmd_prefix": "del ",
     "library": "var_list.py",
     "varRefreshCmd": "print(var_dic_list())"
    },
    "r": {
     "delete_cmd_postfix": ") ",
     "delete_cmd_prefix": "rm(",
     "library": "var_list.r",
     "varRefreshCmd": "cat(var_dic_list()) "
    }
   },
   "types_to_exclude": [
    "module",
    "function",
    "builtin_function_or_method",
    "instance",
    "_Feature"
   ],
   "window_display": false
  }
 },
 "nbformat": 4,
 "nbformat_minor": 5
}
