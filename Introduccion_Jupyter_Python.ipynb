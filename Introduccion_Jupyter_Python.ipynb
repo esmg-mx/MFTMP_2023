{
 "cells": [
  {
   "cell_type": "markdown",
   "id": "5754eb1a",
   "metadata": {},
   "source": [
    "# Introducción a Jupyter y Python\n",
    "\n",
    "**Curso de Modelación Matemática, Numérica y Computacional de Flujo y Transporte en Medios Porosos**\n",
    "\n",
    "Profesores: Dr. Martín A. Díaz Viera, M. en C. Sinai Morales Chávez y M. en C. Jesús Carmona Pérez\n",
    "\n",
    "\n",
    "<img src=https://docs.servicestack.net/assets/jupyter-python.6188762b.png>\n"
   ]
  },
  {
   "cell_type": "markdown",
   "id": "8e911849",
   "metadata": {},
   "source": [
    "<div class=\"alert alert-block alert-info\">\n",
    "<b>Nota:</b>  Diferentes opciones para instalar Jupyter y Python se pueden consultar en el archivo: <b>Instrucciones FEniCS.pdf<b> </div>\n"
   ]
  },
  {
   "cell_type": "markdown",
   "id": "8e549eb4",
   "metadata": {},
   "source": [
    "## Jupyter\n",
    "\n",
    "<img src=https://upload.wikimedia.org/wikipedia/commons/thumb/3/38/Jupyter_logo.svg/1200px-Jupyter_logo.svg.png style=\"width: 150px;\" />\n",
    "\n",
    "Jupyter es un Entorno de Desarrollo Integrado (EDI) o Integrated Development Enviroment (IDE) que contiene herramientas para facilitar la edición de código fuente, construcciones automáticas y depurado. A diferencia de otros IDE, los cuadernos de trabajo de Jupyter (Jupyter notebook) permite combinar texto, código y visualizar los resultados de una manera interactiva mediante celdas, lo cual resulta mucho más fácil de analizar resultados y compartirlos facilmente. Para más información acerca de Jupyter se recomienda visitar la [documentación de Jupyter](https://jupyter.readthedocs.io/en/latest/index.html)."
   ]
  },
  {
   "cell_type": "markdown",
   "id": "e1b0b6e7",
   "metadata": {},
   "source": [
    "### Iniciando Jupyter\n",
    "\n",
    "Utilizando Google Colab:\n",
    "- Abrir el navegador de internet\n",
    "- Abrir el enlace https://colab.research.google.com/\n",
    "- Seleccionar la opción `New notebook`\n",
    "\n",
    "Utilizando Linux (gestor de paquetes Conda):\n",
    "- Abrir una terminal con `Ctrl + Alt + T`\n",
    "- Activar el ambiente de trabajo: `conda activate _nombre_`\n",
    "- Ingresar: `jupyter notebook`\n",
    "- Se abrirá el navegador predeterminado y se mostrará la página principal también llamda **pizarrón** o **dashboard**. Para comenzar a trabajar con orden se recomienda crear una nueva carpeta de trabajo seleccionando `New`->`Folder`\n",
    "- Ahora, para crear un cuaderno de trabajo ingresamos a la carpeta creada y seleccionamos `New`->`Python 3 (ipykernel)` o el lenguaje con el que se vaya a trabajar (puede ser Pyhton, R, ect.)\n",
    "\n",
    "Los cuadernos creados en Jupyter tendran una extensión `.ipynb`. Para cambiar el nombre del cuaderno hay dos opciones:\n",
    "- `File` -> `Save as...` o `File` -> `Rename`\n",
    "- Colocar el puntero en la parte superior izquiera, a un lado del símbolo de Jupyter, en el título `Untilted`, por último pulsar click izquierdo para cambiar el nombre\n"
   ]
  },
  {
   "cell_type": "markdown",
   "id": "d1074df6",
   "metadata": {},
   "source": [
    "### Celdas en Jupyter\n",
    "\n",
    "Los cuadernos de trabajo de Jupyter se dividen en **celdas**, las cuales son de dos tipos:\n",
    "\n",
    "- **Celdas de código**: son celdas que permiten escribir y editar código en el lenguaje con el que se va a trabajar durante el proyecto.\n",
    "- **Celdas de texto**: son celdas que no se ejecutan pero que permiten escribir texto para comentar o describir tú trabajo. Además, resulta de mucha utilidad porque permite escribir ecuaciones en el lenjuage de $\\LaTeX$.\n",
    "\n",
    "Para conocer más utilidades con las celdas de texto, se recomienda visitar este [enlace](https://jupyter-notebook.readthedocs.io/en/stable/examples/Notebook/Working%20With%20Markdown%20Cells.html).\n",
    "\n",
    "#### Comandos de utilidad:\n",
    "- Ejecutar una celda: `Ctrl + Intro`\n",
    "- Ejecutar una celda y seleccionar la de abajo: `Shift + Intro`\n",
    "- Ejecutar una celda y crear una nueva celda abajo: `Alt + Intro`\n",
    "- Crear una nueva celda: `Esc + B`\n",
    "- Convertir una celda a celda de código: `Esc + Y`\n",
    "- Convertir una celda a celda de texto: `Esc + M`\n",
    "- Eliminar una celda: `Esc + X`\n",
    "- Información acerca de una función: `Shift + Tab`\n",
    "- Completar variables: `Tab`\n",
    "\n",
    "#### Ecuaciones en celdas de texto:\n",
    "- Escribir ecuación entre los símbolos `$ ecuacion $`: $f(x) = x^2 + 3$ \n",
    "\n",
    "Para más información acerca del lenguaje matemático de $\\LaTeX$, se recomienda visitar el siguiente [enlace](https://www.overleaf.com/learn/latex/Mathematical_expressions)."
   ]
  },
  {
   "cell_type": "markdown",
   "id": "9bae0b12",
   "metadata": {},
   "source": [
    "## Python\n",
    "\n",
    "<img src=https://www.python.org/static/community_logos/python-logo-master-v3-TM.png style=\"width: 450px;\" />\n",
    "\n",
    "Es un lenguaje de programación interpretado, interactivo y orientado a objetos. Cuenta con numerosas bibliotecas fáciles de implementar que hacen de Python robusto y poderoso."
   ]
  },
  {
   "cell_type": "markdown",
   "id": "659f81e8",
   "metadata": {},
   "source": [
    "### Variables\n",
    "\n",
    "Una variable es una forma de identificar, un dato que se encuentra almacenado en la memoria del ordenador. Nos permite acceder fácilmente a dicho dato para ser manipulado y transformado. \n",
    "\n",
    "Una variable en Python puede escribirse casi con cualquier letra o palabra. Sin embargo, existen ciertas restricciones al momento de definirlar, como carácteres especiales que no se pueden emplear y '*palabras reservadas*' .\n",
    "\n",
    "Como regla general, una variable no debe de iniciar con un número. Tampoco debe de contener alguno de los siguientes caractéres, por ejemplo: `# $ ! % & / ( ) [ ] { } ' \" - + * ? :  ; , . `\n",
    "\n",
    "Además, existen '*palabras reservadas*' que tampoco se pueden utilizar como nombres de variables. Algunas son:\n",
    "\n",
    "\\begin{array}{|c|c|c|c|} \n",
    "False & True   & and      & or    \\\\ \n",
    "not   & break  & continue & class \\\\\n",
    "def   & if     & elif     & else  \\\\ \n",
    "for   & while  & in       & is    \\\\ \n",
    "None  & lambda & return   & whit  \\\\\n",
    "def   & as     & import\n",
    "\\end{array}\n",
    "\n",
    "Una variable puede ser de diferentes tipos:\n",
    "\n",
    "- entero o integer: 'int' \n",
    "- decimal o 'float'\n",
    "- caracter o string: 'str'; es inmutable pero si iterable\n",
    "- booleano: 'bool'\n",
    "\n",
    "Ejemplo:"
   ]
  },
  {
   "cell_type": "code",
   "execution_count": 240,
   "id": "00cf6afc",
   "metadata": {
    "ExecuteTime": {
     "end_time": "2023-04-11T23:21:36.254815Z",
     "start_time": "2023-04-11T23:21:36.249336Z"
    }
   },
   "outputs": [
    {
     "name": "stdout",
     "output_type": "stream",
     "text": [
      "5 <class 'int'>\n",
      "2.0 <class 'float'>\n",
      "10 <class 'str'>\n",
      "True <class 'bool'>\n"
     ]
    }
   ],
   "source": [
    "a = 5\n",
    "b = 2.0\n",
    "c = '10'\n",
    "d = True\n",
    "\n",
    "print(a, type(a))\n",
    "print(b, type(b))\n",
    "print(c, type(c))\n",
    "print(d, type(d))"
   ]
  },
  {
   "cell_type": "markdown",
   "id": "831513f9",
   "metadata": {},
   "source": [
    "Es posible convertir el tipo de variable entre ellas con las funciones: `int()`, `float()`, `str()`.\n",
    "\n",
    "Ejemplo:"
   ]
  },
  {
   "cell_type": "code",
   "execution_count": 67,
   "id": "8aafccfd",
   "metadata": {
    "ExecuteTime": {
     "end_time": "2023-03-27T18:58:54.921414Z",
     "start_time": "2023-03-27T18:58:54.914459Z"
    }
   },
   "outputs": [
    {
     "name": "stdout",
     "output_type": "stream",
     "text": [
      "5.0 <class 'float'>\n",
      "2 <class 'int'>\n",
      "5 <class 'str'>\n"
     ]
    }
   ],
   "source": [
    "# entero a decimal\n",
    "\n",
    "entero_decimal = float(a)\n",
    "\n",
    "print(entero_decimal, type(entero_decimal))\n",
    "\n",
    "# decimal a entero\n",
    "\n",
    "decimal_entero = int(b)\n",
    "print(decimal_entero, type(decimal_entero))\n",
    "\n",
    "# entero a caracter\n",
    "\n",
    "entero_caracter = str(a)\n",
    "print(entero_caracter, type(entero_caracter))"
   ]
  },
  {
   "cell_type": "markdown",
   "id": "8aeda5a9",
   "metadata": {},
   "source": [
    "Los valores mínimos y máximos que un flotante pueden representar (precisión) es de `2.2250738585072014e-308` y `1.7976931348623157e+308`. "
   ]
  },
  {
   "cell_type": "code",
   "execution_count": 241,
   "id": "65e34819",
   "metadata": {
    "ExecuteTime": {
     "end_time": "2023-04-11T23:24:15.092815Z",
     "start_time": "2023-04-11T23:24:15.087668Z"
    }
   },
   "outputs": [
    {
     "name": "stdout",
     "output_type": "stream",
     "text": [
      "2.2250738585072014e-308\n",
      "1.7976931348623157e+308\n"
     ]
    }
   ],
   "source": [
    "import sys\n",
    "print(sys.float_info.min)\n",
    "print(sys.float_info.max) "
   ]
  },
  {
   "cell_type": "markdown",
   "id": "8fe2fe53",
   "metadata": {},
   "source": [
    "En caso de intentar asignar una variable con un valor mayor que los máximos que se pueden representar en Python, la variable tomará el valor `inf` o infinito."
   ]
  },
  {
   "cell_type": "code",
   "execution_count": 243,
   "id": "514c8372",
   "metadata": {
    "ExecuteTime": {
     "end_time": "2023-04-11T23:27:17.953603Z",
     "start_time": "2023-04-11T23:27:17.947969Z"
    }
   },
   "outputs": [
    {
     "name": "stdout",
     "output_type": "stream",
     "text": [
      "inf\n",
      "inf\n"
     ]
    }
   ],
   "source": [
    "f = 1.7976931348623157e+310\n",
    "print(f)\n",
    "\n",
    "g = float('inf')\n",
    "print(g)\n"
   ]
  },
  {
   "cell_type": "markdown",
   "id": "0f3b14e6",
   "metadata": {},
   "source": [
    "Cabe mencionar que no es posible realizar operaciones entre 'caracter' y 'enteros' o 'decimales'. Pero si entre 'enteros' y 'decimales'.\n",
    "\n",
    "El símbolo `#` se utiliza para añadir anotaciones o comentarios."
   ]
  },
  {
   "cell_type": "markdown",
   "id": "db7bf924",
   "metadata": {},
   "source": [
    "### Formatos de salida"
   ]
  },
  {
   "cell_type": "code",
   "execution_count": 81,
   "id": "1c8ec4a9",
   "metadata": {
    "ExecuteTime": {
     "end_time": "2023-03-31T20:12:30.095563Z",
     "start_time": "2023-03-31T20:12:30.090485Z"
    }
   },
   "outputs": [
    {
     "name": "stdout",
     "output_type": "stream",
     "text": [
      "Flotante con 2 decimales: 321.24\n",
      "Flotante con 3 decimales: 321.236 \n",
      "Flotante en notación exponencial con un decimal: 3.2124e+02\n"
     ]
    }
   ],
   "source": [
    "print('Flotante con 2 decimales: %.2f'%321.23576589)\n",
    "\n",
    "print('Flotante con 3 decimales: {0:.3f} '.format(321.23576589))\n",
    "\n",
    "print('Flotante en notación exponencial con un decimal: {0:.4e}'.format(321.23576589))"
   ]
  },
  {
   "cell_type": "markdown",
   "id": "b98ef516",
   "metadata": {},
   "source": [
    "- %s - Cadena (O cualquier objeto, como los números al representarlos en una cadena de texto)\n",
    "- %d - Integrales\n",
    "- %f - Números de punto flotante\n",
    "- %.<numero de digitos>f - Números de punto flotante con una cantidad de números fijos a la derecha del punto.\n",
    "- %x/%X - Integral con representacion hex (minúscula/mayúscula)\n"
   ]
  },
  {
   "cell_type": "markdown",
   "id": "ebb2ce05",
   "metadata": {},
   "source": [
    "### Operaciones básicas\n",
    "\n",
    "Las operaciones básicas como adición, substracción, multiplicación o división se realizan de la siguiente manera:"
   ]
  },
  {
   "cell_type": "code",
   "execution_count": 92,
   "id": "e6886a1b",
   "metadata": {
    "ExecuteTime": {
     "end_time": "2023-03-31T20:53:57.121568Z",
     "start_time": "2023-03-31T20:53:57.112793Z"
    }
   },
   "outputs": [
    {
     "name": "stdout",
     "output_type": "stream",
     "text": [
      "suma: -3.0\n",
      "resta: -7.0\n",
      "division: -2.5000\n",
      "multiplicacion: -10.0 \n",
      "potencia: 25.0\n",
      "residuo: 1.0\n",
      "absoluto: 5\n"
     ]
    }
   ],
   "source": [
    "a = -5\n",
    "b = 2.0\n",
    "\n",
    "suma = a + b\n",
    "\n",
    "resta = a - b\n",
    "\n",
    "division = a / b\n",
    "\n",
    "multiplicacion = a * b\n",
    "\n",
    "potencia = a ** b\n",
    "\n",
    "residuo = a % b\n",
    "\n",
    "absoluto = abs(a)\n",
    "\n",
    "print('suma:', suma)\n",
    "print('resta:', resta)\n",
    "print('division: {:.4f}'.format(division))\n",
    "print('multiplicacion:', multiplicacion, '\\n' 'potencia:', potencia)\n",
    "print(f'residuo: {residuo}')\n",
    "print('absoluto:', absoluto)"
   ]
  },
  {
   "cell_type": "markdown",
   "id": "9a208527",
   "metadata": {},
   "source": [
    "### Operadores de comparación y lógicos\n",
    "\n",
    "Los operadores de comparación son operadores que regresan valores booleanos. Son importantes para flujo de control en ciclos `if`. \n",
    "\n",
    "\\begin{array}{|c|l|} \\hline\n",
    "Símbolo  & Operación      \\\\ \\hline\n",
    "<        & \\text{Menor que} \\\\ \\hline\n",
    ">        & \\text{Mayor que} \\\\ \\hline\n",
    "<=       & \\text{Menor o igual que}\\\\ \\hline\n",
    ">=       & \\text{Mayor o igual que} \\\\ \\hline\n",
    "==       & \\text{Igual a}\\\\ \\hline\n",
    "=!       & \\text{Diferente de}\\\\ \\hline\n",
    "\\end{array}"
   ]
  },
  {
   "cell_type": "code",
   "execution_count": 98,
   "id": "c0784a92",
   "metadata": {
    "ExecuteTime": {
     "end_time": "2023-03-31T20:56:21.736405Z",
     "start_time": "2023-03-31T20:56:21.729500Z"
    }
   },
   "outputs": [
    {
     "name": "stdout",
     "output_type": "stream",
     "text": [
      "a = 1, b = 2.0, c  = '1' \n",
      "a > b,  False\n",
      "a < b,  True\n",
      "a == c, False\n",
      "a != c, True\n"
     ]
    }
   ],
   "source": [
    "a = 1 \n",
    "b = 2.0\n",
    "c = '1'\n",
    "\n",
    "print('a = {}, b = {}, c  = \\'{}\\' '.format(a,b,c))\n",
    "\n",
    "print('a > b,  {}'.format(a > b))\n",
    "\n",
    "print('a < b,  {}'.format(a < b))\n",
    "\n",
    "print('a == c, {}'.format(a == c))\n",
    "\n",
    "print('a != c, {}'.format(a != c))"
   ]
  },
  {
   "cell_type": "markdown",
   "id": "039dfdec",
   "metadata": {},
   "source": [
    "Los operadores lógicos se pueden usar en conjunto con las expresiones booleanas para crear condiciones mas complejas.\n",
    "\n",
    "\\begin{array}{|c|l|} \\hline\n",
    "Operador  & Descripción     \\\\ \\hline\n",
    "and       & \\text{Es verdadero si ambas condiciones son ciertas. Es falso si alguna de las 2 conciciones son falsas} \\\\ \\hline\n",
    "or        & \\text{Es verdadero si una de las 2 condiciones son ciertas. Es falso si las 2 condiciones son falsas } \\\\ \\hline\n",
    "not        & \\text{Es verdadero si el valor a prueba es falso. Es falso su el valor a evaluar es verdadero} \\\\ \\hline\n",
    "\\end{array}"
   ]
  },
  {
   "cell_type": "code",
   "execution_count": 95,
   "id": "9b6d2f91",
   "metadata": {
    "ExecuteTime": {
     "end_time": "2023-03-31T20:55:32.703182Z",
     "start_time": "2023-03-31T20:55:32.694919Z"
    }
   },
   "outputs": [
    {
     "name": "stdout",
     "output_type": "stream",
     "text": [
      "False\n",
      "True\n",
      "True\n",
      "True\n"
     ]
    }
   ],
   "source": [
    "a = 5\n",
    "b = 3\n",
    "c = 1\n",
    "d = 1.001\n",
    "\n",
    "print(a>b and b>a)\n",
    "\n",
    "print(a>b and c<d)\n",
    "\n",
    "print(a>b or b>a)\n",
    "\n",
    "print(not(a>b and b>a))"
   ]
  },
  {
   "cell_type": "markdown",
   "id": "1b5fe5a8",
   "metadata": {},
   "source": [
    "Los resultados `True` y `False` se conocen como booleanos o tipos de dato booleano. Una expresión booleana o expresión lógica es evaluada como verdadera (`True`) o falsa (`False`)."
   ]
  },
  {
   "cell_type": "code",
   "execution_count": 47,
   "id": "8d90f0b9",
   "metadata": {
    "ExecuteTime": {
     "end_time": "2023-04-07T03:00:14.980374Z",
     "start_time": "2023-04-07T03:00:14.951145Z"
    }
   },
   "outputs": [
    {
     "data": {
      "text/plain": [
       "False"
      ]
     },
     "execution_count": 47,
     "metadata": {},
     "output_type": "execute_result"
    }
   ],
   "source": [
    "not True"
   ]
  },
  {
   "cell_type": "markdown",
   "id": "3a28e06a",
   "metadata": {},
   "source": [
    "### Condicionales\n",
    "\n",
    "Un condicional permite modificar el flujo de un programa cuando determinadas operaciones si cumplen ciertas condiciones, o en caso contrario que se cumplan otras condiciones.\n",
    "\n",
    "El principar condicional empleado en Python es `if`.  `if ` nos ayuda a establecer cuando la condición sea verdadera, en caso contrario podemos utilizar un `else` para indicar que hacer. La condición es una expresión booleana que se evalúa como verdadera (`True`) o falsa (`False`).\n",
    "\n",
    "Su sintaxis es la siguiente:"
   ]
  },
  {
   "cell_type": "code",
   "execution_count": null,
   "id": "3095b06d",
   "metadata": {},
   "outputs": [],
   "source": [
    "if <condición>:\n",
    "    <Tú codigo>\n",
    "else:\n",
    "    <Tú código>"
   ]
  },
  {
   "cell_type": "markdown",
   "id": "52e365bf",
   "metadata": {},
   "source": [
    "Es importante no perder de vista la **identación** o sangría en el código, es decir, los espacios necesarios para que la estructura del código sea la correcta. La identación puede hacerse con el tabulador, o con la barra espaciadora. En caso de utilizar la barra espaciadora, se recomiendan 4 espacios para identificar la identación, aunque no es obligatorio ya que se puede utilizar cualquier cantidad de espacios, sin embargo es neceario siempre usar el mismo número de espacios en todo el código. Se recomienda siempre utilizar el tabulador."
   ]
  },
  {
   "cell_type": "code",
   "execution_count": 50,
   "id": "a11e5f4a",
   "metadata": {
    "ExecuteTime": {
     "end_time": "2023-04-07T03:05:33.907723Z",
     "start_time": "2023-04-07T03:05:33.902854Z"
    }
   },
   "outputs": [
    {
     "name": "stdout",
     "output_type": "stream",
     "text": [
      "y es mayor que x\n"
     ]
    }
   ],
   "source": [
    "x = 1\n",
    "y = 2\n",
    "\n",
    "if x > y:\n",
    "    print('x es mayor que y')\n",
    "else:\n",
    "    print('y es mayor que x')"
   ]
  },
  {
   "cell_type": "markdown",
   "id": "b0761ef6",
   "metadata": {},
   "source": [
    "Para añadir una condición adicional se utiliza `elif`. Su sintaxis es la siguiente:"
   ]
  },
  {
   "cell_type": "code",
   "execution_count": null,
   "id": "4cb0ed07",
   "metadata": {},
   "outputs": [],
   "source": [
    "if <condición>:\n",
    "    <Tú código>\n",
    "elif <otra condición>:\n",
    "    <Tú código>\n",
    "else:\n",
    "    <Tú código>"
   ]
  },
  {
   "cell_type": "code",
   "execution_count": 55,
   "id": "7c5db0d8",
   "metadata": {
    "ExecuteTime": {
     "end_time": "2023-04-07T03:11:25.643921Z",
     "start_time": "2023-04-07T03:11:25.639597Z"
    }
   },
   "outputs": [
    {
     "name": "stdout",
     "output_type": "stream",
     "text": [
      "x es igual a y\n"
     ]
    }
   ],
   "source": [
    "x = 1\n",
    "y = 1\n",
    "\n",
    "if x > y:\n",
    "    print(\"x es mayor que y\")\n",
    "elif x == y:\n",
    "    print(\"x es igual a y\")\n",
    "else:\n",
    "    print(\"y es mayor que x\")"
   ]
  },
  {
   "cell_type": "code",
   "execution_count": 71,
   "id": "98f7f7ab",
   "metadata": {
    "ExecuteTime": {
     "end_time": "2023-04-07T03:33:37.467086Z",
     "start_time": "2023-04-07T03:33:37.463206Z"
    }
   },
   "outputs": [
    {
     "name": "stdout",
     "output_type": "stream",
     "text": [
      "Seguir...\n"
     ]
    }
   ],
   "source": [
    "if x:\n",
    "    pass\n",
    "print('Seguir...')"
   ]
  },
  {
   "cell_type": "markdown",
   "id": "44c18c23",
   "metadata": {},
   "source": [
    "La sentencia `pass` actúa como un marcador que hace que el interprete no lance un error y siga su secuencia el código, esto se verá nuevamente más adelante."
   ]
  },
  {
   "cell_type": "markdown",
   "id": "fc0ec2f5",
   "metadata": {},
   "source": [
    "#### Condicionales anidados\n",
    "\n",
    "Es posible definir condicionales dentro de condicionales."
   ]
  },
  {
   "cell_type": "code",
   "execution_count": 67,
   "id": "bb766648",
   "metadata": {
    "ExecuteTime": {
     "end_time": "2023-04-07T03:19:24.229340Z",
     "start_time": "2023-04-07T03:19:24.223130Z"
    }
   },
   "outputs": [
    {
     "name": "stdout",
     "output_type": "stream",
     "text": [
      "x es mayor que 20\n"
     ]
    }
   ],
   "source": [
    "x = 30\n",
    "\n",
    "if x > 5:\n",
    "    if x > 10:\n",
    "        if x > 20:\n",
    "            print(\"x es mayor que 20\")\n",
    "        else:\n",
    "            print(\"x es mayor que 10 pero menor de 20\")"
   ]
  },
  {
   "cell_type": "markdown",
   "id": "69d64226",
   "metadata": {},
   "source": [
    "### Bucles\n",
    "\n",
    "Son una de las principales estructuras de control. Nos permiten repetir una sentencia tantas veces como sea necesario. Los dos principales son: `while` y `for`."
   ]
  },
  {
   "cell_type": "markdown",
   "id": "270e5280",
   "metadata": {},
   "source": [
    "#### while\n",
    "\n",
    "Ejecuta una porción de código una y otra vez hasta que la condición especificada sea falsa.\n",
    "\n",
    "Su sintaxis es la siguiente:"
   ]
  },
  {
   "cell_type": "code",
   "execution_count": null,
   "id": "2bb1f269",
   "metadata": {},
   "outputs": [],
   "source": [
    "while <condición>:\n",
    "    <Tú código>\n",
    "    <condición en caso de ser verdadero>"
   ]
  },
  {
   "cell_type": "code",
   "execution_count": 12,
   "id": "25e3b2db",
   "metadata": {
    "ExecuteTime": {
     "end_time": "2023-04-05T18:44:46.305752Z",
     "start_time": "2023-04-05T18:44:46.298912Z"
    }
   },
   "outputs": [
    {
     "name": "stdout",
     "output_type": "stream",
     "text": [
      "1 Prueba while\n",
      "2 Prueba while\n",
      "3 Prueba while\n",
      "4 Prueba while\n",
      "5 Prueba while\n",
      "6 Prueba while\n",
      "7 Prueba while\n",
      "8 Prueba while\n",
      "9 Prueba while\n"
     ]
    }
   ],
   "source": [
    "a = 1\n",
    "while a < 10:\n",
    "    print(a, 'Prueba while')\n",
    "    a = a + 1"
   ]
  },
  {
   "cell_type": "code",
   "execution_count": 15,
   "id": "5df13217",
   "metadata": {
    "ExecuteTime": {
     "end_time": "2023-04-05T18:45:35.074242Z",
     "start_time": "2023-04-05T18:45:35.066322Z"
    }
   },
   "outputs": [
    {
     "name": "stdout",
     "output_type": "stream",
     "text": [
      "1 Prueba while\n",
      "2 Prueba while\n",
      "3 Prueba while\n",
      "4 Prueba while\n",
      "5 Prueba while\n",
      "6 Prueba while\n",
      "7 Prueba while\n",
      "8 Prueba while\n",
      "9 Prueba while\n",
      "10 Prueba while\n"
     ]
    }
   ],
   "source": [
    "a = 1\n",
    "while a <= 10:\n",
    "    print(a, 'Prueba while')\n",
    "    a += 1"
   ]
  },
  {
   "cell_type": "code",
   "execution_count": 26,
   "id": "caecf6e2",
   "metadata": {
    "ExecuteTime": {
     "end_time": "2023-04-05T18:57:55.178024Z",
     "start_time": "2023-04-05T18:57:55.172074Z"
    }
   },
   "outputs": [
    {
     "name": "stdout",
     "output_type": "stream",
     "text": [
      "1 <class 'int'>\n",
      "2 <class 'str'>\n",
      "3.0 <class 'float'>\n",
      "4 <class 'int'>\n"
     ]
    }
   ],
   "source": [
    "lista = [1, '2', 3.0, 4]\n",
    "i = 0\n",
    "\n",
    "while i < len(lista):\n",
    "    print(lista[i], type(lista[i]))\n",
    "    i += 1"
   ]
  },
  {
   "cell_type": "markdown",
   "id": "584ea473",
   "metadata": {},
   "source": [
    "Cuando escribimos un bucle `while` es necesario siempre especificar la ecuación o condición nueva para la que se cumpla el bucle, en caso de no hacerlo se creará un bucle infinito, por ejemplo:"
   ]
  },
  {
   "cell_type": "code",
   "execution_count": null,
   "id": "6dde8fc7",
   "metadata": {},
   "outputs": [],
   "source": [
    "while i < 10:\n",
    "    print('inifinito')"
   ]
  },
  {
   "cell_type": "markdown",
   "id": "3d2e968c",
   "metadata": {},
   "source": [
    "#### for\n",
    "\n",
    "Repiten una porción de código para un conjunto de valores. Establece la variable iteradora en cada valor de una lista, arreglo o cadena proporcionada y repite el código en el cuerpo del bucle para cada valor de la variable iteradora. \n",
    "\n",
    "Su sintaxis es la siguiente:"
   ]
  },
  {
   "cell_type": "code",
   "execution_count": null,
   "id": "c4cce19b",
   "metadata": {},
   "outputs": [],
   "source": [
    "for <elemento> in <iterable>:\n",
    "    <Tu código>"
   ]
  },
  {
   "cell_type": "markdown",
   "id": "c160fd98",
   "metadata": {},
   "source": [
    "`elemento` es la variable que toma el valor del elemento dentro del iterador en cada paso del bucle. Este finaliza su ejecución cuando se recorren todos los elementos. Un `iterable` es un objeto que se permite recorrer sus elementos uno a uno. En Python, los contenedores y los caracteres son iterables, por lo que pueden ser usados en el bucle `for`."
   ]
  },
  {
   "cell_type": "code",
   "execution_count": 3,
   "id": "babcfec3",
   "metadata": {
    "ExecuteTime": {
     "end_time": "2023-04-05T23:32:37.688248Z",
     "start_time": "2023-04-05T23:32:37.679310Z"
    }
   },
   "outputs": [
    {
     "name": "stdout",
     "output_type": "stream",
     "text": [
      "1 <class 'int'>\n",
      "2 <class 'str'>\n",
      "3.0 <class 'float'>\n",
      "4 <class 'int'>\n"
     ]
    }
   ],
   "source": [
    "lista = [1, '2', 3.0, 4]\n",
    "\n",
    "for lista in lista:\n",
    "    print(lista, type(lista))"
   ]
  },
  {
   "cell_type": "code",
   "execution_count": 10,
   "id": "a92c1b16",
   "metadata": {
    "ExecuteTime": {
     "end_time": "2023-04-05T23:33:50.733567Z",
     "start_time": "2023-04-05T23:33:50.721904Z"
    }
   },
   "outputs": [
    {
     "name": "stdout",
     "output_type": "stream",
     "text": [
      "e,s,t,e, ,e,s, ,u,n, ,s,t,r,i,n,g, ,o, ,c,a,r,a,c,t,e,r,"
     ]
    }
   ],
   "source": [
    "caracter = 'este es un string o caracter'\n",
    "for i in caracter:\n",
    "    print(i, end=',')\n"
   ]
  },
  {
   "cell_type": "code",
   "execution_count": 107,
   "id": "381c4403",
   "metadata": {
    "ExecuteTime": {
     "end_time": "2023-04-05T20:05:48.168742Z",
     "start_time": "2023-04-05T20:05:48.159665Z"
    }
   },
   "outputs": [
    {
     "name": "stdout",
     "output_type": "stream",
     "text": [
      "2 <class 'int'>\n",
      "4 <class 'int'>\n",
      "6 <class 'int'>\n",
      "8 <class 'int'>\n"
     ]
    }
   ],
   "source": [
    "numeros = [1, 2, 3, 4]\n",
    "\n",
    "for n in numeros:\n",
    "    x = n*2\n",
    "    print(x, type(x))"
   ]
  },
  {
   "cell_type": "code",
   "execution_count": 108,
   "id": "22546c4e",
   "metadata": {
    "ExecuteTime": {
     "end_time": "2023-04-05T20:05:48.731047Z",
     "start_time": "2023-04-05T20:05:48.725843Z"
    }
   },
   "outputs": [
    {
     "name": "stdout",
     "output_type": "stream",
     "text": [
      "4,7,10,13,"
     ]
    }
   ],
   "source": [
    "for i in numeros:\n",
    "    x = i*2 + (i+1)\n",
    "    print(x, end=',')"
   ]
  },
  {
   "cell_type": "markdown",
   "id": "11c4f822",
   "metadata": {},
   "source": [
    "Cuando los valores de un arreglo para nuestro bucle son secuenciales, podemos utilizar la función `range()`. `range()` proporciona una secuencia de enteros basada en los argumentos de la función."
   ]
  },
  {
   "cell_type": "code",
   "execution_count": 68,
   "id": "87ca8563",
   "metadata": {
    "ExecuteTime": {
     "end_time": "2023-04-05T19:30:57.453144Z",
     "start_time": "2023-04-05T19:30:57.406826Z"
    }
   },
   "outputs": [
    {
     "data": {
      "text/plain": [
       "[0, 1, 2, 3, 4]"
      ]
     },
     "execution_count": 68,
     "metadata": {},
     "output_type": "execute_result"
    }
   ],
   "source": [
    "list(range(5))"
   ]
  },
  {
   "cell_type": "code",
   "execution_count": 72,
   "id": "5c42f4d3",
   "metadata": {
    "ExecuteTime": {
     "end_time": "2023-04-05T19:31:50.639003Z",
     "start_time": "2023-04-05T19:31:50.633329Z"
    }
   },
   "outputs": [
    {
     "data": {
      "text/plain": [
       "[0, 1, 2, 3, 4]"
      ]
     },
     "execution_count": 72,
     "metadata": {},
     "output_type": "execute_result"
    }
   ],
   "source": [
    "list(range(0, 5))"
   ]
  },
  {
   "cell_type": "code",
   "execution_count": 73,
   "id": "2a7bac2e",
   "metadata": {
    "ExecuteTime": {
     "end_time": "2023-04-05T19:32:35.504425Z",
     "start_time": "2023-04-05T19:32:35.499613Z"
    }
   },
   "outputs": [
    {
     "name": "stdout",
     "output_type": "stream",
     "text": [
      "0,1,2,3,4,"
     ]
    }
   ],
   "source": [
    "for i in range(5):\n",
    "    print(i, end = ',')"
   ]
  },
  {
   "cell_type": "code",
   "execution_count": 77,
   "id": "f0ec11e6",
   "metadata": {
    "ExecuteTime": {
     "end_time": "2023-04-05T19:33:44.610741Z",
     "start_time": "2023-04-05T19:33:44.604610Z"
    }
   },
   "outputs": [
    {
     "name": "stdout",
     "output_type": "stream",
     "text": [
      "0,1,2,3,4,"
     ]
    }
   ],
   "source": [
    "for i in range(0, 5):\n",
    "    print(i, end = ',')"
   ]
  },
  {
   "cell_type": "code",
   "execution_count": 78,
   "id": "c7315d1f",
   "metadata": {
    "ExecuteTime": {
     "end_time": "2023-04-05T19:33:49.682961Z",
     "start_time": "2023-04-05T19:33:49.675644Z"
    }
   },
   "outputs": [
    {
     "name": "stdout",
     "output_type": "stream",
     "text": [
      "-1,0,1,2,3,4,"
     ]
    }
   ],
   "source": [
    "for i in range(-1, 5):\n",
    "    print(i, end = ',')"
   ]
  },
  {
   "cell_type": "code",
   "execution_count": 83,
   "id": "ca34268a",
   "metadata": {
    "ExecuteTime": {
     "end_time": "2023-04-05T19:36:44.461753Z",
     "start_time": "2023-04-05T19:36:44.457055Z"
    }
   },
   "outputs": [
    {
     "name": "stdout",
     "output_type": "stream",
     "text": [
      "-1,1,3,"
     ]
    }
   ],
   "source": [
    "for i in range(-1, 5, 2):\n",
    "    print(i, end = ',')"
   ]
  },
  {
   "cell_type": "markdown",
   "id": "54f5796d",
   "metadata": {},
   "source": [
    "#### Bucles anidados\n",
    "\n",
    "Esto se refiere a bucles dentro de los bucles. Por ejemplo, utilizando el bucle `for`:"
   ]
  },
  {
   "cell_type": "code",
   "execution_count": 31,
   "id": "f4129c81",
   "metadata": {
    "ExecuteTime": {
     "end_time": "2023-04-10T03:49:16.852682Z",
     "start_time": "2023-04-10T03:49:16.847794Z"
    }
   },
   "outputs": [
    {
     "name": "stdout",
     "output_type": "stream",
     "text": [
      "Tabla de multilpicar del 1\n",
      "1 x 1 = 1\n",
      "1 x 2 = 2\n",
      "Tabla de multilpicar del 2\n",
      "2 x 1 = 2\n",
      "2 x 2 = 4\n",
      "Tabla de multilpicar del 3\n",
      "3 x 1 = 3\n",
      "3 x 2 = 6\n"
     ]
    }
   ],
   "source": [
    "for i in range(1, 4):\n",
    "    print(f'Tabla de multilpicar del {i}')\n",
    "    for j in range(1, 3):\n",
    "        print(f'{i} x {j} = {i * j}')"
   ]
  },
  {
   "cell_type": "code",
   "execution_count": 23,
   "id": "a3bdc362",
   "metadata": {
    "ExecuteTime": {
     "end_time": "2023-04-05T23:41:38.732156Z",
     "start_time": "2023-04-05T23:41:38.721570Z"
    }
   },
   "outputs": [
    {
     "name": "stdout",
     "output_type": "stream",
     "text": [
      "Tabla de multiplicar del 1\n",
      "1 x 1 = 1\n",
      "1 x 2 = 2\n",
      "Tabla de multiplicar del 2\n",
      "2 x 1 = 2\n",
      "2 x 2 = 4\n",
      "Tabla de multiplicar del 3\n",
      "3 x 1 = 3\n",
      "3 x 2 = 6\n"
     ]
    }
   ],
   "source": [
    "i = 1\n",
    "while i < 4:\n",
    "    print(f\"Tabla de multiplicar del {i}\")\n",
    "    j = 1\n",
    "    while j < 3:\n",
    "        print(f\"{i} x {j} = {i*j}\")\n",
    "        j += 1\n",
    "    i += 1"
   ]
  },
  {
   "cell_type": "markdown",
   "id": "e5c75cf6",
   "metadata": {},
   "source": [
    "### Otras sentencias\n",
    "También hay tres sentencias que se pueden emplear cuando se trabaja con bucles: `break`, `continue`, `pass`, los cuales sirven para modificar el comportamiento de cualquier bucle.\n",
    "\n",
    "`break` permite interrumpir la ejecución del bucle, por lo que cuando se alcanza la instrucción `break` se termina el bucle."
   ]
  },
  {
   "cell_type": "code",
   "execution_count": 5,
   "id": "79bb1882",
   "metadata": {
    "ExecuteTime": {
     "end_time": "2023-04-07T02:30:19.318196Z",
     "start_time": "2023-04-07T02:30:19.312449Z"
    }
   },
   "outputs": [
    {
     "name": "stdout",
     "output_type": "stream",
     "text": [
      "1\n"
     ]
    }
   ],
   "source": [
    "for x in range(1, 5):\n",
    "    if x == 2:\n",
    "        break\n",
    "    print(x)"
   ]
  },
  {
   "cell_type": "code",
   "execution_count": 23,
   "id": "66bf6cba",
   "metadata": {
    "ExecuteTime": {
     "end_time": "2023-04-07T02:42:40.482172Z",
     "start_time": "2023-04-07T02:42:40.477720Z"
    }
   },
   "outputs": [
    {
     "name": "stdout",
     "output_type": "stream",
     "text": [
      "1 Prueba while\n"
     ]
    }
   ],
   "source": [
    "a = 1\n",
    "while a <= 10:\n",
    "    print(a, 'Prueba while')\n",
    "    a += 1\n",
    "    break"
   ]
  },
  {
   "cell_type": "markdown",
   "id": "69f27876",
   "metadata": {},
   "source": [
    "`continue` no interrumpe la ejecución del bucle. Sólo omite los elementos indicados."
   ]
  },
  {
   "cell_type": "code",
   "execution_count": 13,
   "id": "321464de",
   "metadata": {
    "ExecuteTime": {
     "end_time": "2023-04-07T02:35:13.751310Z",
     "start_time": "2023-04-07T02:35:13.746362Z"
    }
   },
   "outputs": [
    {
     "name": "stdout",
     "output_type": "stream",
     "text": [
      "1\n",
      "3\n",
      "4\n",
      "5\n"
     ]
    }
   ],
   "source": [
    "for x in range(1, 10):\n",
    "    if x == 2 or x > 5:\n",
    "        continue\n",
    "    print(x)"
   ]
  },
  {
   "cell_type": "markdown",
   "id": "bbb9786f",
   "metadata": {},
   "source": [
    "`pass` pasa a la siguiente instrucción en un bucle que haya a continuación, pero sin modificar el flujo. Se recomienda su uso cuando no se ha completado alguna parte del código por lo que al no tener alguna línea no se ejecutará."
   ]
  },
  {
   "cell_type": "code",
   "execution_count": 17,
   "id": "0c1960a3",
   "metadata": {
    "ExecuteTime": {
     "end_time": "2023-04-07T02:40:05.176073Z",
     "start_time": "2023-04-07T02:40:05.172054Z"
    }
   },
   "outputs": [],
   "source": [
    "if x == 2:\n",
    "    pass"
   ]
  },
  {
   "cell_type": "code",
   "execution_count": 28,
   "id": "e162215e",
   "metadata": {
    "ExecuteTime": {
     "end_time": "2023-04-07T02:46:54.826186Z",
     "start_time": "2023-04-07T02:46:54.819529Z"
    }
   },
   "outputs": [
    {
     "name": "stdout",
     "output_type": "stream",
     "text": [
      "1\n",
      "2\n",
      "3\n",
      "4\n",
      "5\n",
      "6\n",
      "7\n",
      "8\n",
      "9\n"
     ]
    }
   ],
   "source": [
    "for x in range(1, 10):\n",
    "    if x == 2 or x > 5:\n",
    "        if x == 2:\n",
    "            pass\n",
    "    print(x)"
   ]
  },
  {
   "cell_type": "markdown",
   "id": "984f9076",
   "metadata": {},
   "source": [
    "Cabe mencionar que también es posible utilizar `else` en los bucles `for` y `while`."
   ]
  },
  {
   "cell_type": "code",
   "execution_count": 46,
   "id": "fc6058c7",
   "metadata": {
    "ExecuteTime": {
     "end_time": "2023-04-07T02:53:24.182359Z",
     "start_time": "2023-04-07T02:53:24.175962Z"
    }
   },
   "outputs": [
    {
     "name": "stdout",
     "output_type": "stream",
     "text": [
      "0\n",
      "1\n",
      "El último es x = 1\n"
     ]
    }
   ],
   "source": [
    "for x in range(2):\n",
    "    print(x)\n",
    "else:\n",
    "    print('El último es x = %d' % x)"
   ]
  },
  {
   "cell_type": "code",
   "execution_count": 42,
   "id": "ff3d206d",
   "metadata": {
    "ExecuteTime": {
     "end_time": "2023-04-07T02:51:57.465347Z",
     "start_time": "2023-04-07T02:51:57.460853Z"
    }
   },
   "outputs": [
    {
     "name": "stdout",
     "output_type": "stream",
     "text": [
      "0\n"
     ]
    }
   ],
   "source": [
    "for x in range(2):\n",
    "    if x == 1:\n",
    "        break\n",
    "    print(x)\n",
    "else:\n",
    "    print('El último es x = %d' % x)"
   ]
  },
  {
   "cell_type": "code",
   "execution_count": 41,
   "id": "cfb486ab",
   "metadata": {
    "ExecuteTime": {
     "end_time": "2023-04-07T02:51:53.532577Z",
     "start_time": "2023-04-07T02:51:53.524956Z"
    }
   },
   "outputs": [
    {
     "name": "stdout",
     "output_type": "stream",
     "text": [
      "0\n",
      "El último es x = 1\n"
     ]
    }
   ],
   "source": [
    "for x in range(2):\n",
    "    if x == 1:\n",
    "        continue\n",
    "    print(x)\n",
    "else:\n",
    "    print('El último es x = %d' % x)"
   ]
  },
  {
   "cell_type": "code",
   "execution_count": 81,
   "id": "246bf48d",
   "metadata": {
    "ExecuteTime": {
     "end_time": "2023-04-07T04:00:47.208650Z",
     "start_time": "2023-04-07T04:00:47.202414Z"
    }
   },
   "outputs": [
    {
     "name": "stdout",
     "output_type": "stream",
     "text": [
      "4\n",
      "3\n",
      "2\n",
      "1\n",
      "0\n",
      "El bucle ha finalizado\n"
     ]
    }
   ],
   "source": [
    "x = 5\n",
    "while x > 0:\n",
    "    x -=1\n",
    "    print(x)\n",
    "else:\n",
    "    print(\"El bucle ha finalizado\")"
   ]
  },
  {
   "cell_type": "code",
   "execution_count": 84,
   "id": "26c4ba38",
   "metadata": {
    "ExecuteTime": {
     "end_time": "2023-04-07T04:01:57.619054Z",
     "start_time": "2023-04-07T04:01:57.611835Z"
    }
   },
   "outputs": [
    {
     "name": "stdout",
     "output_type": "stream",
     "text": [
      "4\n",
      "3\n",
      "2\n",
      "1\n",
      "0\n"
     ]
    }
   ],
   "source": [
    "x = 5\n",
    "while True:\n",
    "    x -= 1\n",
    "    print(x)\n",
    "    if x == 0:\n",
    "        break\n",
    "else:\n",
    "    print(\"Fin del bucle\")"
   ]
  },
  {
   "cell_type": "markdown",
   "id": "8c3de0d4",
   "metadata": {
    "ExecuteTime": {
     "end_time": "2023-03-27T18:49:19.476585Z",
     "start_time": "2023-03-27T18:49:19.469336Z"
    }
   },
   "source": [
    "### Contenedores\n",
    "\n",
    "En Python los contenedores se emplean para alojar multiples variables de varios tipos. Los básicos son:\n",
    "\n",
    "- Listas\n",
    "- Tuplas\n",
    "- Conjuntos\n",
    "- Diccionarios"
   ]
  },
  {
   "cell_type": "markdown",
   "id": "a7d64c31",
   "metadata": {
    "ExecuteTime": {
     "end_time": "2023-03-27T19:15:16.488269Z",
     "start_time": "2023-03-27T19:15:16.424604Z"
    }
   },
   "source": [
    "#### Lista\n",
    "Una lista  es una colección de variables ordenadas."
   ]
  },
  {
   "cell_type": "code",
   "execution_count": 58,
   "id": "e0776a9f",
   "metadata": {
    "ExecuteTime": {
     "end_time": "2023-04-10T03:59:17.172204Z",
     "start_time": "2023-04-10T03:59:17.167462Z"
    }
   },
   "outputs": [
    {
     "name": "stdout",
     "output_type": "stream",
     "text": [
      "[1, '2', 3.0, 4]\n"
     ]
    }
   ],
   "source": [
    "lista = [1, '2', 3.0, 4]\n",
    "print(lista)"
   ]
  },
  {
   "cell_type": "markdown",
   "id": "33072e7c",
   "metadata": {},
   "source": [
    "Para accesar a alguno de los elementos de la lista se escribe en corchetes su posición. Cabe recordar que en Python, la posición o índice de los elementos de las listas inician en 0, por ejemplo:\n",
    "\n",
    "lista = [1, '2', 3.0, 4] \\\n",
    "indice [0] [1] [2] [3]\n",
    "\n",
    "Para acceder al primer elemento de la lista podemos escribir:"
   ]
  },
  {
   "cell_type": "code",
   "execution_count": 59,
   "id": "40c6186a",
   "metadata": {
    "ExecuteTime": {
     "end_time": "2023-04-10T03:59:19.058116Z",
     "start_time": "2023-04-10T03:59:19.050056Z"
    }
   },
   "outputs": [
    {
     "name": "stdout",
     "output_type": "stream",
     "text": [
      "1 <class 'int'>\n",
      "2 <class 'str'>\n",
      "4 <class 'int'>\n",
      "4 <class 'int'>\n",
      "--------------------------\n",
      "1 <class 'int'>\n",
      "2 <class 'str'>\n",
      "3.0 <class 'float'>\n",
      "4 <class 'int'>\n"
     ]
    }
   ],
   "source": [
    "print(lista[0], type(lista[0]))\n",
    "print(lista[0+1], type(lista[0+1]))\n",
    "print(lista[-1], type(lista[-1]))\n",
    "print(lista[3], type(lista[3]))\n",
    "\n",
    "print('--------------------------')\n",
    "for i in lista:\n",
    "    print(i, type(i))"
   ]
  },
  {
   "cell_type": "markdown",
   "id": "6afb6a57",
   "metadata": {},
   "source": [
    "Las listas son modificables, por ejemplo:"
   ]
  },
  {
   "cell_type": "code",
   "execution_count": 66,
   "id": "44564083",
   "metadata": {
    "ExecuteTime": {
     "end_time": "2023-04-10T04:04:19.670597Z",
     "start_time": "2023-04-10T04:04:19.664002Z"
    }
   },
   "outputs": [
    {
     "name": "stdout",
     "output_type": "stream",
     "text": [
      "[1, 0, 3.0, 4]\n",
      "0 <class 'int'>\n"
     ]
    }
   ],
   "source": [
    "lista = [1, '2', 3.0, 4]\n",
    "\n",
    "lista[1] = 0\n",
    "\n",
    "print(lista)\n",
    "print(lista[1], type(lista[1]))"
   ]
  },
  {
   "cell_type": "markdown",
   "id": "3d30d18a",
   "metadata": {},
   "source": [
    "Para extender una lista podemos utilizar la sentencia `append()` :"
   ]
  },
  {
   "cell_type": "code",
   "execution_count": 67,
   "id": "99ddf930",
   "metadata": {
    "ExecuteTime": {
     "end_time": "2023-04-10T04:04:23.744767Z",
     "start_time": "2023-04-10T04:04:23.739887Z"
    }
   },
   "outputs": [
    {
     "data": {
      "text/plain": [
       "[1, 0, 3.0, 4, 7]"
      ]
     },
     "execution_count": 67,
     "metadata": {},
     "output_type": "execute_result"
    }
   ],
   "source": [
    "lista.append(7) #añade 7 al final de la lista\n",
    "lista"
   ]
  },
  {
   "cell_type": "markdown",
   "id": "a67e7dac",
   "metadata": {},
   "source": [
    "o simplemente concatenar las listas:"
   ]
  },
  {
   "cell_type": "code",
   "execution_count": 68,
   "id": "a2e9f0d4",
   "metadata": {
    "ExecuteTime": {
     "end_time": "2023-04-10T04:04:25.606931Z",
     "start_time": "2023-04-10T04:04:25.598906Z"
    }
   },
   "outputs": [
    {
     "data": {
      "text/plain": [
       "[1, 0, 3.0, 4, 7, 1, 'a']"
      ]
     },
     "execution_count": 68,
     "metadata": {},
     "output_type": "execute_result"
    }
   ],
   "source": [
    "lista + [1, 'a']"
   ]
  },
  {
   "cell_type": "markdown",
   "id": "6a70679f",
   "metadata": {},
   "source": [
    "Otras sentencias para modificar los elementos de las listas son: `insert`, `remove`:"
   ]
  },
  {
   "cell_type": "code",
   "execution_count": 69,
   "id": "2f96ad0e",
   "metadata": {
    "ExecuteTime": {
     "end_time": "2023-04-10T04:04:39.020721Z",
     "start_time": "2023-04-10T04:04:39.012344Z"
    }
   },
   "outputs": [
    {
     "data": {
      "text/plain": [
       "[1, 0, 0, 3.0, 4, 7]"
      ]
     },
     "execution_count": 69,
     "metadata": {},
     "output_type": "execute_result"
    }
   ],
   "source": [
    "lista.insert(2, 0) #inserta 0 en el indice 2\n",
    "lista"
   ]
  },
  {
   "cell_type": "code",
   "execution_count": 70,
   "id": "fd56a11a",
   "metadata": {
    "ExecuteTime": {
     "end_time": "2023-04-10T04:04:40.183845Z",
     "start_time": "2023-04-10T04:04:40.179594Z"
    }
   },
   "outputs": [
    {
     "data": {
      "text/plain": [
       "[1, 0, 0, 3.0, 7]"
      ]
     },
     "execution_count": 70,
     "metadata": {},
     "output_type": "execute_result"
    }
   ],
   "source": [
    "lista.remove(4) #remueve el numero 4\n",
    "lista"
   ]
  },
  {
   "cell_type": "markdown",
   "id": "02146e4f",
   "metadata": {},
   "source": [
    "Las listas son iterables, por lo que podemos utilizar bucles para iterar con sus elementos:"
   ]
  },
  {
   "cell_type": "code",
   "execution_count": 63,
   "id": "e726b5bc",
   "metadata": {
    "ExecuteTime": {
     "end_time": "2023-03-31T19:55:33.469515Z",
     "start_time": "2023-03-31T19:55:33.459153Z"
    }
   },
   "outputs": [
    {
     "name": "stdout",
     "output_type": "stream",
     "text": [
      "0 , -3\n",
      "1 , -2\n",
      "2 , -1\n",
      "3 , 0\n",
      "4 , 1\n",
      "5 , 2\n",
      "6 , 3\n"
     ]
    }
   ],
   "source": [
    "i = 0\n",
    "for elemento in [-3, -2, -1, 0, 1, 2, 3]:\n",
    "    print(i, ',', elemento)\n",
    "    i += 1\n",
    "    #i = i + 1"
   ]
  },
  {
   "cell_type": "code",
   "execution_count": 61,
   "id": "df354ea1",
   "metadata": {
    "ExecuteTime": {
     "end_time": "2023-03-31T19:53:51.242043Z",
     "start_time": "2023-03-31T19:53:51.232255Z"
    }
   },
   "outputs": [
    {
     "name": "stdout",
     "output_type": "stream",
     "text": [
      "indice: 0 , elemento: -3\n",
      "indice: 1 , elemento: -2\n",
      "indice: 2 , elemento: -1\n",
      "indice: 3 , elemento: 0\n",
      "indice: 4 , elemento: 1\n",
      "indice: 5 , elemento: 2\n",
      "indice: 6 , elemento: 3\n"
     ]
    }
   ],
   "source": [
    "for indice, elemento in enumerate([-3, -2, -1, 0, 1, 2, 3]):\n",
    "    print('indice:', indice, ', elemento:',  elemento)"
   ]
  },
  {
   "cell_type": "markdown",
   "id": "343787a1",
   "metadata": {},
   "source": [
    "Para iterar con dos o más listas podemos utilizar la sentencia `zip()`:"
   ]
  },
  {
   "cell_type": "code",
   "execution_count": 69,
   "id": "c589e9a0",
   "metadata": {
    "ExecuteTime": {
     "end_time": "2023-03-31T20:01:17.696405Z",
     "start_time": "2023-03-31T20:01:17.685243Z"
    }
   },
   "outputs": [
    {
     "name": "stdout",
     "output_type": "stream",
     "text": [
      "a , 1 , 6.0\n",
      "b , 2 , 7.0\n",
      "c , 3 , 8.0\n",
      "d , 4 , 9.0\n"
     ]
    }
   ],
   "source": [
    "lista1 = ['a', 'b', 'c', 'd']\n",
    "lista2 = [1, 2, 3, 4, 5]\n",
    "lista3 = [6.0, 7.0, 8.0, 9.0, 10.0]\n",
    "\n",
    "for l1, l2, l3 in zip(lista1, lista2, lista3):\n",
    "    print(l1, ',', l2, ',', l3)"
   ]
  },
  {
   "cell_type": "code",
   "execution_count": 73,
   "id": "5f4eebc8",
   "metadata": {
    "ExecuteTime": {
     "end_time": "2023-03-31T20:03:27.648518Z",
     "start_time": "2023-03-31T20:03:27.641207Z"
    }
   },
   "outputs": [
    {
     "name": "stdout",
     "output_type": "stream",
     "text": [
      "[('a', 1, 6.0), ('b', 2, 7.0), ('c', 3, 8.0), ('d', 4, 9.0)]\n",
      "-----------------\n",
      "elemento 0: ('a', 1, 6.0)\n"
     ]
    }
   ],
   "source": [
    "lista_zip= list(zip(lista1, lista2, lista3))\n",
    "\n",
    "print(lista_zip)\n",
    "print('-----------------')\n",
    "\n",
    "print('elemento 0:', lista_zip[0])"
   ]
  },
  {
   "cell_type": "markdown",
   "id": "c5414c2b",
   "metadata": {},
   "source": [
    "#### Tupla\n",
    "\n",
    "Una tipla es  una colección ordenada de variables. Son similares a las listas, pueden alojar elementos de diferentes tipos:"
   ]
  },
  {
   "cell_type": "code",
   "execution_count": 162,
   "id": "819d8d8c",
   "metadata": {
    "ExecuteTime": {
     "end_time": "2023-03-27T20:58:38.026699Z",
     "start_time": "2023-03-27T20:58:38.020644Z"
    }
   },
   "outputs": [
    {
     "name": "stdout",
     "output_type": "stream",
     "text": [
      "(1, '2', 3.0, 4) <class 'tuple'>\n",
      "1 <class 'int'>\n",
      "2 <class 'str'>\n",
      "3.0 <class 'float'>\n"
     ]
    }
   ],
   "source": [
    "tupla = (1, '2', 3.0, 4)\n",
    "\n",
    "print(tupla, type(tupla))\n",
    "print(tupla[0], type(tupla[0]))\n",
    "print(tupla[1], type(tupla[1]))\n",
    "print(tupla[2], type(tupla[2]))"
   ]
  },
  {
   "cell_type": "markdown",
   "id": "b228e1c1",
   "metadata": {},
   "source": [
    "Sin embargo, son inmultables."
   ]
  },
  {
   "cell_type": "code",
   "execution_count": 93,
   "id": "ef5753c1",
   "metadata": {
    "ExecuteTime": {
     "end_time": "2023-03-27T19:35:56.115340Z",
     "start_time": "2023-03-27T19:35:56.088247Z"
    }
   },
   "outputs": [
    {
     "ename": "TypeError",
     "evalue": "'tuple' object does not support item assignment",
     "output_type": "error",
     "traceback": [
      "\u001b[0;31m---------------------------------------------------------------------------\u001b[0m",
      "\u001b[0;31mTypeError\u001b[0m                                 Traceback (most recent call last)",
      "Input \u001b[0;32mIn [93]\u001b[0m, in \u001b[0;36m<cell line: 1>\u001b[0;34m()\u001b[0m\n\u001b[0;32m----> 1\u001b[0m tupla[\u001b[38;5;241m1\u001b[39m] \u001b[38;5;241m=\u001b[39m \u001b[38;5;241m2\u001b[39m\n",
      "\u001b[0;31mTypeError\u001b[0m: 'tuple' object does not support item assignment"
     ]
    }
   ],
   "source": [
    "tupla[1] = 2 "
   ]
  },
  {
   "cell_type": "markdown",
   "id": "a77fba74",
   "metadata": {},
   "source": [
    "Bueno, no del todo, ya que se pueden utilizar los operadores `+` y `*` para concatenar o repetir una tupla. Por ejemplo:"
   ]
  },
  {
   "cell_type": "code",
   "execution_count": 71,
   "id": "e7e64f6b",
   "metadata": {
    "ExecuteTime": {
     "end_time": "2023-04-10T04:07:16.881423Z",
     "start_time": "2023-04-10T04:07:16.866073Z"
    }
   },
   "outputs": [
    {
     "name": "stdout",
     "output_type": "stream",
     "text": [
      "(1, 2, 3, 4, 5, 6)\n"
     ]
    }
   ],
   "source": [
    "tupla1 = (1, 2, 3)\n",
    "tupla2 = (4, 5, 6)\n",
    "tupla3 = tupla1 + tupla2\n",
    "\n",
    "print(tupla3)"
   ]
  },
  {
   "cell_type": "code",
   "execution_count": 72,
   "id": "63f98602",
   "metadata": {
    "ExecuteTime": {
     "end_time": "2023-04-10T04:07:37.640885Z",
     "start_time": "2023-04-10T04:07:37.636485Z"
    }
   },
   "outputs": [
    {
     "name": "stdout",
     "output_type": "stream",
     "text": [
      "(1, 2, 3, 1, 2, 3, 1, 2, 3)\n"
     ]
    }
   ],
   "source": [
    "tupla4 = tupla1 * 3\n",
    "print(tupla4)"
   ]
  },
  {
   "cell_type": "markdown",
   "id": "7c55202f",
   "metadata": {},
   "source": [
    "#### Conjunto\n",
    "\n",
    "Un conjunto esuna colección de variables inmutables y contienen solo elementos únicos:"
   ]
  },
  {
   "cell_type": "code",
   "execution_count": 97,
   "id": "dac4f47f",
   "metadata": {
    "ExecuteTime": {
     "end_time": "2023-03-27T19:36:36.547476Z",
     "start_time": "2023-03-27T19:36:36.541472Z"
    }
   },
   "outputs": [
    {
     "name": "stdout",
     "output_type": "stream",
     "text": [
      "{1, 3.0, 4, '2'} <class 'set'>\n",
      "{1, 3.0, 4, 5, '5', '2'} <class 'set'>\n"
     ]
    }
   ],
   "source": [
    "set_test = {1, '2', 3.0, 4}\n",
    "set_test1= {1, '2', 3.0, 4, 4, 3, '5', 5, '5', 5}\n",
    "\n",
    "print(set_test, type(set_test))\n",
    "print(set_test1, type(set_test1))"
   ]
  },
  {
   "cell_type": "markdown",
   "id": "7a79e774",
   "metadata": {},
   "source": [
    "Una lista o tupla puede convertirse en un conjunto con la sentencia `set()`:"
   ]
  },
  {
   "cell_type": "code",
   "execution_count": 122,
   "id": "ecfe4a1b",
   "metadata": {
    "ExecuteTime": {
     "end_time": "2023-03-27T19:58:58.388602Z",
     "start_time": "2023-03-27T19:58:58.383088Z"
    }
   },
   "outputs": [
    {
     "name": "stdout",
     "output_type": "stream",
     "text": [
      "{1, 3.0, 4, '2'} <class 'set'>\n",
      "{1, 3.0, 4, '2'} <class 'set'>\n"
     ]
    }
   ],
   "source": [
    "set_lista = set(lista)\n",
    "set_tupla = set(tupla)\n",
    "\n",
    "print(set_lista, type(set_lista))\n",
    "print(set_tupla, type(set_tupla))"
   ]
  },
  {
   "cell_type": "markdown",
   "id": "509b7a06",
   "metadata": {},
   "source": [
    "También se pueden realizar operaciones  y bucles con los conjuntos:"
   ]
  },
  {
   "cell_type": "code",
   "execution_count": 139,
   "id": "a40cc527",
   "metadata": {
    "ExecuteTime": {
     "end_time": "2023-03-27T20:38:45.566284Z",
     "start_time": "2023-03-27T20:38:45.553433Z"
    }
   },
   "outputs": [
    {
     "name": "stdout",
     "output_type": "stream",
     "text": [
      "{1, 3.0, 4, '2'} <class 'set'>\n",
      "set() <class 'set'>\n",
      "{1, 3.0, 4, '2'} <class 'set'>\n",
      "----------------------------------\n",
      "{'frio', 'calor'} <class 'set'>\n",
      "----------------------------------\n",
      "frio <class 'str'>\n",
      "calor <class 'str'>\n"
     ]
    }
   ],
   "source": [
    "union = set_lista.union(set_tupla)\n",
    "eliminar = set_lista - set_tupla\n",
    "interseccion = set_lista.intersection(set_tupla)\n",
    "\n",
    "print(union, type(union))\n",
    "print(eliminar, type(eliminar))\n",
    "print(interseccion, type(interseccion))\n",
    "\n",
    "print('----------------------------------')\n",
    "\n",
    "palabras = {'sistema', 'fuente', 'calor', 'frio'}\n",
    "conjunto = palabras - {'sistema', 'fuente'}\n",
    "print(conjunto, type(conjunto))\n",
    "\n",
    "print('----------------------------------')\n",
    "for i in conjunto:\n",
    "    print(i, type(i))"
   ]
  },
  {
   "cell_type": "markdown",
   "id": "d6f3e30f",
   "metadata": {},
   "source": [
    "#### Diccionario\n",
    "\n",
    "Es una colección de valores (`values`) que se conectan con claves (`keys`). "
   ]
  },
  {
   "cell_type": "code",
   "execution_count": 29,
   "id": "a4eba404",
   "metadata": {
    "ExecuteTime": {
     "end_time": "2023-04-10T22:29:15.866674Z",
     "start_time": "2023-04-10T22:29:15.857346Z"
    }
   },
   "outputs": [
    {
     "name": "stdout",
     "output_type": "stream",
     "text": [
      "{'a': '123456789', 'b': '234567890', 'c': '345678901'} <class 'dict'>\n"
     ]
    }
   ],
   "source": [
    "diccionario = {\n",
    "    'a' : '123456789',\n",
    "    'b' : '234567890',\n",
    "    'c' : '345678901'\n",
    "}\n",
    "\n",
    "print(diccionario, type(diccionario))"
   ]
  },
  {
   "cell_type": "code",
   "execution_count": 30,
   "id": "b33fcf60",
   "metadata": {
    "ExecuteTime": {
     "end_time": "2023-04-10T22:29:16.977190Z",
     "start_time": "2023-04-10T22:29:16.971395Z"
    }
   },
   "outputs": [
    {
     "name": "stdout",
     "output_type": "stream",
     "text": [
      "{'a': '123456789', 'b': '234567890', 'c': '345678901'} <class 'dict'>\n"
     ]
    }
   ],
   "source": [
    "diccionario = {'a' : '123456789', 'b' : '234567890', 'c' : '345678901'}\n",
    "print(diccionario, type(diccionario))"
   ]
  },
  {
   "cell_type": "code",
   "execution_count": 31,
   "id": "236c2228",
   "metadata": {
    "ExecuteTime": {
     "end_time": "2023-04-10T22:29:41.012735Z",
     "start_time": "2023-04-10T22:29:41.007540Z"
    }
   },
   "outputs": [
    {
     "name": "stdout",
     "output_type": "stream",
     "text": [
      "123456789 <class 'str'>\n"
     ]
    }
   ],
   "source": [
    "print(diccionario['a'], type(diccionario['a']))"
   ]
  },
  {
   "cell_type": "markdown",
   "id": "60baf446",
   "metadata": {},
   "source": [
    "Se puede iterar con los elementos que conforman un diccionario:"
   ]
  },
  {
   "cell_type": "code",
   "execution_count": 32,
   "id": "1a4f554a",
   "metadata": {
    "ExecuteTime": {
     "end_time": "2023-04-10T22:30:30.369552Z",
     "start_time": "2023-04-10T22:30:30.329970Z"
    }
   },
   "outputs": [
    {
     "name": "stdout",
     "output_type": "stream",
     "text": [
      "a\n",
      "b\n",
      "c\n",
      "----------------------------------\n",
      "clave: a, valor: 123456789\n",
      "clave: b, valor: 234567890\n",
      "clave: c, valor: 345678901\n"
     ]
    }
   ],
   "source": [
    "for keys in diccionario:\n",
    "    print(keys)\n",
    "\n",
    "print('----------------------------------')\n",
    "\n",
    "for keys, values in diccionario.items():\n",
    "    print(f'clave: {keys}, valor: {values}')"
   ]
  },
  {
   "cell_type": "markdown",
   "id": "4b2ea1c1",
   "metadata": {},
   "source": [
    "Otra manera para acceder a las claves y valores del diccionario es con los métodos `get()`, `keys()`, `values()`, `items`."
   ]
  },
  {
   "cell_type": "code",
   "execution_count": null,
   "id": "d4a56ff2",
   "metadata": {},
   "outputs": [],
   "source": [
    "print(libro.get('a'))"
   ]
  },
  {
   "cell_type": "code",
   "execution_count": 15,
   "id": "a322dd98",
   "metadata": {
    "ExecuteTime": {
     "end_time": "2023-04-10T22:22:49.580504Z",
     "start_time": "2023-04-10T22:22:49.571598Z"
    }
   },
   "outputs": [
    {
     "name": "stdout",
     "output_type": "stream",
     "text": [
      "None\n"
     ]
    }
   ],
   "source": [
    "print(libro.get('d'))"
   ]
  },
  {
   "cell_type": "code",
   "execution_count": 16,
   "id": "380880ad",
   "metadata": {
    "ExecuteTime": {
     "end_time": "2023-04-10T22:22:49.927390Z",
     "start_time": "2023-04-10T22:22:49.915950Z"
    }
   },
   "outputs": [
    {
     "name": "stdout",
     "output_type": "stream",
     "text": [
      "No existe en el diccionario\n"
     ]
    }
   ],
   "source": [
    "print(libro.get('d', 'No existe en el diccionario'))"
   ]
  },
  {
   "cell_type": "code",
   "execution_count": 17,
   "id": "0fd5ba06",
   "metadata": {
    "ExecuteTime": {
     "end_time": "2023-04-10T22:22:50.544736Z",
     "start_time": "2023-04-10T22:22:50.505789Z"
    }
   },
   "outputs": [
    {
     "name": "stdout",
     "output_type": "stream",
     "text": [
      "dict_keys(['a', 'b', 'c'])\n"
     ]
    }
   ],
   "source": [
    "print(libro.keys())"
   ]
  },
  {
   "cell_type": "code",
   "execution_count": 18,
   "id": "cfe10fb8",
   "metadata": {
    "ExecuteTime": {
     "end_time": "2023-04-10T22:22:51.762517Z",
     "start_time": "2023-04-10T22:22:51.757823Z"
    }
   },
   "outputs": [
    {
     "name": "stdout",
     "output_type": "stream",
     "text": [
      "dict_values(['123456789', '234567890', '345678901'])\n"
     ]
    }
   ],
   "source": [
    "print(libro.values())"
   ]
  },
  {
   "cell_type": "code",
   "execution_count": 19,
   "id": "e64c96cb",
   "metadata": {
    "ExecuteTime": {
     "end_time": "2023-04-10T22:22:52.012822Z",
     "start_time": "2023-04-10T22:22:52.006050Z"
    }
   },
   "outputs": [
    {
     "name": "stdout",
     "output_type": "stream",
     "text": [
      "dict_items([('a', '123456789'), ('b', '234567890'), ('c', '345678901')])\n"
     ]
    }
   ],
   "source": [
    "print(libro.items())"
   ]
  },
  {
   "cell_type": "markdown",
   "id": "33bb3007",
   "metadata": {},
   "source": [
    "Se pueden utilizar el método `update` para añadir o actualizar las claves (`keys`) y los valores(`values`):"
   ]
  },
  {
   "cell_type": "code",
   "execution_count": 20,
   "id": "4271ad5e",
   "metadata": {
    "ExecuteTime": {
     "end_time": "2023-04-10T22:22:54.967967Z",
     "start_time": "2023-04-10T22:22:54.962455Z"
    }
   },
   "outputs": [
    {
     "data": {
      "text/plain": [
       "{'a': '123456789', 'b': '234567890', 'c': '345678901', 'd': '456789012'}"
      ]
     },
     "execution_count": 20,
     "metadata": {},
     "output_type": "execute_result"
    }
   ],
   "source": [
    "libro.update({'d': '456789012'})\n",
    "\n",
    "libro"
   ]
  },
  {
   "cell_type": "code",
   "execution_count": 21,
   "id": "e169573a",
   "metadata": {
    "ExecuteTime": {
     "end_time": "2023-04-10T22:22:56.399763Z",
     "start_time": "2023-04-10T22:22:56.383757Z"
    }
   },
   "outputs": [
    {
     "data": {
      "text/plain": [
       "{'a': '000000000', 'b': '234567890', 'c': '345678901', 'd': '456789012'}"
      ]
     },
     "execution_count": 21,
     "metadata": {},
     "output_type": "execute_result"
    }
   ],
   "source": [
    "libro.update({'a': '000000000'})\n",
    "libro"
   ]
  },
  {
   "cell_type": "markdown",
   "id": "e83cb76a",
   "metadata": {},
   "source": [
    "También se puede usar el método `pop` para remover claves y valores de un diccionario."
   ]
  },
  {
   "cell_type": "code",
   "execution_count": 22,
   "id": "232c5cdb",
   "metadata": {
    "ExecuteTime": {
     "end_time": "2023-04-10T22:23:00.921213Z",
     "start_time": "2023-04-10T22:23:00.913201Z"
    }
   },
   "outputs": [
    {
     "data": {
      "text/plain": [
       "{'b': '234567890', 'c': '345678901', 'd': '456789012'}"
      ]
     },
     "execution_count": 22,
     "metadata": {},
     "output_type": "execute_result"
    }
   ],
   "source": [
    "libro.pop('a')\n",
    "libro"
   ]
  },
  {
   "cell_type": "code",
   "execution_count": 23,
   "id": "2a878767",
   "metadata": {
    "ExecuteTime": {
     "end_time": "2023-04-10T22:23:17.426636Z",
     "start_time": "2023-04-10T22:23:17.417359Z"
    }
   },
   "outputs": [
    {
     "name": "stdout",
     "output_type": "stream",
     "text": [
      "456789012\n"
     ]
    }
   ],
   "source": [
    "print(libro.pop('d', 'No existe en el diccionario'))\n"
   ]
  },
  {
   "cell_type": "code",
   "execution_count": 24,
   "id": "d4371752",
   "metadata": {
    "ExecuteTime": {
     "end_time": "2023-04-10T22:23:25.562844Z",
     "start_time": "2023-04-10T22:23:25.554061Z"
    }
   },
   "outputs": [
    {
     "name": "stdout",
     "output_type": "stream",
     "text": [
      "No existe en el diccionario\n"
     ]
    }
   ],
   "source": [
    "print(libro.pop('d', 'No existe en el diccionario'))"
   ]
  },
  {
   "cell_type": "code",
   "execution_count": 25,
   "id": "541a43fa",
   "metadata": {
    "ExecuteTime": {
     "end_time": "2023-04-10T22:23:35.034777Z",
     "start_time": "2023-04-10T22:23:35.023363Z"
    }
   },
   "outputs": [
    {
     "data": {
      "text/plain": [
       "{'b': '234567890', 'c': '345678901'}"
      ]
     },
     "execution_count": 25,
     "metadata": {},
     "output_type": "execute_result"
    }
   ],
   "source": [
    "libro"
   ]
  },
  {
   "cell_type": "markdown",
   "id": "74ad1872",
   "metadata": {},
   "source": [
    "El método `clear` se puede emplear para remover todas las claves y valores del diccionario:"
   ]
  },
  {
   "cell_type": "code",
   "execution_count": 28,
   "id": "e3cc0b70",
   "metadata": {
    "ExecuteTime": {
     "end_time": "2023-04-10T22:28:42.908504Z",
     "start_time": "2023-04-10T22:28:42.899263Z"
    }
   },
   "outputs": [
    {
     "data": {
      "text/plain": [
       "{}"
      ]
     },
     "execution_count": 28,
     "metadata": {},
     "output_type": "execute_result"
    }
   ],
   "source": [
    "libro.clear()\n",
    "\n",
    "libro"
   ]
  },
  {
   "cell_type": "markdown",
   "id": "6ad53303",
   "metadata": {},
   "source": [
    "### Funciones\n",
    "\n",
    "Las funciones son bloques de código que son definidas y nombradas, y que pueden ser llamadas desde cualquier parte del código. Las funciones pueden aceptar parámetros de entrada y regresar valores de salida, las cuales hacen de ellas muy utilizables para encapsular código reusable (reusabilidad y modularidad).\n",
    "\n",
    "Para definir una función en Python, se utiliza la sentencia `def`, seguido del nombre de la función y una lista de parámetros o argumentros en un paréntesis. Una función simpre devuelve un valor. La función utiliza la palabra clave `return` para devolver un valor dado; si no se desea devolver ningún valor, se devolverá el valor predeterminado `None`.\n",
    "\n",
    "Python interpreta el bloque de funciones sólo uando se llaman y no cuando se definen, por lo que si la función contiene algún tipo de error, el intérprete lo señalará sólo cuando se llame a la función.\n",
    "\n",
    "Siempre se debe de proporcionar el mismo número de parámetros cuando se llame a la función.\n",
    "\n",
    "Su sintaxis es la siguiente:"
   ]
  },
  {
   "cell_type": "code",
   "execution_count": null,
   "id": "d784973c",
   "metadata": {},
   "outputs": [],
   "source": [
    "def <nombre de la función> (<argumento 1>, <argumento 2>):\n",
    "    <Tú código>\n",
    "    return <retorno>"
   ]
  },
  {
   "cell_type": "code",
   "execution_count": 1,
   "id": "76c54496",
   "metadata": {
    "ExecuteTime": {
     "end_time": "2023-04-11T00:40:22.113883Z",
     "start_time": "2023-04-11T00:40:22.109587Z"
    }
   },
   "outputs": [
    {
     "name": "stdout",
     "output_type": "stream",
     "text": [
      "Hola,sina!\n"
     ]
    }
   ],
   "source": [
    "def saludo(nombre):\n",
    "    print('Hola,' +  nombre + '!')\n",
    "    \n",
    "saludo(nombre= 'sina')"
   ]
  },
  {
   "cell_type": "code",
   "execution_count": 21,
   "id": "220d50ce",
   "metadata": {
    "ExecuteTime": {
     "end_time": "2023-04-11T01:29:52.645806Z",
     "start_time": "2023-04-11T01:29:52.642989Z"
    }
   },
   "outputs": [],
   "source": [
    "def resta(x, y):\n",
    "    return u"
   ]
  },
  {
   "cell_type": "code",
   "execution_count": 22,
   "id": "fe1a5fd9",
   "metadata": {
    "ExecuteTime": {
     "end_time": "2023-04-11T01:29:52.899236Z",
     "start_time": "2023-04-11T01:29:52.866708Z"
    }
   },
   "outputs": [
    {
     "ename": "NameError",
     "evalue": "name 'u' is not defined",
     "output_type": "error",
     "traceback": [
      "\u001b[0;31m---------------------------------------------------------------------------\u001b[0m",
      "\u001b[0;31mNameError\u001b[0m                                 Traceback (most recent call last)",
      "Input \u001b[0;32mIn [22]\u001b[0m, in \u001b[0;36m<cell line: 1>\u001b[0;34m()\u001b[0m\n\u001b[0;32m----> 1\u001b[0m \u001b[43mresta\u001b[49m\u001b[43m(\u001b[49m\u001b[38;5;241;43m1\u001b[39;49m\u001b[43m,\u001b[49m\u001b[43m \u001b[49m\u001b[38;5;241;43m2\u001b[39;49m\u001b[43m)\u001b[49m\n",
      "Input \u001b[0;32mIn [21]\u001b[0m, in \u001b[0;36mresta\u001b[0;34m(x, y)\u001b[0m\n\u001b[1;32m      1\u001b[0m \u001b[38;5;28;01mdef\u001b[39;00m \u001b[38;5;21mresta\u001b[39m(x, y):\n\u001b[0;32m----> 2\u001b[0m     \u001b[38;5;28;01mreturn\u001b[39;00m \u001b[43mu\u001b[49m\n",
      "\u001b[0;31mNameError\u001b[0m: name 'u' is not defined"
     ]
    }
   ],
   "source": [
    "resta(1, 2)"
   ]
  },
  {
   "cell_type": "code",
   "execution_count": 7,
   "id": "f5cba7da",
   "metadata": {
    "ExecuteTime": {
     "end_time": "2023-04-11T00:41:42.345567Z",
     "start_time": "2023-04-11T00:41:42.339983Z"
    }
   },
   "outputs": [
    {
     "data": {
      "text/plain": [
       "3"
      ]
     },
     "execution_count": 7,
     "metadata": {},
     "output_type": "execute_result"
    }
   ],
   "source": [
    "def suma(x, y):\n",
    "    return x + y\n",
    "\n",
    "suma(x=1, y= 2)"
   ]
  },
  {
   "cell_type": "markdown",
   "id": "600253f8",
   "metadata": {},
   "source": [
    "La sentencia `return` permite salir de la función y transferir la ejecución de vuelta a donde se realizó la llamada; y devolver uno o varios parámetros origindos en la ejecución de la función."
   ]
  },
  {
   "cell_type": "code",
   "execution_count": 18,
   "id": "3116bc8e",
   "metadata": {
    "ExecuteTime": {
     "end_time": "2023-04-11T01:26:12.322350Z",
     "start_time": "2023-04-11T01:26:12.315094Z"
    }
   },
   "outputs": [
    {
     "name": "stdout",
     "output_type": "stream",
     "text": [
      "El resultado de la suma es: 2\n",
      "El resultado de la multipliacion es: 4\n"
     ]
    }
   ],
   "source": [
    "def funcion(x, y, z):\n",
    "    suma = (x + y)\n",
    "    multiplicacion = suma * (z + y)\n",
    "    return suma, multiplicacion\n",
    "\n",
    "suma, multiplicacion = funcion(1, 1, 1)\n",
    "\n",
    "print('El resultado de la suma es: %s'  %suma)\n",
    "print('El resultado de la multipliacion es: %s'  %multiplicacion)"
   ]
  },
  {
   "cell_type": "markdown",
   "id": "a761c502",
   "metadata": {},
   "source": [
    "Tembién se pueden crear funciones en donde se realicen bucles:"
   ]
  },
  {
   "cell_type": "code",
   "execution_count": 9,
   "id": "0fe4b1b7",
   "metadata": {
    "ExecuteTime": {
     "end_time": "2023-04-11T00:41:44.646017Z",
     "start_time": "2023-04-11T00:41:44.636679Z"
    }
   },
   "outputs": [
    {
     "name": "stdout",
     "output_type": "stream",
     "text": [
      "Tabla de multilpicar del 1\n",
      "1 x 1 = 1\n",
      "1 x 2 = 2\n",
      "1 x 3 = 3\n",
      "Tabla de multilpicar del 2\n",
      "2 x 1 = 2\n",
      "2 x 2 = 4\n",
      "2 x 3 = 6\n",
      "Tabla de multilpicar del 3\n",
      "3 x 1 = 3\n",
      "3 x 2 = 6\n",
      "3 x 3 = 9\n"
     ]
    }
   ],
   "source": [
    "def tabla(inicio, fin, fin1):\n",
    "    for i in range(inicio, fin):\n",
    "        print(f'Tabla de multilpicar del {i}')\n",
    "        for j in range(inicio, fin1):\n",
    "            print(f'{i} x {j} = {i * j}')\n",
    "            \n",
    "tabla(inicio=1, fin=4, fin1=4)"
   ]
  },
  {
   "cell_type": "code",
   "execution_count": 17,
   "id": "aafc6457",
   "metadata": {
    "ExecuteTime": {
     "end_time": "2023-04-11T01:22:10.963314Z",
     "start_time": "2023-04-11T01:22:10.955543Z"
    }
   },
   "outputs": [
    {
     "data": {
      "text/plain": [
       "10"
      ]
     },
     "execution_count": 17,
     "metadata": {},
     "output_type": "execute_result"
    }
   ],
   "source": [
    "def suma(lista_numeros):\n",
    "    total = 0\n",
    "    for n in lista_numeros:\n",
    "        total += n\n",
    "    return total\n",
    "\n",
    "suma(lista_numeros= [1,2,3,4])"
   ]
  },
  {
   "cell_type": "markdown",
   "id": "4f60c913",
   "metadata": {},
   "source": [
    "Si se declara un argumento con `*`, el argumento que se pase será empaquetado en una tupla de manera automática:"
   ]
  },
  {
   "cell_type": "code",
   "execution_count": 25,
   "id": "c43aa24b",
   "metadata": {
    "ExecuteTime": {
     "end_time": "2023-04-11T01:33:57.453350Z",
     "start_time": "2023-04-11T01:33:57.447011Z"
    }
   },
   "outputs": [
    {
     "name": "stdout",
     "output_type": "stream",
     "text": [
      "<class 'tuple'>\n"
     ]
    },
    {
     "data": {
      "text/plain": [
       "10"
      ]
     },
     "execution_count": 25,
     "metadata": {},
     "output_type": "execute_result"
    }
   ],
   "source": [
    "def suma(*numeros):\n",
    "    print(type(numeros))\n",
    "    total = 0\n",
    "    for n in numeros:\n",
    "        total += n\n",
    "    return total\n",
    "\n",
    "suma(1, 2, 3, 4)"
   ]
  },
  {
   "cell_type": "markdown",
   "id": "1e8cf064",
   "metadata": {},
   "source": [
    "Utilizando `**` es posible tener como parámetro de entrada una lista de elementos almacenados en forma de diccionario. En este caso se puede iterar con los valores del diccionario usando el método `items()`:"
   ]
  },
  {
   "cell_type": "code",
   "execution_count": 29,
   "id": "2a739f4c",
   "metadata": {
    "ExecuteTime": {
     "end_time": "2023-04-11T01:38:17.586552Z",
     "start_time": "2023-04-11T01:38:17.577398Z"
    }
   },
   "outputs": [
    {
     "name": "stdout",
     "output_type": "stream",
     "text": [
      "<class 'dict'>\n",
      "a 1\n",
      "b 2\n",
      "c 3\n"
     ]
    },
    {
     "data": {
      "text/plain": [
       "6"
      ]
     },
     "execution_count": 29,
     "metadata": {},
     "output_type": "execute_result"
    }
   ],
   "source": [
    "def suma(**numeros):\n",
    "    print(type(numeros))\n",
    "    suma = 0;\n",
    "    for clave, valor in numeros.items():\n",
    "        print(clave, valor)\n",
    "        suma += valor\n",
    "    return suma\n",
    "\n",
    "suma(a=1, b=2, c=3)"
   ]
  },
  {
   "cell_type": "markdown",
   "id": "9d3b52ad",
   "metadata": {},
   "source": [
    "También se puede pasar un diccionario como parámetro de entrada:"
   ]
  },
  {
   "cell_type": "code",
   "execution_count": 32,
   "id": "3c9d9a17",
   "metadata": {
    "ExecuteTime": {
     "end_time": "2023-04-11T01:41:21.269261Z",
     "start_time": "2023-04-11T01:41:21.259621Z"
    }
   },
   "outputs": [
    {
     "name": "stdout",
     "output_type": "stream",
     "text": [
      "<class 'dict'>\n",
      "a 1\n",
      "b 2\n",
      "c 3\n"
     ]
    },
    {
     "data": {
      "text/plain": [
       "6"
      ]
     },
     "execution_count": 32,
     "metadata": {},
     "output_type": "execute_result"
    }
   ],
   "source": [
    "diccionario = {'a': 1, 'b': 2, 'c': 3}\n",
    "\n",
    "suma(**diccionario)"
   ]
  },
  {
   "cell_type": "markdown",
   "id": "ccc18196",
   "metadata": {},
   "source": [
    "Las funciones pueden ser muy complejas, por lo que se pueden documentar, en otras palabras, se pueden añadir comentarios para indicar como deben de ser usadas.  Para hacer esto se utiliza triple comilla `\"\"\"` al principio de la función. A este comentario se conoce como `docstring`."
   ]
  },
  {
   "cell_type": "code",
   "execution_count": 37,
   "id": "d8b6916e",
   "metadata": {
    "ExecuteTime": {
     "end_time": "2023-04-11T01:50:47.760051Z",
     "start_time": "2023-04-11T01:50:47.755610Z"
    }
   },
   "outputs": [],
   "source": [
    "def funcion_suma(a, b):\n",
    "    \"\"\"\n",
    "    Descripción de la función:\n",
    "    -La entrada son dos argumentos.\n",
    "    -Devuelve la suma de esos dos argumentos de entrada.\n",
    "    \"\"\"\n",
    "    return a+b"
   ]
  },
  {
   "cell_type": "markdown",
   "id": "bceb6c38",
   "metadata": {},
   "source": [
    "Con la función `help()` y `.__doc__`se pueden obtener los comentarios de la función creada:"
   ]
  },
  {
   "cell_type": "code",
   "execution_count": 38,
   "id": "0a2f90b0",
   "metadata": {
    "ExecuteTime": {
     "end_time": "2023-04-11T01:50:49.442643Z",
     "start_time": "2023-04-11T01:50:49.437814Z"
    }
   },
   "outputs": [
    {
     "name": "stdout",
     "output_type": "stream",
     "text": [
      "Help on function funcion_suma in module __main__:\n",
      "\n",
      "funcion_suma(a, b)\n",
      "    Descripción de la función:\n",
      "    -La entrada son dos argumentos.\n",
      "    -Devuelve la suma de esos dos argumentos de entrada.\n",
      "\n"
     ]
    }
   ],
   "source": [
    "help(funcion_suma)"
   ]
  },
  {
   "cell_type": "code",
   "execution_count": 39,
   "id": "0c5e81c0",
   "metadata": {
    "ExecuteTime": {
     "end_time": "2023-04-11T01:50:52.812048Z",
     "start_time": "2023-04-11T01:50:52.807022Z"
    }
   },
   "outputs": [
    {
     "data": {
      "text/plain": [
       "'\\n    Descripción de la función:\\n    -La entrada son dos argumentos.\\n    -Devuelve la suma de esos dos argumentos de entrada.\\n    '"
      ]
     },
     "execution_count": 39,
     "metadata": {},
     "output_type": "execute_result"
    }
   ],
   "source": [
    "funcion_suma.__doc__"
   ]
  },
  {
   "cell_type": "markdown",
   "id": "c9d0f2c9",
   "metadata": {},
   "source": [
    "### Escritura y lectura de archivos"
   ]
  },
  {
   "cell_type": "markdown",
   "id": "fc5d7f57",
   "metadata": {},
   "source": [
    "En Python se pueden escribir y leer archivos con la función `open`:"
   ]
  },
  {
   "cell_type": "code",
   "execution_count": 154,
   "id": "3b2433be",
   "metadata": {
    "ExecuteTime": {
     "end_time": "2023-04-11T20:48:07.993103Z",
     "start_time": "2023-04-11T20:48:07.987382Z"
    }
   },
   "outputs": [],
   "source": [
    "with open('archivo.txt', 'w') as file:\n",
    "    file.write('Hello, World!')"
   ]
  },
  {
   "cell_type": "code",
   "execution_count": 155,
   "id": "0b4796f8",
   "metadata": {
    "ExecuteTime": {
     "end_time": "2023-04-11T20:48:08.892589Z",
     "start_time": "2023-04-11T20:48:08.888010Z"
    }
   },
   "outputs": [],
   "source": [
    "with open('archivo.txt', 'r') as file:\n",
    "    content = file.read()"
   ]
  },
  {
   "cell_type": "code",
   "execution_count": 156,
   "id": "a6a38fe4",
   "metadata": {
    "ExecuteTime": {
     "end_time": "2023-04-11T20:48:09.511983Z",
     "start_time": "2023-04-11T20:48:09.505204Z"
    }
   },
   "outputs": [
    {
     "name": "stdout",
     "output_type": "stream",
     "text": [
      "Hello, World!\n"
     ]
    }
   ],
   "source": [
    "print(content)"
   ]
  },
  {
   "cell_type": "code",
   "execution_count": 157,
   "id": "7ab28c2c",
   "metadata": {
    "ExecuteTime": {
     "end_time": "2023-04-11T20:48:11.005450Z",
     "start_time": "2023-04-11T20:48:11.001921Z"
    }
   },
   "outputs": [],
   "source": [
    "with open('archivo.txt', 'w') as file:\n",
    "    file.write('line 1\\n')\n",
    "    file.write('line 2\\n')\n",
    "    file.write('line 3\\n')"
   ]
  },
  {
   "cell_type": "code",
   "execution_count": 158,
   "id": "b4345850",
   "metadata": {
    "ExecuteTime": {
     "end_time": "2023-04-11T20:48:11.540730Z",
     "start_time": "2023-04-11T20:48:11.536520Z"
    }
   },
   "outputs": [],
   "source": [
    "with open('archivo.txt', 'r') as file:\n",
    "    content = file.read()"
   ]
  },
  {
   "cell_type": "code",
   "execution_count": 159,
   "id": "60221798",
   "metadata": {
    "ExecuteTime": {
     "end_time": "2023-04-11T20:48:12.008248Z",
     "start_time": "2023-04-11T20:48:12.003723Z"
    }
   },
   "outputs": [
    {
     "name": "stdout",
     "output_type": "stream",
     "text": [
      "line 1\n",
      "line 2\n",
      "line 3\n",
      "\n"
     ]
    }
   ],
   "source": [
    "print(content)"
   ]
  },
  {
   "cell_type": "markdown",
   "id": "51bd6c34",
   "metadata": {},
   "source": [
    "### Bibliotecas\n",
    "\n",
    "Python cuenta con una gran cantidad de bibliotecas que otorgan un amplio rango de funciones y módulos para diferentes propósitos. Una biblioteca es un conjunto de funciones documentadas y validadas en su mayoría, que permiten ahorrar tiempo y esfuerzo al programar. Es necesario instalarlas de acuerdo al gestor de paquetes que se utilice. [Google Colab](https://colab.research.google.com/) tiene disponible una gran cantidad de bilbiotecas precargadas.\n",
    "\n",
    "Para cargar o importar una biblioteca en Python se utiliza la sentecia `import`:"
   ]
  },
  {
   "cell_type": "code",
   "execution_count": 40,
   "id": "dd0d7122",
   "metadata": {
    "ExecuteTime": {
     "end_time": "2023-04-11T02:09:00.320132Z",
     "start_time": "2023-04-11T02:09:00.316291Z"
    }
   },
   "outputs": [],
   "source": [
    "import math"
   ]
  },
  {
   "cell_type": "markdown",
   "id": "7410bf5a",
   "metadata": {},
   "source": [
    "En este caso, la biblioteca `math`, incorpora una variada colección de funciones matemáticas. Para hacer uso de ellas es necesario nombrar la biblioteca seguido de un punto:"
   ]
  },
  {
   "cell_type": "code",
   "execution_count": 41,
   "id": "e7f85a4d",
   "metadata": {
    "ExecuteTime": {
     "end_time": "2023-04-11T02:13:32.870061Z",
     "start_time": "2023-04-11T02:13:32.864657Z"
    }
   },
   "outputs": [
    {
     "name": "stdout",
     "output_type": "stream",
     "text": [
      "2.0\n",
      "-1.0\n"
     ]
    }
   ],
   "source": [
    "x = math.sqrt(4)\n",
    "y = math.cos(math.pi)\n",
    "\n",
    "print(x)\n",
    "print(y)"
   ]
  },
  {
   "cell_type": "markdown",
   "id": "bb0732f2",
   "metadata": {},
   "source": [
    "En caso de sólo necesitar alguna función en específico de la biblioteca, se utiliza la sentencia `from`:"
   ]
  },
  {
   "cell_type": "code",
   "execution_count": 44,
   "id": "e6a034d5",
   "metadata": {
    "ExecuteTime": {
     "end_time": "2023-04-11T02:16:21.516741Z",
     "start_time": "2023-04-11T02:16:21.513514Z"
    }
   },
   "outputs": [],
   "source": [
    "from math import sqrt, cos, pi"
   ]
  },
  {
   "cell_type": "code",
   "execution_count": 45,
   "id": "60f66f6e",
   "metadata": {
    "ExecuteTime": {
     "end_time": "2023-04-11T02:16:22.045432Z",
     "start_time": "2023-04-11T02:16:22.040677Z"
    }
   },
   "outputs": [
    {
     "name": "stdout",
     "output_type": "stream",
     "text": [
      "2.0\n",
      "-1.0\n"
     ]
    }
   ],
   "source": [
    "x = sqrt(4)\n",
    "y = cos(pi)\n",
    "\n",
    "print(x)\n",
    "print(y)"
   ]
  },
  {
   "cell_type": "markdown",
   "id": "01eeeaf3",
   "metadata": {},
   "source": [
    "En ocasiones, para facilitar el llamado de una biblioteca, se puede poner un alias a la misma, por ejemplo:"
   ]
  },
  {
   "cell_type": "code",
   "execution_count": 46,
   "id": "c9842259",
   "metadata": {
    "ExecuteTime": {
     "end_time": "2023-04-11T02:18:16.087512Z",
     "start_time": "2023-04-11T02:18:16.083888Z"
    }
   },
   "outputs": [],
   "source": [
    "import math as m"
   ]
  },
  {
   "cell_type": "code",
   "execution_count": 56,
   "id": "caf8677b",
   "metadata": {
    "ExecuteTime": {
     "end_time": "2023-04-11T02:25:48.913466Z",
     "start_time": "2023-04-11T02:25:48.904801Z"
    }
   },
   "outputs": [
    {
     "name": "stdout",
     "output_type": "stream",
     "text": [
      "2.0\n",
      "-1.0\n"
     ]
    }
   ],
   "source": [
    "x = m.sqrt(4)\n",
    "y = m.cos(m.pi)\n",
    "\n",
    "print(x)\n",
    "print(y)"
   ]
  },
  {
   "cell_type": "markdown",
   "id": "d4c00849",
   "metadata": {},
   "source": [
    "También se pueden cargar todas las funciones de alguna biblioteca utilizando `*`:"
   ]
  },
  {
   "cell_type": "code",
   "execution_count": 75,
   "id": "f3dcde75",
   "metadata": {
    "ExecuteTime": {
     "end_time": "2023-04-11T02:32:59.050748Z",
     "start_time": "2023-04-11T02:32:59.047405Z"
    }
   },
   "outputs": [],
   "source": [
    "from numpy import *"
   ]
  },
  {
   "cell_type": "code",
   "execution_count": 76,
   "id": "d11d2cf0",
   "metadata": {
    "ExecuteTime": {
     "end_time": "2023-04-11T02:33:11.909317Z",
     "start_time": "2023-04-11T02:33:11.905177Z"
    }
   },
   "outputs": [
    {
     "name": "stdout",
     "output_type": "stream",
     "text": [
      "Help on built-in function array in module numpy:\n",
      "\n",
      "array(...)\n",
      "    array(object, dtype=None, *, copy=True, order='K', subok=False, ndmin=0,\n",
      "          like=None)\n",
      "    \n",
      "    Create an array.\n",
      "    \n",
      "    Parameters\n",
      "    ----------\n",
      "    object : array_like\n",
      "        An array, any object exposing the array interface, an object whose\n",
      "        __array__ method returns an array, or any (nested) sequence.\n",
      "        If object is a scalar, a 0-dimensional array containing object is\n",
      "        returned.\n",
      "    dtype : data-type, optional\n",
      "        The desired data-type for the array.  If not given, then the type will\n",
      "        be determined as the minimum type required to hold the objects in the\n",
      "        sequence.\n",
      "    copy : bool, optional\n",
      "        If true (default), then the object is copied.  Otherwise, a copy will\n",
      "        only be made if __array__ returns a copy, if obj is a nested sequence,\n",
      "        or if a copy is needed to satisfy any of the other requirements\n",
      "        (`dtype`, `order`, etc.).\n",
      "    order : {'K', 'A', 'C', 'F'}, optional\n",
      "        Specify the memory layout of the array. If object is not an array, the\n",
      "        newly created array will be in C order (row major) unless 'F' is\n",
      "        specified, in which case it will be in Fortran order (column major).\n",
      "        If object is an array the following holds.\n",
      "    \n",
      "        ===== ========= ===================================================\n",
      "        order  no copy                     copy=True\n",
      "        ===== ========= ===================================================\n",
      "        'K'   unchanged F & C order preserved, otherwise most similar order\n",
      "        'A'   unchanged F order if input is F and not C, otherwise C order\n",
      "        'C'   C order   C order\n",
      "        'F'   F order   F order\n",
      "        ===== ========= ===================================================\n",
      "    \n",
      "        When ``copy=False`` and a copy is made for other reasons, the result is\n",
      "        the same as if ``copy=True``, with some exceptions for 'A', see the\n",
      "        Notes section. The default order is 'K'.\n",
      "    subok : bool, optional\n",
      "        If True, then sub-classes will be passed-through, otherwise\n",
      "        the returned array will be forced to be a base-class array (default).\n",
      "    ndmin : int, optional\n",
      "        Specifies the minimum number of dimensions that the resulting\n",
      "        array should have.  Ones will be pre-pended to the shape as\n",
      "        needed to meet this requirement.\n",
      "    like : array_like\n",
      "        Reference object to allow the creation of arrays which are not\n",
      "        NumPy arrays. If an array-like passed in as ``like`` supports\n",
      "        the ``__array_function__`` protocol, the result will be defined\n",
      "        by it. In this case, it ensures the creation of an array object\n",
      "        compatible with that passed in via this argument.\n",
      "    \n",
      "        .. versionadded:: 1.20.0\n",
      "    \n",
      "    Returns\n",
      "    -------\n",
      "    out : ndarray\n",
      "        An array object satisfying the specified requirements.\n",
      "    \n",
      "    See Also\n",
      "    --------\n",
      "    empty_like : Return an empty array with shape and type of input.\n",
      "    ones_like : Return an array of ones with shape and type of input.\n",
      "    zeros_like : Return an array of zeros with shape and type of input.\n",
      "    full_like : Return a new array with shape of input filled with value.\n",
      "    empty : Return a new uninitialized array.\n",
      "    ones : Return a new array setting values to one.\n",
      "    zeros : Return a new array setting values to zero.\n",
      "    full : Return a new array of given shape filled with value.\n",
      "    \n",
      "    \n",
      "    Notes\n",
      "    -----\n",
      "    When order is 'A' and `object` is an array in neither 'C' nor 'F' order,\n",
      "    and a copy is forced by a change in dtype, then the order of the result is\n",
      "    not necessarily 'C' as expected. This is likely a bug.\n",
      "    \n",
      "    Examples\n",
      "    --------\n",
      "    >>> np.array([1, 2, 3])\n",
      "    array([1, 2, 3])\n",
      "    \n",
      "    Upcasting:\n",
      "    \n",
      "    >>> np.array([1, 2, 3.0])\n",
      "    array([ 1.,  2.,  3.])\n",
      "    \n",
      "    More than one dimension:\n",
      "    \n",
      "    >>> np.array([[1, 2], [3, 4]])\n",
      "    array([[1, 2],\n",
      "           [3, 4]])\n",
      "    \n",
      "    Minimum dimensions 2:\n",
      "    \n",
      "    >>> np.array([1, 2, 3], ndmin=2)\n",
      "    array([[1, 2, 3]])\n",
      "    \n",
      "    Type provided:\n",
      "    \n",
      "    >>> np.array([1, 2, 3], dtype=complex)\n",
      "    array([ 1.+0.j,  2.+0.j,  3.+0.j])\n",
      "    \n",
      "    Data-type consisting of more than one element:\n",
      "    \n",
      "    >>> x = np.array([(1,2),(3,4)],dtype=[('a','<i4'),('b','<i4')])\n",
      "    >>> x['a']\n",
      "    array([1, 3])\n",
      "    \n",
      "    Creating an array from sub-classes:\n",
      "    \n",
      "    >>> np.array(np.mat('1 2; 3 4'))\n",
      "    array([[1, 2],\n",
      "           [3, 4]])\n",
      "    \n",
      "    >>> np.array(np.mat('1 2; 3 4'), subok=True)\n",
      "    matrix([[1, 2],\n",
      "            [3, 4]])\n",
      "\n"
     ]
    }
   ],
   "source": [
    "help(array)"
   ]
  },
  {
   "cell_type": "code",
   "execution_count": 77,
   "id": "9ba7b884",
   "metadata": {
    "ExecuteTime": {
     "end_time": "2023-04-11T02:34:02.805082Z",
     "start_time": "2023-04-11T02:34:02.799757Z"
    }
   },
   "outputs": [
    {
     "name": "stdout",
     "output_type": "stream",
     "text": [
      "Help on function linspace in module numpy:\n",
      "\n",
      "linspace(start, stop, num=50, endpoint=True, retstep=False, dtype=None, axis=0)\n",
      "    Return evenly spaced numbers over a specified interval.\n",
      "    \n",
      "    Returns `num` evenly spaced samples, calculated over the\n",
      "    interval [`start`, `stop`].\n",
      "    \n",
      "    The endpoint of the interval can optionally be excluded.\n",
      "    \n",
      "    .. versionchanged:: 1.16.0\n",
      "        Non-scalar `start` and `stop` are now supported.\n",
      "    \n",
      "    .. versionchanged:: 1.20.0\n",
      "        Values are rounded towards ``-inf`` instead of ``0`` when an\n",
      "        integer ``dtype`` is specified. The old behavior can\n",
      "        still be obtained with ``np.linspace(start, stop, num).astype(int)``\n",
      "    \n",
      "    Parameters\n",
      "    ----------\n",
      "    start : array_like\n",
      "        The starting value of the sequence.\n",
      "    stop : array_like\n",
      "        The end value of the sequence, unless `endpoint` is set to False.\n",
      "        In that case, the sequence consists of all but the last of ``num + 1``\n",
      "        evenly spaced samples, so that `stop` is excluded.  Note that the step\n",
      "        size changes when `endpoint` is False.\n",
      "    num : int, optional\n",
      "        Number of samples to generate. Default is 50. Must be non-negative.\n",
      "    endpoint : bool, optional\n",
      "        If True, `stop` is the last sample. Otherwise, it is not included.\n",
      "        Default is True.\n",
      "    retstep : bool, optional\n",
      "        If True, return (`samples`, `step`), where `step` is the spacing\n",
      "        between samples.\n",
      "    dtype : dtype, optional\n",
      "        The type of the output array.  If `dtype` is not given, the data type\n",
      "        is inferred from `start` and `stop`. The inferred dtype will never be\n",
      "        an integer; `float` is chosen even if the arguments would produce an\n",
      "        array of integers.\n",
      "    \n",
      "        .. versionadded:: 1.9.0\n",
      "    \n",
      "    axis : int, optional\n",
      "        The axis in the result to store the samples.  Relevant only if start\n",
      "        or stop are array-like.  By default (0), the samples will be along a\n",
      "        new axis inserted at the beginning. Use -1 to get an axis at the end.\n",
      "    \n",
      "        .. versionadded:: 1.16.0\n",
      "    \n",
      "    Returns\n",
      "    -------\n",
      "    samples : ndarray\n",
      "        There are `num` equally spaced samples in the closed interval\n",
      "        ``[start, stop]`` or the half-open interval ``[start, stop)``\n",
      "        (depending on whether `endpoint` is True or False).\n",
      "    step : float, optional\n",
      "        Only returned if `retstep` is True\n",
      "    \n",
      "        Size of spacing between samples.\n",
      "    \n",
      "    \n",
      "    See Also\n",
      "    --------\n",
      "    arange : Similar to `linspace`, but uses a step size (instead of the\n",
      "             number of samples).\n",
      "    geomspace : Similar to `linspace`, but with numbers spaced evenly on a log\n",
      "                scale (a geometric progression).\n",
      "    logspace : Similar to `geomspace`, but with the end points specified as\n",
      "               logarithms.\n",
      "    \n",
      "    Examples\n",
      "    --------\n",
      "    >>> np.linspace(2.0, 3.0, num=5)\n",
      "    array([2.  , 2.25, 2.5 , 2.75, 3.  ])\n",
      "    >>> np.linspace(2.0, 3.0, num=5, endpoint=False)\n",
      "    array([2. ,  2.2,  2.4,  2.6,  2.8])\n",
      "    >>> np.linspace(2.0, 3.0, num=5, retstep=True)\n",
      "    (array([2.  ,  2.25,  2.5 ,  2.75,  3.  ]), 0.25)\n",
      "    \n",
      "    Graphical illustration:\n",
      "    \n",
      "    >>> import matplotlib.pyplot as plt\n",
      "    >>> N = 8\n",
      "    >>> y = np.zeros(N)\n",
      "    >>> x1 = np.linspace(0, 10, N, endpoint=True)\n",
      "    >>> x2 = np.linspace(0, 10, N, endpoint=False)\n",
      "    >>> plt.plot(x1, y, 'o')\n",
      "    [<matplotlib.lines.Line2D object at 0x...>]\n",
      "    >>> plt.plot(x2, y + 0.5, 'o')\n",
      "    [<matplotlib.lines.Line2D object at 0x...>]\n",
      "    >>> plt.ylim([-0.5, 1])\n",
      "    (-0.5, 1)\n",
      "    >>> plt.show()\n",
      "\n"
     ]
    }
   ],
   "source": [
    "help(linspace)"
   ]
  },
  {
   "cell_type": "markdown",
   "id": "aefa7b2b",
   "metadata": {},
   "source": [
    "Cargar las bibliotecas de esta última manera no se recomienda para usuarios que comienzan a utilizarlas ya que en algunas ocasiones pueden existir funciones similares entre bibliotecas y pudiese ocasionar alguna confusión en la implementación.\n",
    "\n",
    "Las bibliotecas más populares y con una gran cantidad de funciones para el análisis de datos son **numpy** y **pandas**.\n",
    "\n",
    "**numpy** es una biblioteca para el cómputo numérico que da apoyo a colecciones (array), que son similares a las listas pero con propiedades espaeciales que resultan útiles para analizar grandes colecciones, multidimensionales y matrices.\n",
    "\n",
    "**pandas** es una biblioteca para la manipulación y análisis de datos que da estructuras de datos para el almacenamiento y manipulación eficiente de grandes bases de datos. Tiene herramientas pata leer y escribir datos en varios formatos como CSV, Excel y SQL.\n",
    "\n",
    "También hay bibliotecas para la visualización de los datos, una de las más importantes es **matplotlib**.\n",
    "\n",
    "**matplotlib** es una biblioteca para la visualización de los datos en Python. Puede crear gráficas animadas, estáticas o interactivas.\n",
    "\n",
    "Para conocer las funciones que integran a numpy, pandas y matplotlib se sugiere acceder a los siguientes enlaces:\n",
    "\n",
    "- [numpy](https://numpy.org/doc/stable/#)\n",
    "- [pandas](https://pandas.pydata.org/)\n",
    "- [matplotlib](https://matplotlib.org/)\n",
    "\n",
    "A continuación se muestran algunos ejemplos:"
   ]
  },
  {
   "cell_type": "code",
   "execution_count": 225,
   "id": "d1aad747",
   "metadata": {
    "ExecuteTime": {
     "end_time": "2023-04-11T22:35:13.683483Z",
     "start_time": "2023-04-11T22:35:13.676191Z"
    }
   },
   "outputs": [
    {
     "name": "stdout",
     "output_type": "stream",
     "text": [
      "numpy version: 1.22.3\n",
      "pandas version: 1.4.2\n",
      "matplotlib version: 3.3.2\n"
     ]
    }
   ],
   "source": [
    "import numpy as np\n",
    "import pandas as pd\n",
    "import matplotlib\n",
    "import matplotlib.pyplot as plt\n",
    "\n",
    "print('numpy version: {}'.format(np.__version__))\n",
    "print('pandas version: %s' % pd.__version__)\n",
    "print(f'matplotlib version: {matplotlib.__version__}')"
   ]
  },
  {
   "cell_type": "markdown",
   "id": "1dff60a8",
   "metadata": {},
   "source": [
    "Siempre s importante conocer la versión de la biblioteca ya que en ocasiones existen incopatibilidades o cambios notorios entre versiones."
   ]
  },
  {
   "cell_type": "markdown",
   "id": "e1b02efd",
   "metadata": {},
   "source": [
    "#### Numpy"
   ]
  },
  {
   "cell_type": "code",
   "execution_count": 97,
   "id": "e6802043",
   "metadata": {
    "ExecuteTime": {
     "end_time": "2023-04-11T18:53:36.848057Z",
     "start_time": "2023-04-11T18:53:36.843521Z"
    }
   },
   "outputs": [
    {
     "name": "stdout",
     "output_type": "stream",
     "text": [
      "[1 2 3 4] <class 'numpy.ndarray'>\n"
     ]
    }
   ],
   "source": [
    "array1D = np.array([1, 2, 3, 4])\n",
    "\n",
    "print(array1D, type(array1D))"
   ]
  },
  {
   "cell_type": "code",
   "execution_count": 96,
   "id": "22026e4a",
   "metadata": {
    "ExecuteTime": {
     "end_time": "2023-04-11T18:53:28.790955Z",
     "start_time": "2023-04-11T18:53:28.783171Z"
    }
   },
   "outputs": [
    {
     "name": "stdout",
     "output_type": "stream",
     "text": [
      "[[1 2 3 4]\n",
      " [5 6 7 8]] <class 'numpy.ndarray'>\n"
     ]
    }
   ],
   "source": [
    "array2D = np.array([[1,2,3,4], \n",
    "                   [5,6,7,8]])\n",
    "\n",
    "print(array2D, type(array2D))"
   ]
  },
  {
   "cell_type": "code",
   "execution_count": 95,
   "id": "5614b957",
   "metadata": {
    "ExecuteTime": {
     "end_time": "2023-04-11T18:53:14.269173Z",
     "start_time": "2023-04-11T18:53:14.262087Z"
    }
   },
   "outputs": [
    {
     "name": "stdout",
     "output_type": "stream",
     "text": [
      "[[1 2 3 4]\n",
      " [5 6 7 8]\n",
      " [9 0 1 2]] <class 'numpy.ndarray'>\n"
     ]
    }
   ],
   "source": [
    "array3D = np.array([[1, 2, 3, 4], \n",
    "                    [5, 6, 7, 8], \n",
    "                    [9, 0, 1, 2]])\n",
    "\n",
    "print(array3D, type(array3D))"
   ]
  },
  {
   "cell_type": "code",
   "execution_count": 99,
   "id": "f9eef45f",
   "metadata": {
    "ExecuteTime": {
     "end_time": "2023-04-11T18:55:18.635880Z",
     "start_time": "2023-04-11T18:55:18.631624Z"
    }
   },
   "outputs": [
    {
     "name": "stdout",
     "output_type": "stream",
     "text": [
      "(3, 4)\n"
     ]
    }
   ],
   "source": [
    "print(array3D.shape)"
   ]
  },
  {
   "cell_type": "code",
   "execution_count": 107,
   "id": "14ae1386",
   "metadata": {
    "ExecuteTime": {
     "end_time": "2023-04-11T19:00:13.585445Z",
     "start_time": "2023-04-11T19:00:13.578069Z"
    }
   },
   "outputs": [
    {
     "name": "stdout",
     "output_type": "stream",
     "text": [
      "3\n"
     ]
    }
   ],
   "source": [
    "print(array3D.shape[0])"
   ]
  },
  {
   "cell_type": "code",
   "execution_count": 115,
   "id": "c16fe2ec",
   "metadata": {
    "ExecuteTime": {
     "end_time": "2023-04-11T19:02:24.350450Z",
     "start_time": "2023-04-11T19:02:24.344772Z"
    }
   },
   "outputs": [
    {
     "name": "stdout",
     "output_type": "stream",
     "text": [
      "[[1 2 3]\n",
      " [4 5 6]\n",
      " [7 8 9]\n",
      " [0 1 2]]\n",
      "----------\n",
      "(4, 3)\n"
     ]
    }
   ],
   "source": [
    "array3D_reshape = array3D.reshape(4, 3)\n",
    "\n",
    "print(array3D_reshape)\n",
    "print('----------')\n",
    "print(array3D_reshape.shape)"
   ]
  },
  {
   "cell_type": "code",
   "execution_count": 117,
   "id": "6a23f28f",
   "metadata": {
    "ExecuteTime": {
     "end_time": "2023-04-11T19:13:13.169740Z",
     "start_time": "2023-04-11T19:13:13.162609Z"
    }
   },
   "outputs": [
    {
     "name": "stdout",
     "output_type": "stream",
     "text": [
      "[[1 5 9]\n",
      " [2 6 0]\n",
      " [3 7 1]\n",
      " [4 8 2]]\n",
      "----------\n",
      "(4, 3)\n"
     ]
    }
   ],
   "source": [
    "array3D_transpuesta = array3D.T\n",
    "\n",
    "print(array3D_transpuesta)\n",
    "print('----------')\n",
    "print(array3D_transpuesta.shape)"
   ]
  },
  {
   "cell_type": "code",
   "execution_count": 127,
   "id": "3a00455e",
   "metadata": {
    "ExecuteTime": {
     "end_time": "2023-04-11T19:33:56.164648Z",
     "start_time": "2023-04-11T19:33:56.123812Z"
    }
   },
   "outputs": [
    {
     "name": "stdout",
     "output_type": "stream",
     "text": [
      "[12 15 18] <class 'numpy.ndarray'>\n",
      "[-10 -11 -12] <class 'numpy.ndarray'>\n",
      "[ 28  80 162] <class 'numpy.ndarray'>\n",
      "32 <class 'numpy.int64'>\n",
      "[-3  6 -3] <class 'numpy.ndarray'>\n"
     ]
    }
   ],
   "source": [
    "a1 = np.array([1, 2, 3])\n",
    "a2 = np.array([4, 5, 6])\n",
    "a3 = np.array([7, 8, 9])\n",
    "\n",
    "a_sum = a1 + a2 + a3\n",
    "print(a_sum, type(a_sum))\n",
    "\n",
    "a_res = a1 - a2 - a3\n",
    "print(a_res, type(a_res))\n",
    "\n",
    "a_mult = a1 * a2 * a3\n",
    "print(a_mult, type(a_mult))\n",
    "\n",
    "a_dot = np.dot(a1, a2)\n",
    "print(a_dot, type(a_dot))\n",
    "\n",
    "a_cross = np.cross(a1, a2)\n",
    "print(a_cross, type(a_cross))"
   ]
  },
  {
   "cell_type": "code",
   "execution_count": 134,
   "id": "f8bb1e45",
   "metadata": {
    "ExecuteTime": {
     "end_time": "2023-04-11T20:10:57.377161Z",
     "start_time": "2023-04-11T20:10:57.367889Z"
    }
   },
   "outputs": [
    {
     "name": "stdout",
     "output_type": "stream",
     "text": [
      "[[2 2]\n",
      " [2 2]] <class 'numpy.ndarray'>\n",
      "---------------------------\n",
      "[[ 0 -2]\n",
      " [-2  0]] <class 'numpy.ndarray'>\n",
      "---------------------------\n",
      "[[1 0]\n",
      " [0 1]] <class 'numpy.ndarray'>\n",
      "---------------------------\n",
      "[ 2 -2] <class 'numpy.ndarray'>\n"
     ]
    }
   ],
   "source": [
    "a4 = np.array([[1, 0], \n",
    "               [0, 1,]])\n",
    "\n",
    "a5 = np.array([[1, 2], \n",
    "               [2, 1,]])\n",
    "\n",
    "matriz_sum = a4 + a5\n",
    "print(matriz_sum, type(matriz_sum))\n",
    "print('---------------------------')\n",
    "\n",
    "matriz_res = a4 - a5\n",
    "print(matriz_res, type(matriz_res))\n",
    "print('---------------------------')\n",
    "\n",
    "matriz_mult = a4 * a5\n",
    "print(matriz_mult, type(matriz_mult))\n",
    "print('---------------------------')\n",
    "\n",
    "matriz_cross = np.cross(a4, a5)\n",
    "print(matriz_cross, type(matriz_cross))"
   ]
  },
  {
   "cell_type": "code",
   "execution_count": 138,
   "id": "8bb0142f",
   "metadata": {
    "ExecuteTime": {
     "end_time": "2023-04-11T20:13:31.822787Z",
     "start_time": "2023-04-11T20:13:31.817114Z"
    }
   },
   "outputs": [
    {
     "data": {
      "text/plain": [
       "array([ 0.1 ,  1.09,  2.08,  3.07,  4.06,  5.05,  6.04,  7.03,  8.02,\n",
       "        9.01, 10.  ])"
      ]
     },
     "execution_count": 138,
     "metadata": {},
     "output_type": "execute_result"
    }
   ],
   "source": [
    "np.linspace(start= 0.1, stop = 10, num=11)"
   ]
  },
  {
   "cell_type": "code",
   "execution_count": 143,
   "id": "29487b8f",
   "metadata": {
    "ExecuteTime": {
     "end_time": "2023-04-11T20:17:19.443631Z",
     "start_time": "2023-04-11T20:17:19.438457Z"
    }
   },
   "outputs": [
    {
     "data": {
      "text/plain": [
       "array([0., 0., 0., 0., 0., 0., 0., 0., 0., 0.])"
      ]
     },
     "execution_count": 143,
     "metadata": {},
     "output_type": "execute_result"
    }
   ],
   "source": [
    "np.zeros(10)"
   ]
  },
  {
   "cell_type": "code",
   "execution_count": 245,
   "id": "cafe2508",
   "metadata": {
    "ExecuteTime": {
     "end_time": "2023-04-11T23:34:25.052069Z",
     "start_time": "2023-04-11T23:34:25.043636Z"
    }
   },
   "outputs": [],
   "source": [
    "x = y = z = np.arange(0.0,5.0,1.0)\n",
    "\n",
    "np.savetxt('file1.txt', x, delimiter=',')\n",
    "np.savetxt('file2.txt', (x,y,z))\n",
    "np.savetxt('file3.txt', x, fmt='%1.4e') \n"
   ]
  },
  {
   "cell_type": "code",
   "execution_count": 246,
   "id": "010a86bd",
   "metadata": {
    "ExecuteTime": {
     "end_time": "2023-04-11T23:36:14.229819Z",
     "start_time": "2023-04-11T23:36:14.198942Z"
    }
   },
   "outputs": [
    {
     "data": {
      "text/plain": [
       "array([0., 1., 2., 3., 4.])"
      ]
     },
     "execution_count": 246,
     "metadata": {},
     "output_type": "execute_result"
    }
   ],
   "source": [
    "np.loadtxt('file1.txt', delimiter=',')"
   ]
  },
  {
   "cell_type": "markdown",
   "id": "fc734983",
   "metadata": {},
   "source": [
    "#### Pandas"
   ]
  },
  {
   "cell_type": "markdown",
   "id": "fc953d94",
   "metadata": {},
   "source": [
    "En cuanto a la lectura y manipulación de datos con pandas:"
   ]
  },
  {
   "cell_type": "code",
   "execution_count": 166,
   "id": "822e2fce",
   "metadata": {
    "ExecuteTime": {
     "end_time": "2023-04-11T20:54:28.692307Z",
     "start_time": "2023-04-11T20:54:28.672269Z"
    }
   },
   "outputs": [
    {
     "data": {
      "text/html": [
       "<div>\n",
       "<style scoped>\n",
       "    .dataframe tbody tr th:only-of-type {\n",
       "        vertical-align: middle;\n",
       "    }\n",
       "\n",
       "    .dataframe tbody tr th {\n",
       "        vertical-align: top;\n",
       "    }\n",
       "\n",
       "    .dataframe thead th {\n",
       "        text-align: right;\n",
       "    }\n",
       "</style>\n",
       "<table border=\"1\" class=\"dataframe\">\n",
       "  <thead>\n",
       "    <tr style=\"text-align: right;\">\n",
       "      <th></th>\n",
       "      <th>ne</th>\n",
       "      <th>d</th>\n",
       "      <th>dt</th>\n",
       "      <th>tf = 2*ne*d</th>\n",
       "      <th>nt=round(tf/dt) +1</th>\n",
       "      <th>i_flip=round(d/dt)</th>\n",
       "    </tr>\n",
       "  </thead>\n",
       "  <tbody>\n",
       "    <tr>\n",
       "      <th>0</th>\n",
       "      <td>1600</td>\n",
       "      <td>0.000013</td>\n",
       "      <td>0.000003</td>\n",
       "      <td>0.04</td>\n",
       "      <td>16001</td>\n",
       "      <td>5</td>\n",
       "    </tr>\n",
       "    <tr>\n",
       "      <th>1</th>\n",
       "      <td>800</td>\n",
       "      <td>0.000025</td>\n",
       "      <td>0.000005</td>\n",
       "      <td>0.04</td>\n",
       "      <td>8001</td>\n",
       "      <td>5</td>\n",
       "    </tr>\n",
       "    <tr>\n",
       "      <th>2</th>\n",
       "      <td>400</td>\n",
       "      <td>0.000050</td>\n",
       "      <td>0.000010</td>\n",
       "      <td>0.04</td>\n",
       "      <td>4001</td>\n",
       "      <td>5</td>\n",
       "    </tr>\n",
       "    <tr>\n",
       "      <th>3</th>\n",
       "      <td>200</td>\n",
       "      <td>0.000100</td>\n",
       "      <td>0.000020</td>\n",
       "      <td>0.04</td>\n",
       "      <td>2001</td>\n",
       "      <td>5</td>\n",
       "    </tr>\n",
       "    <tr>\n",
       "      <th>4</th>\n",
       "      <td>100</td>\n",
       "      <td>0.000200</td>\n",
       "      <td>0.000040</td>\n",
       "      <td>0.04</td>\n",
       "      <td>1001</td>\n",
       "      <td>5</td>\n",
       "    </tr>\n",
       "    <tr>\n",
       "      <th>5</th>\n",
       "      <td>10000</td>\n",
       "      <td>0.000010</td>\n",
       "      <td>0.000010</td>\n",
       "      <td>0.20</td>\n",
       "      <td>20001</td>\n",
       "      <td>1</td>\n",
       "    </tr>\n",
       "  </tbody>\n",
       "</table>\n",
       "</div>"
      ],
      "text/plain": [
       "      ne         d        dt  tf = 2*ne*d  nt=round(tf/dt) +1  \\\n",
       "0   1600  0.000013  0.000003         0.04               16001   \n",
       "1    800  0.000025  0.000005         0.04                8001   \n",
       "2    400  0.000050  0.000010         0.04                4001   \n",
       "3    200  0.000100  0.000020         0.04                2001   \n",
       "4    100  0.000200  0.000040         0.04                1001   \n",
       "5  10000  0.000010  0.000010         0.20               20001   \n",
       "\n",
       "   i_flip=round(d/dt)  \n",
       "0                   5  \n",
       "1                   5  \n",
       "2                   5  \n",
       "3                   5  \n",
       "4                   5  \n",
       "5                   1  "
      ]
     },
     "execution_count": 166,
     "metadata": {},
     "output_type": "execute_result"
    }
   ],
   "source": [
    "df = pd.read_csv('echo_time.csv')\n",
    "\n",
    "df"
   ]
  },
  {
   "cell_type": "code",
   "execution_count": 168,
   "id": "a6b22193",
   "metadata": {
    "ExecuteTime": {
     "end_time": "2023-04-11T20:54:42.288540Z",
     "start_time": "2023-04-11T20:54:42.277765Z"
    }
   },
   "outputs": [
    {
     "data": {
      "text/html": [
       "<div>\n",
       "<style scoped>\n",
       "    .dataframe tbody tr th:only-of-type {\n",
       "        vertical-align: middle;\n",
       "    }\n",
       "\n",
       "    .dataframe tbody tr th {\n",
       "        vertical-align: top;\n",
       "    }\n",
       "\n",
       "    .dataframe thead th {\n",
       "        text-align: right;\n",
       "    }\n",
       "</style>\n",
       "<table border=\"1\" class=\"dataframe\">\n",
       "  <thead>\n",
       "    <tr style=\"text-align: right;\">\n",
       "      <th></th>\n",
       "      <th>ne</th>\n",
       "      <th>d</th>\n",
       "      <th>dt</th>\n",
       "      <th>tf = 2*ne*d</th>\n",
       "      <th>nt=round(tf/dt) +1</th>\n",
       "      <th>i_flip=round(d/dt)</th>\n",
       "    </tr>\n",
       "  </thead>\n",
       "  <tbody>\n",
       "    <tr>\n",
       "      <th>0</th>\n",
       "      <td>1600</td>\n",
       "      <td>0.000013</td>\n",
       "      <td>0.000003</td>\n",
       "      <td>0.04</td>\n",
       "      <td>16001</td>\n",
       "      <td>5</td>\n",
       "    </tr>\n",
       "    <tr>\n",
       "      <th>1</th>\n",
       "      <td>800</td>\n",
       "      <td>0.000025</td>\n",
       "      <td>0.000005</td>\n",
       "      <td>0.04</td>\n",
       "      <td>8001</td>\n",
       "      <td>5</td>\n",
       "    </tr>\n",
       "    <tr>\n",
       "      <th>2</th>\n",
       "      <td>400</td>\n",
       "      <td>0.000050</td>\n",
       "      <td>0.000010</td>\n",
       "      <td>0.04</td>\n",
       "      <td>4001</td>\n",
       "      <td>5</td>\n",
       "    </tr>\n",
       "  </tbody>\n",
       "</table>\n",
       "</div>"
      ],
      "text/plain": [
       "     ne         d        dt  tf = 2*ne*d  nt=round(tf/dt) +1  \\\n",
       "0  1600  0.000013  0.000003         0.04               16001   \n",
       "1   800  0.000025  0.000005         0.04                8001   \n",
       "2   400  0.000050  0.000010         0.04                4001   \n",
       "\n",
       "   i_flip=round(d/dt)  \n",
       "0                   5  \n",
       "1                   5  \n",
       "2                   5  "
      ]
     },
     "execution_count": 168,
     "metadata": {},
     "output_type": "execute_result"
    }
   ],
   "source": [
    "df.head(3)"
   ]
  },
  {
   "cell_type": "code",
   "execution_count": 185,
   "id": "d6b40d77",
   "metadata": {
    "ExecuteTime": {
     "end_time": "2023-04-11T22:12:43.791370Z",
     "start_time": "2023-04-11T22:12:43.779905Z"
    }
   },
   "outputs": [
    {
     "data": {
      "text/html": [
       "<div>\n",
       "<style scoped>\n",
       "    .dataframe tbody tr th:only-of-type {\n",
       "        vertical-align: middle;\n",
       "    }\n",
       "\n",
       "    .dataframe tbody tr th {\n",
       "        vertical-align: top;\n",
       "    }\n",
       "\n",
       "    .dataframe thead th {\n",
       "        text-align: right;\n",
       "    }\n",
       "</style>\n",
       "<table border=\"1\" class=\"dataframe\">\n",
       "  <thead>\n",
       "    <tr style=\"text-align: right;\">\n",
       "      <th></th>\n",
       "      <th>ne</th>\n",
       "      <th>d</th>\n",
       "      <th>dt</th>\n",
       "      <th>tf = 2*ne*d</th>\n",
       "      <th>nt=round(tf/dt) +1</th>\n",
       "      <th>i_flip=round(d/dt)</th>\n",
       "    </tr>\n",
       "  </thead>\n",
       "  <tbody>\n",
       "    <tr>\n",
       "      <th>3</th>\n",
       "      <td>200</td>\n",
       "      <td>0.00010</td>\n",
       "      <td>0.00002</td>\n",
       "      <td>0.04</td>\n",
       "      <td>2001</td>\n",
       "      <td>5</td>\n",
       "    </tr>\n",
       "    <tr>\n",
       "      <th>4</th>\n",
       "      <td>100</td>\n",
       "      <td>0.00020</td>\n",
       "      <td>0.00004</td>\n",
       "      <td>0.04</td>\n",
       "      <td>1001</td>\n",
       "      <td>5</td>\n",
       "    </tr>\n",
       "    <tr>\n",
       "      <th>5</th>\n",
       "      <td>10000</td>\n",
       "      <td>0.00001</td>\n",
       "      <td>0.00001</td>\n",
       "      <td>0.20</td>\n",
       "      <td>20001</td>\n",
       "      <td>1</td>\n",
       "    </tr>\n",
       "  </tbody>\n",
       "</table>\n",
       "</div>"
      ],
      "text/plain": [
       "      ne        d       dt  tf = 2*ne*d  nt=round(tf/dt) +1  \\\n",
       "3    200  0.00010  0.00002         0.04                2001   \n",
       "4    100  0.00020  0.00004         0.04                1001   \n",
       "5  10000  0.00001  0.00001         0.20               20001   \n",
       "\n",
       "   i_flip=round(d/dt)  \n",
       "3                   5  \n",
       "4                   5  \n",
       "5                   1  "
      ]
     },
     "execution_count": 185,
     "metadata": {},
     "output_type": "execute_result"
    }
   ],
   "source": [
    "df.tail(3)"
   ]
  },
  {
   "cell_type": "code",
   "execution_count": 186,
   "id": "472251b8",
   "metadata": {
    "ExecuteTime": {
     "end_time": "2023-04-11T22:13:09.049625Z",
     "start_time": "2023-04-11T22:13:09.043454Z"
    }
   },
   "outputs": [
    {
     "data": {
      "text/plain": [
       "RangeIndex(start=0, stop=6, step=1)"
      ]
     },
     "execution_count": 186,
     "metadata": {},
     "output_type": "execute_result"
    }
   ],
   "source": [
    "df.index"
   ]
  },
  {
   "cell_type": "code",
   "execution_count": 187,
   "id": "eb065637",
   "metadata": {
    "ExecuteTime": {
     "end_time": "2023-04-11T22:13:19.857893Z",
     "start_time": "2023-04-11T22:13:19.850657Z"
    }
   },
   "outputs": [
    {
     "data": {
      "text/plain": [
       "Index(['ne', 'd', 'dt', 'tf = 2*ne*d', 'nt=round(tf/dt) +1',\n",
       "       'i_flip=round(d/dt)'],\n",
       "      dtype='object')"
      ]
     },
     "execution_count": 187,
     "metadata": {},
     "output_type": "execute_result"
    }
   ],
   "source": [
    "df.columns"
   ]
  },
  {
   "cell_type": "code",
   "execution_count": 189,
   "id": "bd35f3ef",
   "metadata": {
    "ExecuteTime": {
     "end_time": "2023-04-11T22:14:22.690900Z",
     "start_time": "2023-04-11T22:14:22.678635Z"
    }
   },
   "outputs": [
    {
     "data": {
      "text/html": [
       "<div>\n",
       "<style scoped>\n",
       "    .dataframe tbody tr th:only-of-type {\n",
       "        vertical-align: middle;\n",
       "    }\n",
       "\n",
       "    .dataframe tbody tr th {\n",
       "        vertical-align: top;\n",
       "    }\n",
       "\n",
       "    .dataframe thead th {\n",
       "        text-align: right;\n",
       "    }\n",
       "</style>\n",
       "<table border=\"1\" class=\"dataframe\">\n",
       "  <thead>\n",
       "    <tr style=\"text-align: right;\">\n",
       "      <th></th>\n",
       "      <th>0</th>\n",
       "      <th>1</th>\n",
       "      <th>2</th>\n",
       "      <th>3</th>\n",
       "      <th>4</th>\n",
       "      <th>5</th>\n",
       "    </tr>\n",
       "  </thead>\n",
       "  <tbody>\n",
       "    <tr>\n",
       "      <th>ne</th>\n",
       "      <td>1600.000000</td>\n",
       "      <td>800.000000</td>\n",
       "      <td>400.00000</td>\n",
       "      <td>200.00000</td>\n",
       "      <td>100.00000</td>\n",
       "      <td>10000.00000</td>\n",
       "    </tr>\n",
       "    <tr>\n",
       "      <th>d</th>\n",
       "      <td>0.000013</td>\n",
       "      <td>0.000025</td>\n",
       "      <td>0.00005</td>\n",
       "      <td>0.00010</td>\n",
       "      <td>0.00020</td>\n",
       "      <td>0.00001</td>\n",
       "    </tr>\n",
       "    <tr>\n",
       "      <th>dt</th>\n",
       "      <td>0.000003</td>\n",
       "      <td>0.000005</td>\n",
       "      <td>0.00001</td>\n",
       "      <td>0.00002</td>\n",
       "      <td>0.00004</td>\n",
       "      <td>0.00001</td>\n",
       "    </tr>\n",
       "    <tr>\n",
       "      <th>tf = 2*ne*d</th>\n",
       "      <td>0.040000</td>\n",
       "      <td>0.040000</td>\n",
       "      <td>0.04000</td>\n",
       "      <td>0.04000</td>\n",
       "      <td>0.04000</td>\n",
       "      <td>0.20000</td>\n",
       "    </tr>\n",
       "    <tr>\n",
       "      <th>nt=round(tf/dt) +1</th>\n",
       "      <td>16001.000000</td>\n",
       "      <td>8001.000000</td>\n",
       "      <td>4001.00000</td>\n",
       "      <td>2001.00000</td>\n",
       "      <td>1001.00000</td>\n",
       "      <td>20001.00000</td>\n",
       "    </tr>\n",
       "    <tr>\n",
       "      <th>i_flip=round(d/dt)</th>\n",
       "      <td>5.000000</td>\n",
       "      <td>5.000000</td>\n",
       "      <td>5.00000</td>\n",
       "      <td>5.00000</td>\n",
       "      <td>5.00000</td>\n",
       "      <td>1.00000</td>\n",
       "    </tr>\n",
       "  </tbody>\n",
       "</table>\n",
       "</div>"
      ],
      "text/plain": [
       "                               0            1           2           3  \\\n",
       "ne                   1600.000000   800.000000   400.00000   200.00000   \n",
       "d                       0.000013     0.000025     0.00005     0.00010   \n",
       "dt                      0.000003     0.000005     0.00001     0.00002   \n",
       "tf = 2*ne*d             0.040000     0.040000     0.04000     0.04000   \n",
       "nt=round(tf/dt) +1  16001.000000  8001.000000  4001.00000  2001.00000   \n",
       "i_flip=round(d/dt)      5.000000     5.000000     5.00000     5.00000   \n",
       "\n",
       "                             4            5  \n",
       "ne                   100.00000  10000.00000  \n",
       "d                      0.00020      0.00001  \n",
       "dt                     0.00004      0.00001  \n",
       "tf = 2*ne*d            0.04000      0.20000  \n",
       "nt=round(tf/dt) +1  1001.00000  20001.00000  \n",
       "i_flip=round(d/dt)     5.00000      1.00000  "
      ]
     },
     "execution_count": 189,
     "metadata": {},
     "output_type": "execute_result"
    }
   ],
   "source": [
    "df.T"
   ]
  },
  {
   "cell_type": "code",
   "execution_count": 172,
   "id": "da529d0b",
   "metadata": {
    "ExecuteTime": {
     "end_time": "2023-04-11T20:55:24.200445Z",
     "start_time": "2023-04-11T20:55:24.194673Z"
    }
   },
   "outputs": [
    {
     "data": {
      "text/plain": [
       "0     1600\n",
       "1      800\n",
       "2      400\n",
       "3      200\n",
       "4      100\n",
       "5    10000\n",
       "Name: ne, dtype: int64"
      ]
     },
     "execution_count": 172,
     "metadata": {},
     "output_type": "execute_result"
    }
   ],
   "source": [
    "df['ne']"
   ]
  },
  {
   "cell_type": "code",
   "execution_count": 174,
   "id": "7ecb4364",
   "metadata": {
    "ExecuteTime": {
     "end_time": "2023-04-11T20:55:59.554328Z",
     "start_time": "2023-04-11T20:55:59.466256Z"
    }
   },
   "outputs": [
    {
     "data": {
      "text/html": [
       "<div>\n",
       "<style scoped>\n",
       "    .dataframe tbody tr th:only-of-type {\n",
       "        vertical-align: middle;\n",
       "    }\n",
       "\n",
       "    .dataframe tbody tr th {\n",
       "        vertical-align: top;\n",
       "    }\n",
       "\n",
       "    .dataframe thead th {\n",
       "        text-align: right;\n",
       "    }\n",
       "</style>\n",
       "<table border=\"1\" class=\"dataframe\">\n",
       "  <thead>\n",
       "    <tr style=\"text-align: right;\">\n",
       "      <th></th>\n",
       "      <th>ne</th>\n",
       "      <th>dt</th>\n",
       "    </tr>\n",
       "  </thead>\n",
       "  <tbody>\n",
       "    <tr>\n",
       "      <th>0</th>\n",
       "      <td>1600</td>\n",
       "      <td>0.000003</td>\n",
       "    </tr>\n",
       "    <tr>\n",
       "      <th>1</th>\n",
       "      <td>800</td>\n",
       "      <td>0.000005</td>\n",
       "    </tr>\n",
       "    <tr>\n",
       "      <th>2</th>\n",
       "      <td>400</td>\n",
       "      <td>0.000010</td>\n",
       "    </tr>\n",
       "    <tr>\n",
       "      <th>3</th>\n",
       "      <td>200</td>\n",
       "      <td>0.000020</td>\n",
       "    </tr>\n",
       "    <tr>\n",
       "      <th>4</th>\n",
       "      <td>100</td>\n",
       "      <td>0.000040</td>\n",
       "    </tr>\n",
       "    <tr>\n",
       "      <th>5</th>\n",
       "      <td>10000</td>\n",
       "      <td>0.000010</td>\n",
       "    </tr>\n",
       "  </tbody>\n",
       "</table>\n",
       "</div>"
      ],
      "text/plain": [
       "      ne        dt\n",
       "0   1600  0.000003\n",
       "1    800  0.000005\n",
       "2    400  0.000010\n",
       "3    200  0.000020\n",
       "4    100  0.000040\n",
       "5  10000  0.000010"
      ]
     },
     "execution_count": 174,
     "metadata": {},
     "output_type": "execute_result"
    }
   ],
   "source": [
    "df[['ne', 'dt']]"
   ]
  },
  {
   "cell_type": "code",
   "execution_count": 196,
   "id": "30f4ae9a",
   "metadata": {
    "ExecuteTime": {
     "end_time": "2023-04-11T22:15:54.964534Z",
     "start_time": "2023-04-11T22:15:54.954251Z"
    }
   },
   "outputs": [
    {
     "data": {
      "text/html": [
       "<div>\n",
       "<style scoped>\n",
       "    .dataframe tbody tr th:only-of-type {\n",
       "        vertical-align: middle;\n",
       "    }\n",
       "\n",
       "    .dataframe tbody tr th {\n",
       "        vertical-align: top;\n",
       "    }\n",
       "\n",
       "    .dataframe thead th {\n",
       "        text-align: right;\n",
       "    }\n",
       "</style>\n",
       "<table border=\"1\" class=\"dataframe\">\n",
       "  <thead>\n",
       "    <tr style=\"text-align: right;\">\n",
       "      <th></th>\n",
       "      <th>ne</th>\n",
       "      <th>d</th>\n",
       "      <th>dt</th>\n",
       "      <th>tf = 2*ne*d</th>\n",
       "      <th>nt=round(tf/dt) +1</th>\n",
       "      <th>i_flip=round(d/dt)</th>\n",
       "    </tr>\n",
       "  </thead>\n",
       "  <tbody>\n",
       "    <tr>\n",
       "      <th>0</th>\n",
       "      <td>1600</td>\n",
       "      <td>0.000013</td>\n",
       "      <td>0.000003</td>\n",
       "      <td>0.04</td>\n",
       "      <td>16001</td>\n",
       "      <td>5</td>\n",
       "    </tr>\n",
       "    <tr>\n",
       "      <th>1</th>\n",
       "      <td>800</td>\n",
       "      <td>0.000025</td>\n",
       "      <td>0.000005</td>\n",
       "      <td>0.04</td>\n",
       "      <td>8001</td>\n",
       "      <td>5</td>\n",
       "    </tr>\n",
       "  </tbody>\n",
       "</table>\n",
       "</div>"
      ],
      "text/plain": [
       "     ne         d        dt  tf = 2*ne*d  nt=round(tf/dt) +1  \\\n",
       "0  1600  0.000013  0.000003         0.04               16001   \n",
       "1   800  0.000025  0.000005         0.04                8001   \n",
       "\n",
       "   i_flip=round(d/dt)  \n",
       "0                   5  \n",
       "1                   5  "
      ]
     },
     "execution_count": 196,
     "metadata": {},
     "output_type": "execute_result"
    }
   ],
   "source": [
    "df[0:2]"
   ]
  },
  {
   "cell_type": "code",
   "execution_count": 184,
   "id": "7de0c718",
   "metadata": {
    "ExecuteTime": {
     "end_time": "2023-04-11T22:05:52.775044Z",
     "start_time": "2023-04-11T22:05:52.748444Z"
    }
   },
   "outputs": [
    {
     "data": {
      "text/html": [
       "<div>\n",
       "<style scoped>\n",
       "    .dataframe tbody tr th:only-of-type {\n",
       "        vertical-align: middle;\n",
       "    }\n",
       "\n",
       "    .dataframe tbody tr th {\n",
       "        vertical-align: top;\n",
       "    }\n",
       "\n",
       "    .dataframe thead th {\n",
       "        text-align: right;\n",
       "    }\n",
       "</style>\n",
       "<table border=\"1\" class=\"dataframe\">\n",
       "  <thead>\n",
       "    <tr style=\"text-align: right;\">\n",
       "      <th></th>\n",
       "      <th>ne</th>\n",
       "      <th>d</th>\n",
       "      <th>dt</th>\n",
       "      <th>tf = 2*ne*d</th>\n",
       "      <th>nt=round(tf/dt) +1</th>\n",
       "      <th>i_flip=round(d/dt)</th>\n",
       "    </tr>\n",
       "  </thead>\n",
       "  <tbody>\n",
       "    <tr>\n",
       "      <th>count</th>\n",
       "      <td>6.000000</td>\n",
       "      <td>6.000000</td>\n",
       "      <td>6.000000</td>\n",
       "      <td>6.000000</td>\n",
       "      <td>6.000000</td>\n",
       "      <td>6.000000</td>\n",
       "    </tr>\n",
       "    <tr>\n",
       "      <th>mean</th>\n",
       "      <td>2183.333333</td>\n",
       "      <td>0.000066</td>\n",
       "      <td>0.000015</td>\n",
       "      <td>0.066667</td>\n",
       "      <td>8501.000000</td>\n",
       "      <td>4.333333</td>\n",
       "    </tr>\n",
       "    <tr>\n",
       "      <th>std</th>\n",
       "      <td>3868.031368</td>\n",
       "      <td>0.000074</td>\n",
       "      <td>0.000014</td>\n",
       "      <td>0.065320</td>\n",
       "      <td>7842.193571</td>\n",
       "      <td>1.632993</td>\n",
       "    </tr>\n",
       "    <tr>\n",
       "      <th>min</th>\n",
       "      <td>100.000000</td>\n",
       "      <td>0.000010</td>\n",
       "      <td>0.000003</td>\n",
       "      <td>0.040000</td>\n",
       "      <td>1001.000000</td>\n",
       "      <td>1.000000</td>\n",
       "    </tr>\n",
       "    <tr>\n",
       "      <th>25%</th>\n",
       "      <td>250.000000</td>\n",
       "      <td>0.000016</td>\n",
       "      <td>0.000006</td>\n",
       "      <td>0.040000</td>\n",
       "      <td>2501.000000</td>\n",
       "      <td>5.000000</td>\n",
       "    </tr>\n",
       "    <tr>\n",
       "      <th>50%</th>\n",
       "      <td>600.000000</td>\n",
       "      <td>0.000038</td>\n",
       "      <td>0.000010</td>\n",
       "      <td>0.040000</td>\n",
       "      <td>6001.000000</td>\n",
       "      <td>5.000000</td>\n",
       "    </tr>\n",
       "    <tr>\n",
       "      <th>75%</th>\n",
       "      <td>1400.000000</td>\n",
       "      <td>0.000087</td>\n",
       "      <td>0.000018</td>\n",
       "      <td>0.040000</td>\n",
       "      <td>14001.000000</td>\n",
       "      <td>5.000000</td>\n",
       "    </tr>\n",
       "    <tr>\n",
       "      <th>max</th>\n",
       "      <td>10000.000000</td>\n",
       "      <td>0.000200</td>\n",
       "      <td>0.000040</td>\n",
       "      <td>0.200000</td>\n",
       "      <td>20001.000000</td>\n",
       "      <td>5.000000</td>\n",
       "    </tr>\n",
       "  </tbody>\n",
       "</table>\n",
       "</div>"
      ],
      "text/plain": [
       "                 ne         d        dt  tf = 2*ne*d  nt=round(tf/dt) +1  \\\n",
       "count      6.000000  6.000000  6.000000     6.000000            6.000000   \n",
       "mean    2183.333333  0.000066  0.000015     0.066667         8501.000000   \n",
       "std     3868.031368  0.000074  0.000014     0.065320         7842.193571   \n",
       "min      100.000000  0.000010  0.000003     0.040000         1001.000000   \n",
       "25%      250.000000  0.000016  0.000006     0.040000         2501.000000   \n",
       "50%      600.000000  0.000038  0.000010     0.040000         6001.000000   \n",
       "75%     1400.000000  0.000087  0.000018     0.040000        14001.000000   \n",
       "max    10000.000000  0.000200  0.000040     0.200000        20001.000000   \n",
       "\n",
       "       i_flip=round(d/dt)  \n",
       "count            6.000000  \n",
       "mean             4.333333  \n",
       "std              1.632993  \n",
       "min              1.000000  \n",
       "25%              5.000000  \n",
       "50%              5.000000  \n",
       "75%              5.000000  \n",
       "max              5.000000  "
      ]
     },
     "execution_count": 184,
     "metadata": {},
     "output_type": "execute_result"
    }
   ],
   "source": [
    "df.describe()"
   ]
  },
  {
   "cell_type": "code",
   "execution_count": 190,
   "id": "6be625f7",
   "metadata": {
    "ExecuteTime": {
     "end_time": "2023-04-11T22:14:43.220506Z",
     "start_time": "2023-04-11T22:14:43.190207Z"
    }
   },
   "outputs": [
    {
     "data": {
      "text/html": [
       "<div>\n",
       "<style scoped>\n",
       "    .dataframe tbody tr th:only-of-type {\n",
       "        vertical-align: middle;\n",
       "    }\n",
       "\n",
       "    .dataframe tbody tr th {\n",
       "        vertical-align: top;\n",
       "    }\n",
       "\n",
       "    .dataframe thead th {\n",
       "        text-align: right;\n",
       "    }\n",
       "</style>\n",
       "<table border=\"1\" class=\"dataframe\">\n",
       "  <thead>\n",
       "    <tr style=\"text-align: right;\">\n",
       "      <th></th>\n",
       "      <th>count</th>\n",
       "      <th>mean</th>\n",
       "      <th>std</th>\n",
       "      <th>min</th>\n",
       "      <th>25%</th>\n",
       "      <th>50%</th>\n",
       "      <th>75%</th>\n",
       "      <th>max</th>\n",
       "    </tr>\n",
       "  </thead>\n",
       "  <tbody>\n",
       "    <tr>\n",
       "      <th>ne</th>\n",
       "      <td>6.0</td>\n",
       "      <td>2183.333333</td>\n",
       "      <td>3868.031368</td>\n",
       "      <td>100.000000</td>\n",
       "      <td>250.000000</td>\n",
       "      <td>600.000000</td>\n",
       "      <td>1400.000000</td>\n",
       "      <td>10000.00000</td>\n",
       "    </tr>\n",
       "    <tr>\n",
       "      <th>d</th>\n",
       "      <td>6.0</td>\n",
       "      <td>0.000066</td>\n",
       "      <td>0.000074</td>\n",
       "      <td>0.000010</td>\n",
       "      <td>0.000016</td>\n",
       "      <td>0.000038</td>\n",
       "      <td>0.000087</td>\n",
       "      <td>0.00020</td>\n",
       "    </tr>\n",
       "    <tr>\n",
       "      <th>dt</th>\n",
       "      <td>6.0</td>\n",
       "      <td>0.000015</td>\n",
       "      <td>0.000014</td>\n",
       "      <td>0.000003</td>\n",
       "      <td>0.000006</td>\n",
       "      <td>0.000010</td>\n",
       "      <td>0.000018</td>\n",
       "      <td>0.00004</td>\n",
       "    </tr>\n",
       "    <tr>\n",
       "      <th>tf = 2*ne*d</th>\n",
       "      <td>6.0</td>\n",
       "      <td>0.066667</td>\n",
       "      <td>0.065320</td>\n",
       "      <td>0.040000</td>\n",
       "      <td>0.040000</td>\n",
       "      <td>0.040000</td>\n",
       "      <td>0.040000</td>\n",
       "      <td>0.20000</td>\n",
       "    </tr>\n",
       "    <tr>\n",
       "      <th>nt=round(tf/dt) +1</th>\n",
       "      <td>6.0</td>\n",
       "      <td>8501.000000</td>\n",
       "      <td>7842.193571</td>\n",
       "      <td>1001.000000</td>\n",
       "      <td>2501.000000</td>\n",
       "      <td>6001.000000</td>\n",
       "      <td>14001.000000</td>\n",
       "      <td>20001.00000</td>\n",
       "    </tr>\n",
       "    <tr>\n",
       "      <th>i_flip=round(d/dt)</th>\n",
       "      <td>6.0</td>\n",
       "      <td>4.333333</td>\n",
       "      <td>1.632993</td>\n",
       "      <td>1.000000</td>\n",
       "      <td>5.000000</td>\n",
       "      <td>5.000000</td>\n",
       "      <td>5.000000</td>\n",
       "      <td>5.00000</td>\n",
       "    </tr>\n",
       "  </tbody>\n",
       "</table>\n",
       "</div>"
      ],
      "text/plain": [
       "                    count         mean          std          min          25%  \\\n",
       "ne                    6.0  2183.333333  3868.031368   100.000000   250.000000   \n",
       "d                     6.0     0.000066     0.000074     0.000010     0.000016   \n",
       "dt                    6.0     0.000015     0.000014     0.000003     0.000006   \n",
       "tf = 2*ne*d           6.0     0.066667     0.065320     0.040000     0.040000   \n",
       "nt=round(tf/dt) +1    6.0  8501.000000  7842.193571  1001.000000  2501.000000   \n",
       "i_flip=round(d/dt)    6.0     4.333333     1.632993     1.000000     5.000000   \n",
       "\n",
       "                            50%           75%          max  \n",
       "ne                   600.000000   1400.000000  10000.00000  \n",
       "d                      0.000038      0.000087      0.00020  \n",
       "dt                     0.000010      0.000018      0.00004  \n",
       "tf = 2*ne*d            0.040000      0.040000      0.20000  \n",
       "nt=round(tf/dt) +1  6001.000000  14001.000000  20001.00000  \n",
       "i_flip=round(d/dt)     5.000000      5.000000      5.00000  "
      ]
     },
     "execution_count": 190,
     "metadata": {},
     "output_type": "execute_result"
    }
   ],
   "source": [
    "df.describe().T"
   ]
  },
  {
   "cell_type": "code",
   "execution_count": 175,
   "id": "ff186cd2",
   "metadata": {
    "ExecuteTime": {
     "end_time": "2023-04-11T20:56:51.490634Z",
     "start_time": "2023-04-11T20:56:51.479153Z"
    }
   },
   "outputs": [
    {
     "data": {
      "text/html": [
       "<div>\n",
       "<style scoped>\n",
       "    .dataframe tbody tr th:only-of-type {\n",
       "        vertical-align: middle;\n",
       "    }\n",
       "\n",
       "    .dataframe tbody tr th {\n",
       "        vertical-align: top;\n",
       "    }\n",
       "\n",
       "    .dataframe thead th {\n",
       "        text-align: right;\n",
       "    }\n",
       "</style>\n",
       "<table border=\"1\" class=\"dataframe\">\n",
       "  <thead>\n",
       "    <tr style=\"text-align: right;\">\n",
       "      <th></th>\n",
       "      <th>ne</th>\n",
       "      <th>d</th>\n",
       "      <th>dt</th>\n",
       "      <th>tf = 2*ne*d</th>\n",
       "      <th>nt=round(tf/dt) +1</th>\n",
       "      <th>i_flip=round(d/dt)</th>\n",
       "    </tr>\n",
       "  </thead>\n",
       "  <tbody>\n",
       "    <tr>\n",
       "      <th>0</th>\n",
       "      <td>1600</td>\n",
       "      <td>0.000013</td>\n",
       "      <td>0.000003</td>\n",
       "      <td>0.04</td>\n",
       "      <td>16001</td>\n",
       "      <td>5</td>\n",
       "    </tr>\n",
       "    <tr>\n",
       "      <th>1</th>\n",
       "      <td>800</td>\n",
       "      <td>0.000025</td>\n",
       "      <td>0.000005</td>\n",
       "      <td>0.04</td>\n",
       "      <td>8001</td>\n",
       "      <td>5</td>\n",
       "    </tr>\n",
       "    <tr>\n",
       "      <th>5</th>\n",
       "      <td>10000</td>\n",
       "      <td>0.000010</td>\n",
       "      <td>0.000010</td>\n",
       "      <td>0.20</td>\n",
       "      <td>20001</td>\n",
       "      <td>1</td>\n",
       "    </tr>\n",
       "  </tbody>\n",
       "</table>\n",
       "</div>"
      ],
      "text/plain": [
       "      ne         d        dt  tf = 2*ne*d  nt=round(tf/dt) +1  \\\n",
       "0   1600  0.000013  0.000003         0.04               16001   \n",
       "1    800  0.000025  0.000005         0.04                8001   \n",
       "5  10000  0.000010  0.000010         0.20               20001   \n",
       "\n",
       "   i_flip=round(d/dt)  \n",
       "0                   5  \n",
       "1                   5  \n",
       "5                   1  "
      ]
     },
     "execution_count": 175,
     "metadata": {},
     "output_type": "execute_result"
    }
   ],
   "source": [
    "df[df['ne'] > 400]"
   ]
  },
  {
   "cell_type": "code",
   "execution_count": 179,
   "id": "25381271",
   "metadata": {
    "ExecuteTime": {
     "end_time": "2023-04-11T22:02:42.743477Z",
     "start_time": "2023-04-11T22:02:42.701014Z"
    }
   },
   "outputs": [
    {
     "data": {
      "text/html": [
       "<div>\n",
       "<style scoped>\n",
       "    .dataframe tbody tr th:only-of-type {\n",
       "        vertical-align: middle;\n",
       "    }\n",
       "\n",
       "    .dataframe tbody tr th {\n",
       "        vertical-align: top;\n",
       "    }\n",
       "\n",
       "    .dataframe thead th {\n",
       "        text-align: right;\n",
       "    }\n",
       "</style>\n",
       "<table border=\"1\" class=\"dataframe\">\n",
       "  <thead>\n",
       "    <tr style=\"text-align: right;\">\n",
       "      <th></th>\n",
       "      <th>ne</th>\n",
       "      <th>d</th>\n",
       "      <th>dt</th>\n",
       "      <th>nt=round(tf/dt) +1</th>\n",
       "      <th>i_flip=round(d/dt)</th>\n",
       "    </tr>\n",
       "    <tr>\n",
       "      <th>tf = 2*ne*d</th>\n",
       "      <th></th>\n",
       "      <th></th>\n",
       "      <th></th>\n",
       "      <th></th>\n",
       "      <th></th>\n",
       "    </tr>\n",
       "  </thead>\n",
       "  <tbody>\n",
       "    <tr>\n",
       "      <th>0.04</th>\n",
       "      <td>620.0</td>\n",
       "      <td>0.000078</td>\n",
       "      <td>0.000016</td>\n",
       "      <td>6201.0</td>\n",
       "      <td>5.0</td>\n",
       "    </tr>\n",
       "    <tr>\n",
       "      <th>0.20</th>\n",
       "      <td>10000.0</td>\n",
       "      <td>0.000010</td>\n",
       "      <td>0.000010</td>\n",
       "      <td>20001.0</td>\n",
       "      <td>1.0</td>\n",
       "    </tr>\n",
       "  </tbody>\n",
       "</table>\n",
       "</div>"
      ],
      "text/plain": [
       "                  ne         d        dt  nt=round(tf/dt) +1  \\\n",
       "tf = 2*ne*d                                                    \n",
       "0.04           620.0  0.000078  0.000016              6201.0   \n",
       "0.20         10000.0  0.000010  0.000010             20001.0   \n",
       "\n",
       "             i_flip=round(d/dt)  \n",
       "tf = 2*ne*d                      \n",
       "0.04                        5.0  \n",
       "0.20                        1.0  "
      ]
     },
     "execution_count": 179,
     "metadata": {},
     "output_type": "execute_result"
    }
   ],
   "source": [
    "df.groupby('tf = 2*ne*d').mean()"
   ]
  },
  {
   "cell_type": "code",
   "execution_count": 220,
   "id": "cbf34eba",
   "metadata": {
    "ExecuteTime": {
     "end_time": "2023-04-11T22:27:27.011118Z",
     "start_time": "2023-04-11T22:27:27.002725Z"
    }
   },
   "outputs": [
    {
     "data": {
      "text/plain": [
       "array([[1.6000e+03, 1.2500e-05, 2.5000e-06, 4.0000e-02, 1.6001e+04,\n",
       "        5.0000e+00],\n",
       "       [8.0000e+02, 2.5000e-05, 5.0000e-06, 4.0000e-02, 8.0010e+03,\n",
       "        5.0000e+00],\n",
       "       [4.0000e+02, 5.0000e-05, 1.0000e-05, 4.0000e-02, 4.0010e+03,\n",
       "        5.0000e+00],\n",
       "       [2.0000e+02, 1.0000e-04, 2.0000e-05, 4.0000e-02, 2.0010e+03,\n",
       "        5.0000e+00],\n",
       "       [1.0000e+02, 2.0000e-04, 4.0000e-05, 4.0000e-02, 1.0010e+03,\n",
       "        5.0000e+00],\n",
       "       [1.0000e+04, 1.0000e-05, 1.0000e-05, 2.0000e-01, 2.0001e+04,\n",
       "        1.0000e+00]])"
      ]
     },
     "execution_count": 220,
     "metadata": {},
     "output_type": "execute_result"
    }
   ],
   "source": [
    "df_to_numpy = df.to_numpy()\n",
    "\n",
    "df_to_numpy"
   ]
  },
  {
   "cell_type": "code",
   "execution_count": 222,
   "id": "2da4f4ea",
   "metadata": {
    "ExecuteTime": {
     "end_time": "2023-04-11T22:27:54.009202Z",
     "start_time": "2023-04-11T22:27:54.004203Z"
    }
   },
   "outputs": [
    {
     "data": {
      "text/plain": [
       "(6, 6)"
      ]
     },
     "execution_count": 222,
     "metadata": {},
     "output_type": "execute_result"
    }
   ],
   "source": [
    "df_to_numpy.shape"
   ]
  },
  {
   "cell_type": "code",
   "execution_count": 203,
   "id": "65aeca61",
   "metadata": {
    "ExecuteTime": {
     "end_time": "2023-04-11T22:21:15.992917Z",
     "start_time": "2023-04-11T22:21:15.987055Z"
    }
   },
   "outputs": [],
   "source": [
    "df_new = pd.DataFrame(np.random.rand(6, 4), \n",
    "                      columns = list('ABCD'))"
   ]
  },
  {
   "cell_type": "code",
   "execution_count": 204,
   "id": "6db9c487",
   "metadata": {
    "ExecuteTime": {
     "end_time": "2023-04-11T22:21:16.328930Z",
     "start_time": "2023-04-11T22:21:16.318186Z"
    }
   },
   "outputs": [
    {
     "data": {
      "text/html": [
       "<div>\n",
       "<style scoped>\n",
       "    .dataframe tbody tr th:only-of-type {\n",
       "        vertical-align: middle;\n",
       "    }\n",
       "\n",
       "    .dataframe tbody tr th {\n",
       "        vertical-align: top;\n",
       "    }\n",
       "\n",
       "    .dataframe thead th {\n",
       "        text-align: right;\n",
       "    }\n",
       "</style>\n",
       "<table border=\"1\" class=\"dataframe\">\n",
       "  <thead>\n",
       "    <tr style=\"text-align: right;\">\n",
       "      <th></th>\n",
       "      <th>A</th>\n",
       "      <th>B</th>\n",
       "      <th>C</th>\n",
       "      <th>D</th>\n",
       "    </tr>\n",
       "  </thead>\n",
       "  <tbody>\n",
       "    <tr>\n",
       "      <th>0</th>\n",
       "      <td>0.203741</td>\n",
       "      <td>0.692749</td>\n",
       "      <td>0.451840</td>\n",
       "      <td>0.560705</td>\n",
       "    </tr>\n",
       "    <tr>\n",
       "      <th>1</th>\n",
       "      <td>0.104000</td>\n",
       "      <td>0.130790</td>\n",
       "      <td>0.025196</td>\n",
       "      <td>0.738128</td>\n",
       "    </tr>\n",
       "    <tr>\n",
       "      <th>2</th>\n",
       "      <td>0.322645</td>\n",
       "      <td>0.212514</td>\n",
       "      <td>0.496187</td>\n",
       "      <td>0.440042</td>\n",
       "    </tr>\n",
       "    <tr>\n",
       "      <th>3</th>\n",
       "      <td>0.861172</td>\n",
       "      <td>0.078197</td>\n",
       "      <td>0.006449</td>\n",
       "      <td>0.138940</td>\n",
       "    </tr>\n",
       "    <tr>\n",
       "      <th>4</th>\n",
       "      <td>0.418231</td>\n",
       "      <td>0.605941</td>\n",
       "      <td>0.971362</td>\n",
       "      <td>0.404708</td>\n",
       "    </tr>\n",
       "    <tr>\n",
       "      <th>5</th>\n",
       "      <td>0.462329</td>\n",
       "      <td>0.627503</td>\n",
       "      <td>0.550185</td>\n",
       "      <td>0.656320</td>\n",
       "    </tr>\n",
       "  </tbody>\n",
       "</table>\n",
       "</div>"
      ],
      "text/plain": [
       "          A         B         C         D\n",
       "0  0.203741  0.692749  0.451840  0.560705\n",
       "1  0.104000  0.130790  0.025196  0.738128\n",
       "2  0.322645  0.212514  0.496187  0.440042\n",
       "3  0.861172  0.078197  0.006449  0.138940\n",
       "4  0.418231  0.605941  0.971362  0.404708\n",
       "5  0.462329  0.627503  0.550185  0.656320"
      ]
     },
     "execution_count": 204,
     "metadata": {},
     "output_type": "execute_result"
    }
   ],
   "source": [
    "df_new"
   ]
  },
  {
   "cell_type": "code",
   "execution_count": 215,
   "id": "74f44b3a",
   "metadata": {
    "ExecuteTime": {
     "end_time": "2023-04-11T22:26:27.405306Z",
     "start_time": "2023-04-11T22:26:27.401355Z"
    }
   },
   "outputs": [],
   "source": [
    "index = np.linspace(1, df_new['A'].count(), df_new['A'].count())"
   ]
  },
  {
   "cell_type": "code",
   "execution_count": 216,
   "id": "41d27e65",
   "metadata": {
    "ExecuteTime": {
     "end_time": "2023-04-11T22:26:27.805557Z",
     "start_time": "2023-04-11T22:26:27.800773Z"
    }
   },
   "outputs": [],
   "source": [
    "df_new['index'] = index.tolist()"
   ]
  },
  {
   "cell_type": "code",
   "execution_count": 217,
   "id": "8a672cc9",
   "metadata": {
    "ExecuteTime": {
     "end_time": "2023-04-11T22:26:28.189142Z",
     "start_time": "2023-04-11T22:26:28.183706Z"
    }
   },
   "outputs": [],
   "source": [
    "cmove = df_new.pop('index')\n",
    "df_new.insert(0, 'index', cmove)"
   ]
  },
  {
   "cell_type": "code",
   "execution_count": 218,
   "id": "1ed0451a",
   "metadata": {
    "ExecuteTime": {
     "end_time": "2023-04-11T22:26:33.813289Z",
     "start_time": "2023-04-11T22:26:33.796676Z"
    }
   },
   "outputs": [
    {
     "data": {
      "text/html": [
       "<div>\n",
       "<style scoped>\n",
       "    .dataframe tbody tr th:only-of-type {\n",
       "        vertical-align: middle;\n",
       "    }\n",
       "\n",
       "    .dataframe tbody tr th {\n",
       "        vertical-align: top;\n",
       "    }\n",
       "\n",
       "    .dataframe thead th {\n",
       "        text-align: right;\n",
       "    }\n",
       "</style>\n",
       "<table border=\"1\" class=\"dataframe\">\n",
       "  <thead>\n",
       "    <tr style=\"text-align: right;\">\n",
       "      <th></th>\n",
       "      <th>index</th>\n",
       "      <th>A</th>\n",
       "      <th>B</th>\n",
       "      <th>C</th>\n",
       "      <th>D</th>\n",
       "    </tr>\n",
       "  </thead>\n",
       "  <tbody>\n",
       "    <tr>\n",
       "      <th>0</th>\n",
       "      <td>1.0</td>\n",
       "      <td>0.203741</td>\n",
       "      <td>0.692749</td>\n",
       "      <td>0.451840</td>\n",
       "      <td>0.560705</td>\n",
       "    </tr>\n",
       "    <tr>\n",
       "      <th>1</th>\n",
       "      <td>2.0</td>\n",
       "      <td>0.104000</td>\n",
       "      <td>0.130790</td>\n",
       "      <td>0.025196</td>\n",
       "      <td>0.738128</td>\n",
       "    </tr>\n",
       "    <tr>\n",
       "      <th>2</th>\n",
       "      <td>3.0</td>\n",
       "      <td>0.322645</td>\n",
       "      <td>0.212514</td>\n",
       "      <td>0.496187</td>\n",
       "      <td>0.440042</td>\n",
       "    </tr>\n",
       "    <tr>\n",
       "      <th>3</th>\n",
       "      <td>4.0</td>\n",
       "      <td>0.861172</td>\n",
       "      <td>0.078197</td>\n",
       "      <td>0.006449</td>\n",
       "      <td>0.138940</td>\n",
       "    </tr>\n",
       "    <tr>\n",
       "      <th>4</th>\n",
       "      <td>5.0</td>\n",
       "      <td>0.418231</td>\n",
       "      <td>0.605941</td>\n",
       "      <td>0.971362</td>\n",
       "      <td>0.404708</td>\n",
       "    </tr>\n",
       "    <tr>\n",
       "      <th>5</th>\n",
       "      <td>6.0</td>\n",
       "      <td>0.462329</td>\n",
       "      <td>0.627503</td>\n",
       "      <td>0.550185</td>\n",
       "      <td>0.656320</td>\n",
       "    </tr>\n",
       "  </tbody>\n",
       "</table>\n",
       "</div>"
      ],
      "text/plain": [
       "   index         A         B         C         D\n",
       "0    1.0  0.203741  0.692749  0.451840  0.560705\n",
       "1    2.0  0.104000  0.130790  0.025196  0.738128\n",
       "2    3.0  0.322645  0.212514  0.496187  0.440042\n",
       "3    4.0  0.861172  0.078197  0.006449  0.138940\n",
       "4    5.0  0.418231  0.605941  0.971362  0.404708\n",
       "5    6.0  0.462329  0.627503  0.550185  0.656320"
      ]
     },
     "execution_count": 218,
     "metadata": {},
     "output_type": "execute_result"
    }
   ],
   "source": [
    "df_new"
   ]
  },
  {
   "cell_type": "markdown",
   "id": "e3703b26",
   "metadata": {},
   "source": [
    "#### Matplotlib"
   ]
  },
  {
   "cell_type": "code",
   "execution_count": 226,
   "id": "31a5d59d",
   "metadata": {
    "ExecuteTime": {
     "end_time": "2023-04-11T22:38:00.399856Z",
     "start_time": "2023-04-11T22:37:59.272984Z"
    }
   },
   "outputs": [
    {
     "data": {
      "text/plain": [
       "[<matplotlib.lines.Line2D at 0x7f3254e73f40>]"
      ]
     },
     "execution_count": 226,
     "metadata": {},
     "output_type": "execute_result"
    },
    {
     "data": {
      "image/png": "[encoded data removed]",
      "text/plain": [
       "<Figure size 432x288 with 1 Axes>"
      ]
     },
     "metadata": {
      "needs_background": "light"
     },
     "output_type": "display_data"
    }
   ],
   "source": [
    "x = [1, 2, 3, 4]\n",
    "y = [1,4, 9, 16]\n",
    "\n",
    "plt.plot(x, y)"
   ]
  },
  {
   "cell_type": "code",
   "execution_count": 234,
   "id": "ee494b10",
   "metadata": {
    "ExecuteTime": {
     "end_time": "2023-04-11T22:41:06.413464Z",
     "start_time": "2023-04-11T22:41:06.227556Z"
    }
   },
   "outputs": [
    {
     "data": {
      "image/png": "[encoded data removed]",
      "text/plain": [
       "<Figure size 432x288 with 1 Axes>"
      ]
     },
     "metadata": {
      "needs_background": "light"
     },
     "output_type": "display_data"
    }
   ],
   "source": [
    "plt.plot(x, y, color='red', linestyle='dotted')\n",
    "\n",
    "plt.title('Grafico')\n",
    "plt.xlabel('x')\n",
    "plt.ylabel('y')\n",
    "\n",
    "plt.show()"
   ]
  },
  {
   "cell_type": "code",
   "execution_count": 238,
   "id": "35e07795",
   "metadata": {
    "ExecuteTime": {
     "end_time": "2023-04-11T22:43:29.454694Z",
     "start_time": "2023-04-11T22:43:29.276544Z"
    }
   },
   "outputs": [
    {
     "data": {
      "image/png": "[encoded data removed]",
      "text/plain": [
       "<Figure size 432x288 with 1 Axes>"
      ]
     },
     "metadata": {
      "needs_background": "light"
     },
     "output_type": "display_data"
    }
   ],
   "source": [
    "plt.plot(x, y, color='red', linestyle='dotted')\n",
    "\n",
    "plt.title('Grafico', fontsize=20, color='blue')\n",
    "plt.xlabel('x', fontsize=15, color='green')\n",
    "plt.ylabel('y', fontsize=15, color = 'orange')\n",
    "\n",
    "plt.show()"
   ]
  },
  {
   "cell_type": "code",
   "execution_count": 230,
   "id": "d079b5fc",
   "metadata": {
    "ExecuteTime": {
     "end_time": "2023-04-11T22:39:30.520859Z",
     "start_time": "2023-04-11T22:39:30.133587Z"
    }
   },
   "outputs": [
    {
     "data": {
      "text/plain": [
       "<matplotlib.collections.PathCollection at 0x7f3254cc8520>"
      ]
     },
     "execution_count": 230,
     "metadata": {},
     "output_type": "execute_result"
    },
    {
     "data": {
      "image/png": "[encoded data removed]",
      "text/plain": [
       "<Figure size 432x288 with 1 Axes>"
      ]
     },
     "metadata": {
      "needs_background": "light"
     },
     "output_type": "display_data"
    }
   ],
   "source": [
    "plt.scatter(x, y)"
   ]
  },
  {
   "cell_type": "code",
   "execution_count": 235,
   "id": "7d667ac0",
   "metadata": {
    "ExecuteTime": {
     "end_time": "2023-04-11T22:41:44.246290Z",
     "start_time": "2023-04-11T22:41:44.082317Z"
    }
   },
   "outputs": [
    {
     "data": {
      "image/png": "[encoded data removed]",
      "text/plain": [
       "<Figure size 432x288 with 1 Axes>"
      ]
     },
     "metadata": {
      "needs_background": "light"
     },
     "output_type": "display_data"
    }
   ],
   "source": [
    "plt.scatter(x, y, marker='x')\n",
    "\n",
    "plt.title('Grafico')\n",
    "plt.xlabel('x')\n",
    "plt.ylabel('y')\n",
    "\n",
    "plt.show()"
   ]
  },
  {
   "cell_type": "code",
   "execution_count": 232,
   "id": "f5576a31",
   "metadata": {
    "ExecuteTime": {
     "end_time": "2023-04-11T22:40:04.256930Z",
     "start_time": "2023-04-11T22:40:04.078972Z"
    }
   },
   "outputs": [
    {
     "data": {
      "text/plain": [
       "<BarContainer object of 4 artists>"
      ]
     },
     "execution_count": 232,
     "metadata": {},
     "output_type": "execute_result"
    },
    {
     "data": {
      "image/png": "[encoded data removed]",
      "text/plain": [
       "<Figure size 432x288 with 1 Axes>"
      ]
     },
     "metadata": {
      "needs_background": "light"
     },
     "output_type": "display_data"
    }
   ],
   "source": [
    "plt.bar(x, y)"
   ]
  },
  {
   "cell_type": "code",
   "execution_count": 236,
   "id": "34a9baa3",
   "metadata": {
    "ExecuteTime": {
     "end_time": "2023-04-11T22:41:57.168373Z",
     "start_time": "2023-04-11T22:41:56.997975Z"
    }
   },
   "outputs": [
    {
     "data": {
      "image/png": "[encoded data removed]",
      "text/plain": [
       "<Figure size 432x288 with 1 Axes>"
      ]
     },
     "metadata": {
      "needs_background": "light"
     },
     "output_type": "display_data"
    }
   ],
   "source": [
    "plt.bar(x, y, width = 0.5)\n",
    "\n",
    "plt.title('Grafico')\n",
    "plt.xlabel('x')\n",
    "plt.ylabel('y')\n",
    "\n",
    "plt.show()"
   ]
  },
  {
   "cell_type": "markdown",
   "id": "6bb8246b",
   "metadata": {},
   "source": [
    "------------------------------------------------------------------\n",
    "\n",
    "Aquí termina la introducción al uso de **Jupyter** y la introducción a la programación con **Python**. Existen un sin fin de bibliotecas que incorporan un sin fin de funciones que nos ayudan a resolver problemas en diferentes áreas. Conocer cuáles nos serán de utilidad conlleva tiempo y práctica. Esperamos que la información en este notebook sea de utilidad.\n",
    "\n",
    "Si tiene alguna duda o comentario no duden en contactarnos:\n",
    "\n",
    "- Dr. Martín A. Díaz Viera: mdiazv@imp.mx / mdiazv64@gmail.com\n",
    "\n",
    "- Sinai Morales Chávez: geomorales91@gmail.com\n",
    "\n",
    "- Jesus Carmona: carmona.jesus.94@gmail.com / posjcarmona@imp.mx\n",
    "\n",
    "Nos vemos en la siguiente clase que corresponde a la introducción a la programación con **FEniCS**.\n",
    "\n",
    "<img src=https://home.simula.no/~hpl/homepage/fenics-tutorial/release-1.0-nonabla/web/_static/fenics_banner.png>\n",
    "\n",
    "\n",
    "\n",
    "**¡Hasta la próxima!**"
   ]
  },
  {
   "cell_type": "code",
   "execution_count": null,
   "id": "34a7a7b4",
   "metadata": {},
   "outputs": [],
   "source": []
  }
 ],
 "metadata": {
  "kernelspec": {
   "display_name": "Python 3 (ipykernel)",
   "language": "python",
   "name": "python3"
  },
  "language_info": {
   "codemirror_mode": {
    "name": "ipython",
    "version": 3
   },
   "file_extension": ".py",
   "mimetype": "text/x-python",
   "name": "python",
   "nbconvert_exporter": "python",
   "pygments_lexer": "ipython3",
   "version": "3.8.12"
  },
  "latex_envs": {
   "LaTeX_envs_menu_present": true,
   "autoclose": false,
   "autocomplete": true,
   "bibliofile": "biblio.bib",
   "cite_by": "apalike",
   "current_citInitial": 1,
   "eqLabelWithNumbers": true,
   "eqNumInitial": 1,
   "hotkeys": {
    "equation": "Ctrl-E",
    "itemize": "Ctrl-I"
   },
   "labels_anchors": false,
   "latex_user_defs": false,
   "report_style_numbering": false,
   "user_envs_cfg": false
  },
  "toc": {
   "base_numbering": 1,
   "nav_menu": {},
   "number_sections": true,
   "sideBar": true,
   "skip_h1_title": false,
   "title_cell": "Table of Contents",
   "title_sidebar": "Contents",
   "toc_cell": false,
   "toc_position": {
    "height": "calc(100% - 180px)",
    "left": "10px",
    "top": "150px",
    "width": "287.25px"
   },
   "toc_section_display": true,
   "toc_window_display": false
  },
  "varInspector": {
   "cols": {
    "lenName": 16,
    "lenType": 16,
    "lenVar": 40
   },
   "kernels_config": {
    "python": {
     "delete_cmd_postfix": "",
     "delete_cmd_prefix": "del ",
     "library": "var_list.py",
     "varRefreshCmd": "print(var_dic_list())"
    },
    "r": {
     "delete_cmd_postfix": ") ",
     "delete_cmd_prefix": "rm(",
     "library": "var_list.r",
     "varRefreshCmd": "cat(var_dic_list()) "
    }
   },
   "types_to_exclude": [
    "module",
    "function",
    "builtin_function_or_method",
    "instance",
    "_Feature"
   ],
   "window_display": false
  }
 },
 "nbformat": 4,
 "nbformat_minor": 5
}
