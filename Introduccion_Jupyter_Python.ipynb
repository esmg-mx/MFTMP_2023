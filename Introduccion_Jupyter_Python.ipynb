{
 "cells": [
  {
   "cell_type": "markdown",
   "id": "5754eb1a",
   "metadata": {},
   "source": [
    "# Introducción a Jupyter y Python\n",
    "\n",
    "**Curso de Modelación Matemática, Numérica y Computacional de Flujo y Transporte en Medios Porosos**\n",
    "\n",
    "Profesores: Dr. Martín A. Díaz Viera, M. en C. Sinai Morales Chávez y M. en C. Jesús Carmona Pérez"
   ]
  },
  {
   "cell_type": "markdown",
   "id": "8e911849",
   "metadata": {},
   "source": [
    "Diferentes opciones para instalar Jupyter y Python se pueden consultar en [Instrucciones FEniCS.pdf]()."
   ]
  },
  {
   "cell_type": "markdown",
   "id": "8e549eb4",
   "metadata": {},
   "source": [
    "## Jupyter\n",
    "\n",
    "Jupyter es un Entorno de Desarrollo Integrado (EDI) o Integrated Development Enviroment (IDE) que contiene herramientas para facilitar la edición de código fuente, construcciones automáticas y depurado. A diferencia de otros IDE, los cuadernos de trabajo de Jupyter (Jupyter notebook) permite combinar texto, código y visualizar los resultados de una manera interactiva mediante celdas, lo cual resulta mucho más fácil de analizar resultados y compartirlos facilmente. Para más información acerca de Jupyter se recomienda visitar la [documentación de Jupyter](https://jupyter.readthedocs.io/en/latest/index.html)."
   ]
  },
  {
   "cell_type": "markdown",
   "id": "e1b0b6e7",
   "metadata": {},
   "source": [
    "### Iniciando Jupyter\n",
    "\n",
    "Utilizando Google Colab:\n",
    "- Abrir el navegador de internet\n",
    "- Abrir el enlace https://colab.research.google.com/\n",
    "- Seleccionar la opción `New notebook`\n",
    "\n",
    "Utilizando Linux (gestor de paquetes Conda):\n",
    "- Abrir una terminal con `Ctrl + Alt + T`\n",
    "- Activar el ambiente de trabajo: `conda activate _nombre_`\n",
    "- Ingresar: `jupyter notebook`\n",
    "- Se abrirá el navegador predeterminado y se mostrará la página principal también llamda **pizarrón** o **dashboard**. Para comenzar a trabajar con orden se recomienda crear una nueva carpeta de trabajo seleccionando `New`->`Folder`\n",
    "- Ahora, para crear un cuaderno de trabajo ingresamos a la carpeta creada y seleccionamos `New`->`Python 3 (ipykernel)` o el lenguaje con el que se vaya a trabajar (puede ser Pyhton, R, ect.)\n",
    "\n",
    "Los cuadernos creados en Jupyter tendran una extensión `.ipynb`. Para cambiar el nombre del cuaderno hay dos opciones:\n",
    "- `File` -> `Save as...` o `File` -> `Rename`\n",
    "- Colocar el puntero en la parte superior izquiera, a un lado del símbolo de Jupyter, en el título `Untilted`, por último pulsar click izquierdo para cambiar el nombre"
   ]
  },
  {
   "cell_type": "markdown",
   "id": "d1074df6",
   "metadata": {},
   "source": [
    "### Celdas en Jupyter\n",
    "\n",
    "Los cuadernos de trabajo de Jupyter se dividen en **celdas**, las cuales son de dos tipos:\n",
    "\n",
    "- **Celdas de código**: son celdas que permiten escribir y editar código en el lenguaje con el que se va a trabajar durante el proyecto.\n",
    "- **Celdas de texto**: son celdas que no se ejecutan pero que permiten escribir texto para comentar o describir tú trabajo. Además, resulta de mucha utilidad porque permite escribir ecuaciones en el lenjuage de $\\LaTeX$.\n",
    "\n",
    "Para conocer más utilidades con las celdas de texto, se recomienda visitar este [enlace](https://jupyter-notebook.readthedocs.io/en/stable/examples/Notebook/Working%20With%20Markdown%20Cells.html).\n",
    "\n",
    "#### Comandos de utilidad:\n",
    "- Ejecutar una celda: `Shift + Intro` \n",
    "- Crear una nueva celda: `Esc + B`\n",
    "- Convertir una celda a celda de código: `Esc + Y`\n",
    "- Convertir una celda a celda de texto: `Esc + M`\n",
    "- Eliminar una celda: `Esc + X`\n",
    "\n",
    "#### Ecuaciones en celdas de texto:\n",
    "- Escribir ecuación entre los símbolos `$ ecuacion $`: $f(x) = x^2 + 3$ \n",
    "\n",
    "Para más información acerca del lenguaje matemático de $\\LaTeX$, se recomienda visitar el siguiente [enlace](https://www.overleaf.com/learn/latex/Mathematical_expressions)."
   ]
  },
  {
   "cell_type": "markdown",
   "id": "9bae0b12",
   "metadata": {},
   "source": [
    "## Python\n",
    "\n",
    "Es un lenguaje de programación interpretado, interactivo y orientado a objetos. Cuenta con numerosas bibliotecas fáciles de implementar que hacen de Python robusto y poderoso."
   ]
  },
  {
   "cell_type": "markdown",
   "id": "659f81e8",
   "metadata": {},
   "source": [
    "### Variables\n",
    "\n",
    "Una variable es una forma de identificar, un dato que se encuentra almacenado en la memoria del ordenador. Nos permite acceder fácilmente a dicho dato para ser manipulado y transformado.\n",
    "\n",
    "Una variable en Python puede escribirse casi con cualquier letra o palabra. Sin embargo, existen ciertas restricciones al momento de definirlar, como carácteres especiales que no se pueden emplear y '*palabras reservadas*' .\n",
    "\n",
    "Como regla general, una variable no debe de iniciar con un número. Tampoco debe de contener alguno de los siguientes caractéres, por ejemplo: # $ ! % & / ( ) [ ] { } ' \" - + * ? :  ; , .\n",
    "\n",
    "Además, existen '*palabras reservadas*' que tampoco se pueden utilizar como nombres de variables. Algunas son:\n",
    "\n",
    "\\begin{array}{|c|c|c|c|} \n",
    "False & True   & and      & or    \\\\ \n",
    "not   & break  & continue & class \\\\\n",
    "def   & if     & elif     & else  \\\\ \n",
    "for   & while  & in       & is    \\\\ \n",
    "None  & lambda & return   &      \n",
    "\\end{array}\n",
    "\n",
    "Una variable puede ser de tres tipos:\n",
    "\n",
    "- entero o integer:'int'\n",
    "- decimal o 'float'\n",
    "- caracter o string:'str'\n",
    "\n",
    "Ejemplo:"
   ]
  },
  {
   "cell_type": "code",
   "execution_count": 64,
   "id": "00cf6afc",
   "metadata": {
    "ExecuteTime": {
     "end_time": "2023-03-27T18:56:47.804980Z",
     "start_time": "2023-03-27T18:56:47.796846Z"
    }
   },
   "outputs": [
    {
     "name": "stdout",
     "output_type": "stream",
     "text": [
      "5 <class 'int'>\n",
      "2.0 <class 'float'>\n",
      "10 <class 'str'>\n"
     ]
    }
   ],
   "source": [
    "a = 5\n",
    "b = 2.0\n",
    "c = '10'\n",
    "\n",
    "print(a, type(a))\n",
    "print(b, type(b))\n",
    "print(c, type(c))"
   ]
  },
  {
   "cell_type": "markdown",
   "id": "831513f9",
   "metadata": {},
   "source": [
    "Es posible convertir el tipo de variable entre ellas con las funciones: int(), float(), str().\n",
    "Ejemplo:"
   ]
  },
  {
   "cell_type": "code",
   "execution_count": 67,
   "id": "8aafccfd",
   "metadata": {
    "ExecuteTime": {
     "end_time": "2023-03-27T18:58:54.921414Z",
     "start_time": "2023-03-27T18:58:54.914459Z"
    }
   },
   "outputs": [
    {
     "name": "stdout",
     "output_type": "stream",
     "text": [
      "5.0 <class 'float'>\n",
      "2 <class 'int'>\n",
      "5 <class 'str'>\n"
     ]
    }
   ],
   "source": [
    "# entero a decimal\n",
    "\n",
    "entero_decimal = float(a)\n",
    "\n",
    "print(entero_decimal, type(entero_decimal))\n",
    "\n",
    "# decimal a entero\n",
    "\n",
    "decimal_entero = int(b)\n",
    "print(decimal_entero, type(decimal_entero))\n",
    "\n",
    "# entero a caracter\n",
    "\n",
    "entero_caracter = str(a)\n",
    "print(entero_caracter, type(entero_caracter))"
   ]
  },
  {
   "cell_type": "markdown",
   "id": "0f3b14e6",
   "metadata": {},
   "source": [
    "Cabe mencionar que no es posible realizar operaciones entre 'caracter' y 'enteros' o 'decimales'. Pero si entre 'enteros' y 'decimales'."
   ]
  },
  {
   "cell_type": "markdown",
   "id": "ebb2ce05",
   "metadata": {},
   "source": [
    "### Operaciones básicas\n",
    "\n",
    "Las operaciones básicas como adición, substracción, multiplicación o división se realizan de la siguiente manera:"
   ]
  },
  {
   "cell_type": "code",
   "execution_count": 100,
   "id": "e6886a1b",
   "metadata": {
    "ExecuteTime": {
     "end_time": "2023-03-27T19:40:24.039067Z",
     "start_time": "2023-03-27T19:40:24.030237Z"
    }
   },
   "outputs": [
    {
     "name": "stdout",
     "output_type": "stream",
     "text": [
      "suma: -3.0\n",
      "resta: -7.0\n",
      "division: -2.500000\n",
      "multiplicacion: -10.0 \n",
      "potencia: 25.0\n",
      "residuo: 1.0\n",
      "absoluto: 5\n"
     ]
    }
   ],
   "source": [
    "a = -5\n",
    "b = 2.0\n",
    "\n",
    "suma = a + b\n",
    "\n",
    "resta = a - b\n",
    "\n",
    "division = a / b\n",
    "\n",
    "multiplicacion = a * b\n",
    "\n",
    "potencia = a ** b\n",
    "\n",
    "residuo = a % b\n",
    "\n",
    "absoluto = abs(a)\n",
    "\n",
    "print('suma:', suma)\n",
    "print('resta:', resta)\n",
    "print('division: {:f}'.format(division))\n",
    "print('multiplicacion:', multiplicacion, '\\n' 'potencia:', potencia)\n",
    "print(f'residuo: {residuo}')\n",
    "print('absoluto:', absoluto)"
   ]
  },
  {
   "cell_type": "markdown",
   "id": "69d64226",
   "metadata": {},
   "source": [
    "### Bucles"
   ]
  },
  {
   "cell_type": "code",
   "execution_count": null,
   "id": "3e542f7f",
   "metadata": {},
   "outputs": [],
   "source": []
  },
  {
   "cell_type": "markdown",
   "id": "8c3de0d4",
   "metadata": {
    "ExecuteTime": {
     "end_time": "2023-03-27T18:49:19.476585Z",
     "start_time": "2023-03-27T18:49:19.469336Z"
    }
   },
   "source": [
    "### Contenedores\n",
    "\n",
    "En Python los contenedores se emplean para alojar multiples variables de varios tipos. Los básicos son:\n",
    "\n",
    "- Listas\n",
    "- Tuplas\n",
    "- Conjuntos\n",
    "- Diccionarios"
   ]
  },
  {
   "cell_type": "markdown",
   "id": "a7d64c31",
   "metadata": {
    "ExecuteTime": {
     "end_time": "2023-03-27T19:15:16.488269Z",
     "start_time": "2023-03-27T19:15:16.424604Z"
    }
   },
   "source": [
    "#### Lista\n",
    "Una lista  es una colección de variables ordenadas."
   ]
  },
  {
   "cell_type": "code",
   "execution_count": 91,
   "id": "e0776a9f",
   "metadata": {
    "ExecuteTime": {
     "end_time": "2023-03-27T19:35:51.861745Z",
     "start_time": "2023-03-27T19:35:51.856400Z"
    }
   },
   "outputs": [],
   "source": [
    "lista = [1, '2', 3.0, 4]"
   ]
  },
  {
   "cell_type": "code",
   "execution_count": null,
   "id": "40c6186a",
   "metadata": {},
   "outputs": [],
   "source": []
  },
  {
   "cell_type": "code",
   "execution_count": null,
   "id": "44564083",
   "metadata": {},
   "outputs": [],
   "source": []
  },
  {
   "cell_type": "code",
   "execution_count": null,
   "id": "f40e16fa",
   "metadata": {},
   "outputs": [],
   "source": []
  },
  {
   "cell_type": "code",
   "execution_count": null,
   "id": "321a1f36",
   "metadata": {},
   "outputs": [],
   "source": []
  },
  {
   "cell_type": "markdown",
   "id": "c5414c2b",
   "metadata": {},
   "source": [
    "#### Tupla\n",
    "\n",
    "Una tipla es  una colección ordenada de variables. Son similares a las listas, pueden alojar elementos de diferentes tipos:"
   ]
  },
  {
   "cell_type": "code",
   "execution_count": 162,
   "id": "819d8d8c",
   "metadata": {
    "ExecuteTime": {
     "end_time": "2023-03-27T20:58:38.026699Z",
     "start_time": "2023-03-27T20:58:38.020644Z"
    }
   },
   "outputs": [
    {
     "name": "stdout",
     "output_type": "stream",
     "text": [
      "(1, '2', 3.0, 4) <class 'tuple'>\n",
      "1 <class 'int'>\n",
      "2 <class 'str'>\n",
      "3.0 <class 'float'>\n"
     ]
    }
   ],
   "source": [
    "tupla = (1, '2', 3.0, 4)\n",
    "\n",
    "print(tupla, type(tupla))\n",
    "print(tupla[0], type(tupla[0]))\n",
    "print(tupla[1], type(tupla[1]))\n",
    "print(tupla[2], type(tupla[2]))"
   ]
  },
  {
   "cell_type": "markdown",
   "id": "b228e1c1",
   "metadata": {},
   "source": [
    "Sin embargo, son inmultables."
   ]
  },
  {
   "cell_type": "code",
   "execution_count": 93,
   "id": "ef5753c1",
   "metadata": {
    "ExecuteTime": {
     "end_time": "2023-03-27T19:35:56.115340Z",
     "start_time": "2023-03-27T19:35:56.088247Z"
    }
   },
   "outputs": [
    {
     "ename": "TypeError",
     "evalue": "'tuple' object does not support item assignment",
     "output_type": "error",
     "traceback": [
      "\u001b[0;31m---------------------------------------------------------------------------\u001b[0m",
      "\u001b[0;31mTypeError\u001b[0m                                 Traceback (most recent call last)",
      "Input \u001b[0;32mIn [93]\u001b[0m, in \u001b[0;36m<cell line: 1>\u001b[0;34m()\u001b[0m\n\u001b[0;32m----> 1\u001b[0m tupla[\u001b[38;5;241m1\u001b[39m] \u001b[38;5;241m=\u001b[39m \u001b[38;5;241m2\u001b[39m\n",
      "\u001b[0;31mTypeError\u001b[0m: 'tuple' object does not support item assignment"
     ]
    }
   ],
   "source": [
    "tupla[1] = 2 "
   ]
  },
  {
   "cell_type": "markdown",
   "id": "7c55202f",
   "metadata": {},
   "source": [
    "#### Conjunto\n",
    "\n",
    "Un conjunto esuna colección de variables inmutables y contienen solo elementos únicos:"
   ]
  },
  {
   "cell_type": "code",
   "execution_count": 97,
   "id": "dac4f47f",
   "metadata": {
    "ExecuteTime": {
     "end_time": "2023-03-27T19:36:36.547476Z",
     "start_time": "2023-03-27T19:36:36.541472Z"
    }
   },
   "outputs": [
    {
     "name": "stdout",
     "output_type": "stream",
     "text": [
      "{1, 3.0, 4, '2'} <class 'set'>\n",
      "{1, 3.0, 4, 5, '5', '2'} <class 'set'>\n"
     ]
    }
   ],
   "source": [
    "set_test = {1, '2', 3.0, 4}\n",
    "set_test1= {1, '2', 3.0, 4, 4, 3, '5', 5, '5', 5}\n",
    "\n",
    "print(set_test, type(set_test))\n",
    "print(set_test1, type(set_test1))"
   ]
  },
  {
   "cell_type": "markdown",
   "id": "7a79e774",
   "metadata": {},
   "source": [
    "Una lista o tupla puede convertirse en un conjunto con la función set():"
   ]
  },
  {
   "cell_type": "code",
   "execution_count": 122,
   "id": "ecfe4a1b",
   "metadata": {
    "ExecuteTime": {
     "end_time": "2023-03-27T19:58:58.388602Z",
     "start_time": "2023-03-27T19:58:58.383088Z"
    }
   },
   "outputs": [
    {
     "name": "stdout",
     "output_type": "stream",
     "text": [
      "{1, 3.0, 4, '2'} <class 'set'>\n",
      "{1, 3.0, 4, '2'} <class 'set'>\n"
     ]
    }
   ],
   "source": [
    "set_lista = set(lista)\n",
    "set_tupla = set(tupla)\n",
    "\n",
    "print(set_lista, type(set_lista))\n",
    "print(set_tupla, type(set_tupla))"
   ]
  },
  {
   "cell_type": "markdown",
   "id": "509b7a06",
   "metadata": {},
   "source": [
    "También se pueden realizar operaciones  y bucles con los conjuntos:"
   ]
  },
  {
   "cell_type": "code",
   "execution_count": 139,
   "id": "a40cc527",
   "metadata": {
    "ExecuteTime": {
     "end_time": "2023-03-27T20:38:45.566284Z",
     "start_time": "2023-03-27T20:38:45.553433Z"
    }
   },
   "outputs": [
    {
     "name": "stdout",
     "output_type": "stream",
     "text": [
      "{1, 3.0, 4, '2'} <class 'set'>\n",
      "set() <class 'set'>\n",
      "{1, 3.0, 4, '2'} <class 'set'>\n",
      "----------------------------------\n",
      "{'frio', 'calor'} <class 'set'>\n",
      "----------------------------------\n",
      "frio <class 'str'>\n",
      "calor <class 'str'>\n"
     ]
    }
   ],
   "source": [
    "union = set_lista.union(set_tupla)\n",
    "eliminar = set_lista - set_tupla\n",
    "interseccion = set_lista.intersection(set_tupla)\n",
    "\n",
    "print(union, type(union))\n",
    "print(eliminar, type(eliminar))\n",
    "print(interseccion, type(interseccion))\n",
    "\n",
    "print('----------------------------------')\n",
    "\n",
    "palabras = {'sistema', 'fuente', 'calor', 'frio'}\n",
    "conjunto = palabras - {'sistema', 'fuente'}\n",
    "print(conjunto, type(conjunto))\n",
    "\n",
    "print('----------------------------------')\n",
    "for i in conjunto:\n",
    "    print(i, type(i))"
   ]
  },
  {
   "cell_type": "markdown",
   "id": "d6f3e30f",
   "metadata": {},
   "source": [
    "#### Diccionario\n",
    "\n",
    "Es una colección de variables que se conectan con '*claves*'. "
   ]
  },
  {
   "cell_type": "code",
   "execution_count": 156,
   "id": "1a4f554a",
   "metadata": {
    "ExecuteTime": {
     "end_time": "2023-03-27T20:57:19.305524Z",
     "start_time": "2023-03-27T20:57:19.295819Z"
    }
   },
   "outputs": [
    {
     "name": "stdout",
     "output_type": "stream",
     "text": [
      "{'a': 1, 'b': 2, 'c': 3, 'd': 4} <class 'dict'>\n",
      "1 <class 'int'>\n",
      "----------------------------------\n",
      "dict_items([('a', 1), ('b', 2), ('c', 3), ('d', 4)])\n",
      "----------------------------------\n",
      "a\n",
      "b\n",
      "c\n",
      "d\n",
      "----------------------------------\n",
      "clave: a, valor: 1\n",
      "clave: b, valor: 2\n",
      "clave: c, valor: 3\n",
      "clave: d, valor: 4\n"
     ]
    }
   ],
   "source": [
    "diccionario = {'a': 1, 'b': 2, 'c': 3, 'd': 4}\n",
    "\n",
    "print(diccionario, type(diccionario))\n",
    "print(diccionario['a'], type(diccionario['a']))\n",
    "print('----------------------------------')\n",
    "print(diccionario.items())\n",
    "print('----------------------------------')\n",
    "\n",
    "for i in diccionario:\n",
    "    print(i)\n",
    "\n",
    "print('----------------------------------')\n",
    "\n",
    "for i, j in diccionario.items():\n",
    "    print(f'clave: {i}, valor: {j}')"
   ]
  },
  {
   "cell_type": "code",
   "execution_count": null,
   "id": "80cf482c",
   "metadata": {},
   "outputs": [],
   "source": []
  }
 ],
 "metadata": {
  "kernelspec": {
   "display_name": "Python 3 (ipykernel)",
   "language": "python",
   "name": "python3"
  },
  "language_info": {
   "codemirror_mode": {
    "name": "ipython",
    "version": 3
   },
   "file_extension": ".py",
   "mimetype": "text/x-python",
   "name": "python",
   "nbconvert_exporter": "python",
   "pygments_lexer": "ipython3",
   "version": "3.8.12"
  },
  "latex_envs": {
   "LaTeX_envs_menu_present": true,
   "autoclose": false,
   "autocomplete": true,
   "bibliofile": "biblio.bib",
   "cite_by": "apalike",
   "current_citInitial": 1,
   "eqLabelWithNumbers": true,
   "eqNumInitial": 1,
   "hotkeys": {
    "equation": "Ctrl-E",
    "itemize": "Ctrl-I"
   },
   "labels_anchors": false,
   "latex_user_defs": false,
   "report_style_numbering": false,
   "user_envs_cfg": false
  },
  "toc": {
   "base_numbering": 1,
   "nav_menu": {},
   "number_sections": true,
   "sideBar": true,
   "skip_h1_title": false,
   "title_cell": "Table of Contents",
   "title_sidebar": "Contents",
   "toc_cell": false,
   "toc_position": {},
   "toc_section_display": true,
   "toc_window_display": false
  },
  "varInspector": {
   "cols": {
    "lenName": 16,
    "lenType": 16,
    "lenVar": 40
   },
   "kernels_config": {
    "python": {
     "delete_cmd_postfix": "",
     "delete_cmd_prefix": "del ",
     "library": "var_list.py",
     "varRefreshCmd": "print(var_dic_list())"
    },
    "r": {
     "delete_cmd_postfix": ") ",
     "delete_cmd_prefix": "rm(",
     "library": "var_list.r",
     "varRefreshCmd": "cat(var_dic_list()) "
    }
   },
   "types_to_exclude": [
    "module",
    "function",
    "builtin_function_or_method",
    "instance",
    "_Feature"
   ],
   "window_display": false
  }
 },
 "nbformat": 4,
 "nbformat_minor": 5
}
